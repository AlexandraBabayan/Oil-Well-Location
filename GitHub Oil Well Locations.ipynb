{
 "cells": [
  {
   "cell_type": "markdown",
   "metadata": {},
   "source": [
    "# Выбор локации для скважины"
   ]
  },
  {
   "cell_type": "markdown",
   "metadata": {},
   "source": [
    "Допустим, вы работаете в добывающей компании «ГлавРосГосНефть». Нужно решить, где бурить новую скважину.\n",
    "\n",
    "Вам предоставлены пробы нефти в трёх регионах: в каждом 10 000 месторождений, где измерили качество нефти и объём её запасов. Постройте модель машинного обучения, которая поможет определить регион, где добыча принесёт наибольшую прибыль. Проанализируйте возможную прибыль и риски техникой *Bootstrap.*\n",
    "\n",
    "Шаги для выбора локации:\n",
    "\n",
    "- В избранном регионе ищут месторождения, для каждого определяют значения признаков;\n",
    "- Строят модель и оценивают объём запасов;\n",
    "- Выбирают месторождения с самым высокими оценками значений. Количество месторождений зависит от бюджета компании и стоимости разработки одной скважины;\n",
    "- Прибыль равна суммарной прибыли отобранных месторождений."
   ]
  },
  {
   "cell_type": "markdown",
   "metadata": {},
   "source": [
    "## Загрузка и подготовка данных"
   ]
  },
  {
   "cell_type": "code",
   "execution_count": 1,
   "metadata": {},
   "outputs": [],
   "source": [
    "import matplotlib.pyplot as plt\n",
    "import numpy as np\n",
    "import pandas as pd\n",
    "import random\n",
    "import seaborn as sns\n",
    "import scipy.stats as st\n",
    "state = RandomState(12345) \n",
    "RANDOM_STATE = 42\n",
    "TEST_SIZE = 0.25\n",
    "\n",
    "from matplotlib import pyplot as plt\n",
    "from numpy.random import RandomState\n",
    "\n",
    "from sklearn.linear_model import LinearRegression\n",
    "from sklearn.preprocessing import StandardScaler\n",
    "from sklearn.model_selection import train_test_split\n",
    "from sklearn.metrics import r2_score, mean_squared_error \n"
   ]
  },
  {
   "cell_type": "markdown",
   "metadata": {},
   "source": [
    "Загрузка файлов:"
   ]
  },
  {
   "cell_type": "code",
   "execution_count": 2,
   "metadata": {},
   "outputs": [],
   "source": [
    "#Первый регион:\n",
    "geo_data_0 = pd.read_csv('https://code.s3.yandex.net/datasets/geo_data_0.csv')\n",
    "\n",
    "#Второabs регион:\n",
    "geo_data_1 = pd.read_csv('https://code.s3.yandex.net/datasets/geo_data_1.csv')\n",
    "\n",
    "#Третий регион:\n",
    "geo_data_2 = pd.read_csv('https://code.s3.yandex.net/datasets/geo_data_2.csv')\n"
   ]
  },
  {
   "cell_type": "markdown",
   "metadata": {},
   "source": [
    "Ознакомимся с информацией в таблицах:"
   ]
  },
  {
   "cell_type": "code",
   "execution_count": 3,
   "metadata": {
    "scrolled": true
   },
   "outputs": [
    {
     "data": {
      "text/html": [
       "<div>\n",
       "<style scoped>\n",
       "    .dataframe tbody tr th:only-of-type {\n",
       "        vertical-align: middle;\n",
       "    }\n",
       "\n",
       "    .dataframe tbody tr th {\n",
       "        vertical-align: top;\n",
       "    }\n",
       "\n",
       "    .dataframe thead th {\n",
       "        text-align: right;\n",
       "    }\n",
       "</style>\n",
       "<table border=\"1\" class=\"dataframe\">\n",
       "  <thead>\n",
       "    <tr style=\"text-align: right;\">\n",
       "      <th></th>\n",
       "      <th>id</th>\n",
       "      <th>f0</th>\n",
       "      <th>f1</th>\n",
       "      <th>f2</th>\n",
       "      <th>product</th>\n",
       "    </tr>\n",
       "  </thead>\n",
       "  <tbody>\n",
       "    <tr>\n",
       "      <th>0</th>\n",
       "      <td>txEyH</td>\n",
       "      <td>0.705745</td>\n",
       "      <td>-0.497823</td>\n",
       "      <td>1.221170</td>\n",
       "      <td>105.280062</td>\n",
       "    </tr>\n",
       "    <tr>\n",
       "      <th>1</th>\n",
       "      <td>2acmU</td>\n",
       "      <td>1.334711</td>\n",
       "      <td>-0.340164</td>\n",
       "      <td>4.365080</td>\n",
       "      <td>73.037750</td>\n",
       "    </tr>\n",
       "    <tr>\n",
       "      <th>2</th>\n",
       "      <td>409Wp</td>\n",
       "      <td>1.022732</td>\n",
       "      <td>0.151990</td>\n",
       "      <td>1.419926</td>\n",
       "      <td>85.265647</td>\n",
       "    </tr>\n",
       "    <tr>\n",
       "      <th>3</th>\n",
       "      <td>iJLyR</td>\n",
       "      <td>-0.032172</td>\n",
       "      <td>0.139033</td>\n",
       "      <td>2.978566</td>\n",
       "      <td>168.620776</td>\n",
       "    </tr>\n",
       "    <tr>\n",
       "      <th>4</th>\n",
       "      <td>Xdl7t</td>\n",
       "      <td>1.988431</td>\n",
       "      <td>0.155413</td>\n",
       "      <td>4.751769</td>\n",
       "      <td>154.036647</td>\n",
       "    </tr>\n",
       "  </tbody>\n",
       "</table>\n",
       "</div>"
      ],
      "text/plain": [
       "      id        f0        f1        f2     product\n",
       "0  txEyH  0.705745 -0.497823  1.221170  105.280062\n",
       "1  2acmU  1.334711 -0.340164  4.365080   73.037750\n",
       "2  409Wp  1.022732  0.151990  1.419926   85.265647\n",
       "3  iJLyR -0.032172  0.139033  2.978566  168.620776\n",
       "4  Xdl7t  1.988431  0.155413  4.751769  154.036647"
      ]
     },
     "metadata": {},
     "output_type": "display_data"
    }
   ],
   "source": [
    "display(geo_data_0.head())"
   ]
  },
  {
   "cell_type": "code",
   "execution_count": 4,
   "metadata": {},
   "outputs": [
    {
     "data": {
      "text/html": [
       "<div>\n",
       "<style scoped>\n",
       "    .dataframe tbody tr th:only-of-type {\n",
       "        vertical-align: middle;\n",
       "    }\n",
       "\n",
       "    .dataframe tbody tr th {\n",
       "        vertical-align: top;\n",
       "    }\n",
       "\n",
       "    .dataframe thead th {\n",
       "        text-align: right;\n",
       "    }\n",
       "</style>\n",
       "<table border=\"1\" class=\"dataframe\">\n",
       "  <thead>\n",
       "    <tr style=\"text-align: right;\">\n",
       "      <th></th>\n",
       "      <th>id</th>\n",
       "      <th>f0</th>\n",
       "      <th>f1</th>\n",
       "      <th>f2</th>\n",
       "      <th>product</th>\n",
       "    </tr>\n",
       "  </thead>\n",
       "  <tbody>\n",
       "    <tr>\n",
       "      <th>0</th>\n",
       "      <td>kBEdx</td>\n",
       "      <td>-15.001348</td>\n",
       "      <td>-8.276000</td>\n",
       "      <td>-0.005876</td>\n",
       "      <td>3.179103</td>\n",
       "    </tr>\n",
       "    <tr>\n",
       "      <th>1</th>\n",
       "      <td>62mP7</td>\n",
       "      <td>14.272088</td>\n",
       "      <td>-3.475083</td>\n",
       "      <td>0.999183</td>\n",
       "      <td>26.953261</td>\n",
       "    </tr>\n",
       "    <tr>\n",
       "      <th>2</th>\n",
       "      <td>vyE1P</td>\n",
       "      <td>6.263187</td>\n",
       "      <td>-5.948386</td>\n",
       "      <td>5.001160</td>\n",
       "      <td>134.766305</td>\n",
       "    </tr>\n",
       "    <tr>\n",
       "      <th>3</th>\n",
       "      <td>KcrkZ</td>\n",
       "      <td>-13.081196</td>\n",
       "      <td>-11.506057</td>\n",
       "      <td>4.999415</td>\n",
       "      <td>137.945408</td>\n",
       "    </tr>\n",
       "    <tr>\n",
       "      <th>4</th>\n",
       "      <td>AHL4O</td>\n",
       "      <td>12.702195</td>\n",
       "      <td>-8.147433</td>\n",
       "      <td>5.004363</td>\n",
       "      <td>134.766305</td>\n",
       "    </tr>\n",
       "  </tbody>\n",
       "</table>\n",
       "</div>"
      ],
      "text/plain": [
       "      id         f0         f1        f2     product\n",
       "0  kBEdx -15.001348  -8.276000 -0.005876    3.179103\n",
       "1  62mP7  14.272088  -3.475083  0.999183   26.953261\n",
       "2  vyE1P   6.263187  -5.948386  5.001160  134.766305\n",
       "3  KcrkZ -13.081196 -11.506057  4.999415  137.945408\n",
       "4  AHL4O  12.702195  -8.147433  5.004363  134.766305"
      ]
     },
     "metadata": {},
     "output_type": "display_data"
    }
   ],
   "source": [
    "display(geo_data_1.head())"
   ]
  },
  {
   "cell_type": "code",
   "execution_count": 5,
   "metadata": {
    "scrolled": true
   },
   "outputs": [
    {
     "data": {
      "text/html": [
       "<div>\n",
       "<style scoped>\n",
       "    .dataframe tbody tr th:only-of-type {\n",
       "        vertical-align: middle;\n",
       "    }\n",
       "\n",
       "    .dataframe tbody tr th {\n",
       "        vertical-align: top;\n",
       "    }\n",
       "\n",
       "    .dataframe thead th {\n",
       "        text-align: right;\n",
       "    }\n",
       "</style>\n",
       "<table border=\"1\" class=\"dataframe\">\n",
       "  <thead>\n",
       "    <tr style=\"text-align: right;\">\n",
       "      <th></th>\n",
       "      <th>id</th>\n",
       "      <th>f0</th>\n",
       "      <th>f1</th>\n",
       "      <th>f2</th>\n",
       "      <th>product</th>\n",
       "    </tr>\n",
       "  </thead>\n",
       "  <tbody>\n",
       "    <tr>\n",
       "      <th>0</th>\n",
       "      <td>fwXo0</td>\n",
       "      <td>-1.146987</td>\n",
       "      <td>0.963328</td>\n",
       "      <td>-0.828965</td>\n",
       "      <td>27.758673</td>\n",
       "    </tr>\n",
       "    <tr>\n",
       "      <th>1</th>\n",
       "      <td>WJtFt</td>\n",
       "      <td>0.262778</td>\n",
       "      <td>0.269839</td>\n",
       "      <td>-2.530187</td>\n",
       "      <td>56.069697</td>\n",
       "    </tr>\n",
       "    <tr>\n",
       "      <th>2</th>\n",
       "      <td>ovLUW</td>\n",
       "      <td>0.194587</td>\n",
       "      <td>0.289035</td>\n",
       "      <td>-5.586433</td>\n",
       "      <td>62.871910</td>\n",
       "    </tr>\n",
       "    <tr>\n",
       "      <th>3</th>\n",
       "      <td>q6cA6</td>\n",
       "      <td>2.236060</td>\n",
       "      <td>-0.553760</td>\n",
       "      <td>0.930038</td>\n",
       "      <td>114.572842</td>\n",
       "    </tr>\n",
       "    <tr>\n",
       "      <th>4</th>\n",
       "      <td>WPMUX</td>\n",
       "      <td>-0.515993</td>\n",
       "      <td>1.716266</td>\n",
       "      <td>5.899011</td>\n",
       "      <td>149.600746</td>\n",
       "    </tr>\n",
       "  </tbody>\n",
       "</table>\n",
       "</div>"
      ],
      "text/plain": [
       "      id        f0        f1        f2     product\n",
       "0  fwXo0 -1.146987  0.963328 -0.828965   27.758673\n",
       "1  WJtFt  0.262778  0.269839 -2.530187   56.069697\n",
       "2  ovLUW  0.194587  0.289035 -5.586433   62.871910\n",
       "3  q6cA6  2.236060 -0.553760  0.930038  114.572842\n",
       "4  WPMUX -0.515993  1.716266  5.899011  149.600746"
      ]
     },
     "metadata": {},
     "output_type": "display_data"
    }
   ],
   "source": [
    "display(geo_data_2.head())"
   ]
  },
  {
   "cell_type": "markdown",
   "metadata": {},
   "source": [
    "Проверим типы данных в таблицах, проверим таблицы на наличие пропусков:"
   ]
  },
  {
   "cell_type": "code",
   "execution_count": 7,
   "metadata": {
    "scrolled": true
   },
   "outputs": [
    {
     "name": "stdout",
     "output_type": "stream",
     "text": [
      "<class 'pandas.core.frame.DataFrame'>\n",
      "RangeIndex: 100000 entries, 0 to 99999\n",
      "Data columns (total 5 columns):\n",
      " #   Column   Non-Null Count   Dtype  \n",
      "---  ------   --------------   -----  \n",
      " 0   id       100000 non-null  object \n",
      " 1   f0       100000 non-null  float64\n",
      " 2   f1       100000 non-null  float64\n",
      " 3   f2       100000 non-null  float64\n",
      " 4   product  100000 non-null  float64\n",
      "dtypes: float64(4), object(1)\n",
      "memory usage: 3.8+ MB\n"
     ]
    }
   ],
   "source": [
    "geo_data_0.info()"
   ]
  },
  {
   "cell_type": "code",
   "execution_count": 8,
   "metadata": {},
   "outputs": [
    {
     "name": "stdout",
     "output_type": "stream",
     "text": [
      "<class 'pandas.core.frame.DataFrame'>\n",
      "RangeIndex: 100000 entries, 0 to 99999\n",
      "Data columns (total 5 columns):\n",
      " #   Column   Non-Null Count   Dtype  \n",
      "---  ------   --------------   -----  \n",
      " 0   id       100000 non-null  object \n",
      " 1   f0       100000 non-null  float64\n",
      " 2   f1       100000 non-null  float64\n",
      " 3   f2       100000 non-null  float64\n",
      " 4   product  100000 non-null  float64\n",
      "dtypes: float64(4), object(1)\n",
      "memory usage: 3.8+ MB\n"
     ]
    }
   ],
   "source": [
    "geo_data_1.info()"
   ]
  },
  {
   "cell_type": "code",
   "execution_count": 9,
   "metadata": {
    "scrolled": true
   },
   "outputs": [
    {
     "name": "stdout",
     "output_type": "stream",
     "text": [
      "<class 'pandas.core.frame.DataFrame'>\n",
      "RangeIndex: 100000 entries, 0 to 99999\n",
      "Data columns (total 5 columns):\n",
      " #   Column   Non-Null Count   Dtype  \n",
      "---  ------   --------------   -----  \n",
      " 0   id       100000 non-null  object \n",
      " 1   f0       100000 non-null  float64\n",
      " 2   f1       100000 non-null  float64\n",
      " 3   f2       100000 non-null  float64\n",
      " 4   product  100000 non-null  float64\n",
      "dtypes: float64(4), object(1)\n",
      "memory usage: 3.8+ MB\n"
     ]
    }
   ],
   "source": [
    "geo_data_2.info()"
   ]
  },
  {
   "cell_type": "markdown",
   "metadata": {},
   "source": [
    "Перед проверкой на дубликаты переведем id в индексы."
   ]
  },
  {
   "cell_type": "code",
   "execution_count": 6,
   "metadata": {},
   "outputs": [
    {
     "data": {
      "text/html": [
       "<div>\n",
       "<style scoped>\n",
       "    .dataframe tbody tr th:only-of-type {\n",
       "        vertical-align: middle;\n",
       "    }\n",
       "\n",
       "    .dataframe tbody tr th {\n",
       "        vertical-align: top;\n",
       "    }\n",
       "\n",
       "    .dataframe thead th {\n",
       "        text-align: right;\n",
       "    }\n",
       "</style>\n",
       "<table border=\"1\" class=\"dataframe\">\n",
       "  <thead>\n",
       "    <tr style=\"text-align: right;\">\n",
       "      <th></th>\n",
       "      <th>f0</th>\n",
       "      <th>f1</th>\n",
       "      <th>f2</th>\n",
       "      <th>product</th>\n",
       "    </tr>\n",
       "    <tr>\n",
       "      <th>id</th>\n",
       "      <th></th>\n",
       "      <th></th>\n",
       "      <th></th>\n",
       "      <th></th>\n",
       "    </tr>\n",
       "  </thead>\n",
       "  <tbody>\n",
       "    <tr>\n",
       "      <th>txEyH</th>\n",
       "      <td>0.705745</td>\n",
       "      <td>-0.497823</td>\n",
       "      <td>1.221170</td>\n",
       "      <td>105.280062</td>\n",
       "    </tr>\n",
       "    <tr>\n",
       "      <th>2acmU</th>\n",
       "      <td>1.334711</td>\n",
       "      <td>-0.340164</td>\n",
       "      <td>4.365080</td>\n",
       "      <td>73.037750</td>\n",
       "    </tr>\n",
       "    <tr>\n",
       "      <th>409Wp</th>\n",
       "      <td>1.022732</td>\n",
       "      <td>0.151990</td>\n",
       "      <td>1.419926</td>\n",
       "      <td>85.265647</td>\n",
       "    </tr>\n",
       "    <tr>\n",
       "      <th>iJLyR</th>\n",
       "      <td>-0.032172</td>\n",
       "      <td>0.139033</td>\n",
       "      <td>2.978566</td>\n",
       "      <td>168.620776</td>\n",
       "    </tr>\n",
       "    <tr>\n",
       "      <th>Xdl7t</th>\n",
       "      <td>1.988431</td>\n",
       "      <td>0.155413</td>\n",
       "      <td>4.751769</td>\n",
       "      <td>154.036647</td>\n",
       "    </tr>\n",
       "  </tbody>\n",
       "</table>\n",
       "</div>"
      ],
      "text/plain": [
       "             f0        f1        f2     product\n",
       "id                                             \n",
       "txEyH  0.705745 -0.497823  1.221170  105.280062\n",
       "2acmU  1.334711 -0.340164  4.365080   73.037750\n",
       "409Wp  1.022732  0.151990  1.419926   85.265647\n",
       "iJLyR -0.032172  0.139033  2.978566  168.620776\n",
       "Xdl7t  1.988431  0.155413  4.751769  154.036647"
      ]
     },
     "metadata": {},
     "output_type": "display_data"
    }
   ],
   "source": [
    "#Первый регион\n",
    "geo_data_0 = geo_data_0.set_index('id')\n",
    "display(geo_data_0.head())"
   ]
  },
  {
   "cell_type": "code",
   "execution_count": 7,
   "metadata": {},
   "outputs": [
    {
     "data": {
      "text/html": [
       "<div>\n",
       "<style scoped>\n",
       "    .dataframe tbody tr th:only-of-type {\n",
       "        vertical-align: middle;\n",
       "    }\n",
       "\n",
       "    .dataframe tbody tr th {\n",
       "        vertical-align: top;\n",
       "    }\n",
       "\n",
       "    .dataframe thead th {\n",
       "        text-align: right;\n",
       "    }\n",
       "</style>\n",
       "<table border=\"1\" class=\"dataframe\">\n",
       "  <thead>\n",
       "    <tr style=\"text-align: right;\">\n",
       "      <th></th>\n",
       "      <th>f0</th>\n",
       "      <th>f1</th>\n",
       "      <th>f2</th>\n",
       "      <th>product</th>\n",
       "    </tr>\n",
       "    <tr>\n",
       "      <th>id</th>\n",
       "      <th></th>\n",
       "      <th></th>\n",
       "      <th></th>\n",
       "      <th></th>\n",
       "    </tr>\n",
       "  </thead>\n",
       "  <tbody>\n",
       "    <tr>\n",
       "      <th>kBEdx</th>\n",
       "      <td>-15.001348</td>\n",
       "      <td>-8.276000</td>\n",
       "      <td>-0.005876</td>\n",
       "      <td>3.179103</td>\n",
       "    </tr>\n",
       "    <tr>\n",
       "      <th>62mP7</th>\n",
       "      <td>14.272088</td>\n",
       "      <td>-3.475083</td>\n",
       "      <td>0.999183</td>\n",
       "      <td>26.953261</td>\n",
       "    </tr>\n",
       "    <tr>\n",
       "      <th>vyE1P</th>\n",
       "      <td>6.263187</td>\n",
       "      <td>-5.948386</td>\n",
       "      <td>5.001160</td>\n",
       "      <td>134.766305</td>\n",
       "    </tr>\n",
       "    <tr>\n",
       "      <th>KcrkZ</th>\n",
       "      <td>-13.081196</td>\n",
       "      <td>-11.506057</td>\n",
       "      <td>4.999415</td>\n",
       "      <td>137.945408</td>\n",
       "    </tr>\n",
       "    <tr>\n",
       "      <th>AHL4O</th>\n",
       "      <td>12.702195</td>\n",
       "      <td>-8.147433</td>\n",
       "      <td>5.004363</td>\n",
       "      <td>134.766305</td>\n",
       "    </tr>\n",
       "  </tbody>\n",
       "</table>\n",
       "</div>"
      ],
      "text/plain": [
       "              f0         f1        f2     product\n",
       "id                                               \n",
       "kBEdx -15.001348  -8.276000 -0.005876    3.179103\n",
       "62mP7  14.272088  -3.475083  0.999183   26.953261\n",
       "vyE1P   6.263187  -5.948386  5.001160  134.766305\n",
       "KcrkZ -13.081196 -11.506057  4.999415  137.945408\n",
       "AHL4O  12.702195  -8.147433  5.004363  134.766305"
      ]
     },
     "metadata": {},
     "output_type": "display_data"
    }
   ],
   "source": [
    "#Второй регион\n",
    "geo_data_1 = geo_data_1.set_index('id')\n",
    "display(geo_data_1.head())"
   ]
  },
  {
   "cell_type": "code",
   "execution_count": 8,
   "metadata": {},
   "outputs": [
    {
     "data": {
      "text/html": [
       "<div>\n",
       "<style scoped>\n",
       "    .dataframe tbody tr th:only-of-type {\n",
       "        vertical-align: middle;\n",
       "    }\n",
       "\n",
       "    .dataframe tbody tr th {\n",
       "        vertical-align: top;\n",
       "    }\n",
       "\n",
       "    .dataframe thead th {\n",
       "        text-align: right;\n",
       "    }\n",
       "</style>\n",
       "<table border=\"1\" class=\"dataframe\">\n",
       "  <thead>\n",
       "    <tr style=\"text-align: right;\">\n",
       "      <th></th>\n",
       "      <th>f0</th>\n",
       "      <th>f1</th>\n",
       "      <th>f2</th>\n",
       "      <th>product</th>\n",
       "    </tr>\n",
       "    <tr>\n",
       "      <th>id</th>\n",
       "      <th></th>\n",
       "      <th></th>\n",
       "      <th></th>\n",
       "      <th></th>\n",
       "    </tr>\n",
       "  </thead>\n",
       "  <tbody>\n",
       "    <tr>\n",
       "      <th>fwXo0</th>\n",
       "      <td>-1.146987</td>\n",
       "      <td>0.963328</td>\n",
       "      <td>-0.828965</td>\n",
       "      <td>27.758673</td>\n",
       "    </tr>\n",
       "    <tr>\n",
       "      <th>WJtFt</th>\n",
       "      <td>0.262778</td>\n",
       "      <td>0.269839</td>\n",
       "      <td>-2.530187</td>\n",
       "      <td>56.069697</td>\n",
       "    </tr>\n",
       "    <tr>\n",
       "      <th>ovLUW</th>\n",
       "      <td>0.194587</td>\n",
       "      <td>0.289035</td>\n",
       "      <td>-5.586433</td>\n",
       "      <td>62.871910</td>\n",
       "    </tr>\n",
       "    <tr>\n",
       "      <th>q6cA6</th>\n",
       "      <td>2.236060</td>\n",
       "      <td>-0.553760</td>\n",
       "      <td>0.930038</td>\n",
       "      <td>114.572842</td>\n",
       "    </tr>\n",
       "    <tr>\n",
       "      <th>WPMUX</th>\n",
       "      <td>-0.515993</td>\n",
       "      <td>1.716266</td>\n",
       "      <td>5.899011</td>\n",
       "      <td>149.600746</td>\n",
       "    </tr>\n",
       "  </tbody>\n",
       "</table>\n",
       "</div>"
      ],
      "text/plain": [
       "             f0        f1        f2     product\n",
       "id                                             \n",
       "fwXo0 -1.146987  0.963328 -0.828965   27.758673\n",
       "WJtFt  0.262778  0.269839 -2.530187   56.069697\n",
       "ovLUW  0.194587  0.289035 -5.586433   62.871910\n",
       "q6cA6  2.236060 -0.553760  0.930038  114.572842\n",
       "WPMUX -0.515993  1.716266  5.899011  149.600746"
      ]
     },
     "metadata": {},
     "output_type": "display_data"
    }
   ],
   "source": [
    "#Третий регион\n",
    "geo_data_2 = geo_data_2.set_index('id')\n",
    "display(geo_data_2.head())"
   ]
  },
  {
   "cell_type": "markdown",
   "metadata": {},
   "source": [
    "Проверим на полные дубликаты:"
   ]
  },
  {
   "cell_type": "code",
   "execution_count": 9,
   "metadata": {},
   "outputs": [
    {
     "data": {
      "text/plain": [
       "0"
      ]
     },
     "execution_count": 9,
     "metadata": {},
     "output_type": "execute_result"
    }
   ],
   "source": [
    "geo_data_0.duplicated().sum()"
   ]
  },
  {
   "cell_type": "code",
   "execution_count": 9,
   "metadata": {},
   "outputs": [
    {
     "data": {
      "text/plain": [
       "0"
      ]
     },
     "execution_count": 9,
     "metadata": {},
     "output_type": "execute_result"
    }
   ],
   "source": [
    "geo_data_1.duplicated().sum()"
   ]
  },
  {
   "cell_type": "code",
   "execution_count": 10,
   "metadata": {},
   "outputs": [
    {
     "data": {
      "text/plain": [
       "0"
      ]
     },
     "execution_count": 10,
     "metadata": {},
     "output_type": "execute_result"
    }
   ],
   "source": [
    "geo_data_2.duplicated().sum()"
   ]
  },
  {
   "cell_type": "markdown",
   "metadata": {},
   "source": [
    "Проверим на неполные дубликаты: есть ли строки, в которых повторяются все признаки, кроме id (f0, f1, f2 и запасы в скважине)."
   ]
  },
  {
   "cell_type": "code",
   "execution_count": 10,
   "metadata": {},
   "outputs": [
    {
     "data": {
      "text/html": [
       "<div>\n",
       "<style scoped>\n",
       "    .dataframe tbody tr th:only-of-type {\n",
       "        vertical-align: middle;\n",
       "    }\n",
       "\n",
       "    .dataframe tbody tr th {\n",
       "        vertical-align: top;\n",
       "    }\n",
       "\n",
       "    .dataframe thead th {\n",
       "        text-align: right;\n",
       "    }\n",
       "</style>\n",
       "<table border=\"1\" class=\"dataframe\">\n",
       "  <thead>\n",
       "    <tr style=\"text-align: right;\">\n",
       "      <th></th>\n",
       "      <th>f0</th>\n",
       "      <th>f1</th>\n",
       "      <th>f2</th>\n",
       "      <th>product</th>\n",
       "    </tr>\n",
       "    <tr>\n",
       "      <th>id</th>\n",
       "      <th></th>\n",
       "      <th></th>\n",
       "      <th></th>\n",
       "      <th></th>\n",
       "    </tr>\n",
       "  </thead>\n",
       "  <tbody>\n",
       "  </tbody>\n",
       "</table>\n",
       "</div>"
      ],
      "text/plain": [
       "Empty DataFrame\n",
       "Columns: [f0, f1, f2, product]\n",
       "Index: []"
      ]
     },
     "execution_count": 10,
     "metadata": {},
     "output_type": "execute_result"
    }
   ],
   "source": [
    "geo_data_0.loc[geo_data_0.duplicated(['f0', 'f1', 'f2'])]"
   ]
  },
  {
   "cell_type": "code",
   "execution_count": 11,
   "metadata": {},
   "outputs": [
    {
     "data": {
      "text/html": [
       "<div>\n",
       "<style scoped>\n",
       "    .dataframe tbody tr th:only-of-type {\n",
       "        vertical-align: middle;\n",
       "    }\n",
       "\n",
       "    .dataframe tbody tr th {\n",
       "        vertical-align: top;\n",
       "    }\n",
       "\n",
       "    .dataframe thead th {\n",
       "        text-align: right;\n",
       "    }\n",
       "</style>\n",
       "<table border=\"1\" class=\"dataframe\">\n",
       "  <thead>\n",
       "    <tr style=\"text-align: right;\">\n",
       "      <th></th>\n",
       "      <th>f0</th>\n",
       "      <th>f1</th>\n",
       "      <th>f2</th>\n",
       "      <th>product</th>\n",
       "    </tr>\n",
       "    <tr>\n",
       "      <th>id</th>\n",
       "      <th></th>\n",
       "      <th></th>\n",
       "      <th></th>\n",
       "      <th></th>\n",
       "    </tr>\n",
       "  </thead>\n",
       "  <tbody>\n",
       "  </tbody>\n",
       "</table>\n",
       "</div>"
      ],
      "text/plain": [
       "Empty DataFrame\n",
       "Columns: [f0, f1, f2, product]\n",
       "Index: []"
      ]
     },
     "execution_count": 11,
     "metadata": {},
     "output_type": "execute_result"
    }
   ],
   "source": [
    "geo_data_1.loc[geo_data_1.duplicated(['f0', 'f1', 'f2'])]"
   ]
  },
  {
   "cell_type": "code",
   "execution_count": 12,
   "metadata": {
    "scrolled": true
   },
   "outputs": [
    {
     "data": {
      "text/html": [
       "<div>\n",
       "<style scoped>\n",
       "    .dataframe tbody tr th:only-of-type {\n",
       "        vertical-align: middle;\n",
       "    }\n",
       "\n",
       "    .dataframe tbody tr th {\n",
       "        vertical-align: top;\n",
       "    }\n",
       "\n",
       "    .dataframe thead th {\n",
       "        text-align: right;\n",
       "    }\n",
       "</style>\n",
       "<table border=\"1\" class=\"dataframe\">\n",
       "  <thead>\n",
       "    <tr style=\"text-align: right;\">\n",
       "      <th></th>\n",
       "      <th>id</th>\n",
       "      <th>f0</th>\n",
       "      <th>f1</th>\n",
       "      <th>f2</th>\n",
       "      <th>product</th>\n",
       "    </tr>\n",
       "  </thead>\n",
       "  <tbody>\n",
       "  </tbody>\n",
       "</table>\n",
       "</div>"
      ],
      "text/plain": [
       "Empty DataFrame\n",
       "Columns: [id, f0, f1, f2, product]\n",
       "Index: []"
      ]
     },
     "execution_count": 12,
     "metadata": {},
     "output_type": "execute_result"
    }
   ],
   "source": [
    "geo_data_2.loc[geo_data_2.duplicated(['f0', 'f1', 'f2'])]"
   ]
  },
  {
   "cell_type": "markdown",
   "metadata": {},
   "source": [
    "Дубликатов в таблицах нет."
   ]
  },
  {
   "cell_type": "markdown",
   "metadata": {},
   "source": [
    "Проведем анализ количественных показателей (объемы запасво скважин) по каждому из трех регионов.  Построим гистограммы и диаграммы размаха для показателей объема запасов скважин."
   ]
  },
  {
   "cell_type": "code",
   "execution_count": 10,
   "metadata": {},
   "outputs": [
    {
     "data": {
      "image/png": "[encoded data removed]",
      "text/plain": [
       "<Figure size 2000x600 with 1 Axes>"
      ]
     },
     "metadata": {},
     "output_type": "display_data"
    },
    {
     "name": "stdout",
     "output_type": "stream",
     "text": [
      "Статистика: count    100000.000000\n",
      "mean         92.500000\n",
      "std          44.288691\n",
      "min           0.000000\n",
      "25%          56.497507\n",
      "50%          91.849972\n",
      "75%         128.564089\n",
      "max         185.364347\n",
      "Name: product, dtype: float64\n"
     ]
    },
    {
     "data": {
      "image/png": "[encoded data removed]",
      "text/plain": [
       "<Figure size 1500x200 with 1 Axes>"
      ]
     },
     "metadata": {},
     "output_type": "display_data"
    }
   ],
   "source": [
    "geo_data_0['product'].plot(kind = 'hist', bins = 30, figsize = (20, 6), grid = True, legend = True)\n",
    "plt.title('Гистограмма распределения показателя \"Объемы запасов в первом регионе\" ', fontsize=15)\n",
    "plt.xlabel('Объемы запасов в скважине, тыс. баррелей', fontsize = 15)\n",
    "plt.ylabel('Число скважин', fontsize = 15)\n",
    "plt.legend(fontsize = 15)\n",
    "plt.xticks(fontsize=12)\n",
    "plt.yticks(fontsize=12)\n",
    "plt.grid(True)\n",
    "plt.show()\n",
    "\n",
    "fig, ax = plt.subplots(figsize = (15,2))\n",
    "ax = geo_data_0[['product']].boxplot(vert = False, ax =ax)\n",
    "ax.set_title('Диаграмма размаха объемов запасов в скважинах первого региона')\n",
    "ax.set_xlabel('Объемы запасов в скважине, тыс. баррелей', fontsize = 12)\n",
    "\n",
    ";\n",
    "\n",
    "print('Статистика:', geo_data_0['product'].describe())"
   ]
  },
  {
   "cell_type": "code",
   "execution_count": 11,
   "metadata": {},
   "outputs": [
    {
     "data": {
      "image/png": "[encoded data removed]",
      "text/plain": [
       "<Figure size 2000x600 with 1 Axes>"
      ]
     },
     "metadata": {},
     "output_type": "display_data"
    },
    {
     "name": "stdout",
     "output_type": "stream",
     "text": [
      "Статистика: count    100000.000000\n",
      "mean         68.825000\n",
      "std          45.944423\n",
      "min           0.000000\n",
      "25%          26.953261\n",
      "50%          57.085625\n",
      "75%         107.813044\n",
      "max         137.945408\n",
      "Name: product, dtype: float64\n"
     ]
    },
    {
     "data": {
      "image/png": "[encoded data removed]",
      "text/plain": [
       "<Figure size 1500x200 with 1 Axes>"
      ]
     },
     "metadata": {},
     "output_type": "display_data"
    }
   ],
   "source": [
    "geo_data_1['product'].plot(kind = 'hist', bins = 30, figsize = (20, 6), grid = True, legend = True)\n",
    "plt.title('Гистограмма распределения показателя \"Объемы запасов во втором регионе\" ', fontsize=15)\n",
    "plt.xlabel('Объемы запасов в скважине, тыс. баррелей', fontsize = 15)\n",
    "plt.ylabel('Число скважин', fontsize = 15)\n",
    "plt.legend(fontsize = 15)\n",
    "plt.xticks(fontsize=12)\n",
    "plt.yticks(fontsize=12)\n",
    "plt.grid(True)\n",
    "plt.show()\n",
    "\n",
    "fig, ax = plt.subplots(figsize = (15,2))\n",
    "ax = geo_data_1[['product']].boxplot(vert = False, ax =ax)\n",
    "ax.set_title('Диаграмма размаха объемов запасов в скважинах второго региона')\n",
    "ax.set_xlabel('Объемы запасов в скважине, тыс. баррелей', fontsize = 12)\n",
    "\n",
    ";\n",
    "\n",
    "print('Статистика:', geo_data_1['product'].describe())"
   ]
  },
  {
   "cell_type": "code",
   "execution_count": 12,
   "metadata": {
    "scrolled": true
   },
   "outputs": [
    {
     "data": {
      "image/png": "[encoded data removed]",
      "text/plain": [
       "<Figure size 2000x600 with 1 Axes>"
      ]
     },
     "metadata": {},
     "output_type": "display_data"
    },
    {
     "name": "stdout",
     "output_type": "stream",
     "text": [
      "Статистика: count    100000.000000\n",
      "mean         95.000000\n",
      "std          44.749921\n",
      "min           0.000000\n",
      "25%          59.450441\n",
      "50%          94.925613\n",
      "75%         130.595027\n",
      "max         190.029838\n",
      "Name: product, dtype: float64\n"
     ]
    },
    {
     "data": {
      "image/png": "[encoded data removed]",
      "text/plain": [
       "<Figure size 1500x200 with 1 Axes>"
      ]
     },
     "metadata": {},
     "output_type": "display_data"
    }
   ],
   "source": [
    "geo_data_2['product'].plot(kind = 'hist', bins = 30, figsize = (20, 6), grid = True, legend = True)\n",
    "plt.title('Гистограмма распределения показателя \"Объемы запасов в третьем регионе\" ', fontsize=15)\n",
    "plt.xlabel('Объемы запасов в скважине, тыс. баррелей', fontsize = 15)\n",
    "plt.ylabel('Число скважин', fontsize = 15)\n",
    "plt.legend(fontsize = 15)\n",
    "plt.xticks(fontsize=12)\n",
    "plt.yticks(fontsize=12)\n",
    "plt.grid(True)\n",
    "plt.show()\n",
    "\n",
    "fig, ax = plt.subplots(figsize = (15,2))\n",
    "ax = geo_data_2[['product']].boxplot(vert = False, ax =ax)\n",
    "ax.set_title('Диаграмма размаха объемов запасов в скважинах третьего региона')\n",
    "ax.set_xlabel('Объемы запасов в скважине, тыс. баррелей', fontsize = 12)\n",
    "\n",
    ";\n",
    "\n",
    "print('Статистика:', geo_data_2['product'].describe())"
   ]
  },
  {
   "cell_type": "markdown",
   "metadata": {},
   "source": [
    "**Вывод по исследовательскому анализу данных:**\n",
    "\n",
    "В 1 и 3 регионах распределения и статистики объемов запасов близки: средние оъемы запасов равны 92 и 95 тыс.баррелей (по 1 и 3 регионам соответственно), стандартное отклонение - 45 тыс.баррелей, максимальный объем запасов - 185 и 190 тыс.баррелей. В данных по 1 и 3 региону просматриваются пики с примерно одинаковой частотой в интервалах около 50, 75, 100, 125 тыс. баррелей.\n",
    "\n",
    "Во 2 регионе характер распределения данных другой: распределение выглядит дискретным, есть короткие интервалы значений с определенной частотой, и между ними нет промежуточных значений. Это может быть объяснимо несколькими причинами: методом исследования (во 2 регионе, возможно, другие методы измерения запасов, которые дают более точные результаты) или характером залегания ископаемых, особенностями местности. В 1 и 3 регионах ископаемые могут быть распределены иначе, чем во втором. Среднее значение объема запасов во втором регионе почти на 40% меньше (на 36 тыс.баррелей), чем в 1 и 3, среднее отклонение такое же (46 тыс. баррелей), максимальный объем равен 137 тыс.баррелей, что на 28% меньше аналогичного показателя в 1 и 3 регионах."
   ]
  },
  {
   "cell_type": "markdown",
   "metadata": {},
   "source": [
    "**Подготовка данных для первого региона.**"
   ]
  },
  {
   "cell_type": "markdown",
   "metadata": {},
   "source": [
    "Разделим данные на тренировочную и тестовую выборки."
   ]
  },
  {
   "cell_type": "code",
   "execution_count": 13,
   "metadata": {},
   "outputs": [],
   "source": [
    "X_train_0, X_valid_0, y_train_0, y_valid_0 = train_test_split(\n",
    "                                             geo_data_0.drop(['product'], axis=1),\n",
    "                                             geo_data_0['product'],\n",
    "                                             test_size = TEST_SIZE, \n",
    "                                             random_state = RANDOM_STATE\n",
    ")\n"
   ]
  },
  {
   "cell_type": "markdown",
   "metadata": {},
   "source": [
    "Определим перечень столбцов для масштабирования: все столбцы количественные, поэтому кодирования категориальных признаков не требуется. Целевой признак масштабировать не нужно"
   ]
  },
  {
   "cell_type": "code",
   "execution_count": 14,
   "metadata": {},
   "outputs": [],
   "source": [
    "num_columns = ['f0', 'f1', 'f2']\n",
    "\n",
    "# создадим переменную с экземпляром класса StandardScaler()\n",
    "scaler = StandardScaler()\n",
    "\n",
    "# обучим и трансформируем количественные признаки из тренировочной выборки \n",
    "X_train_0_scaled = scaler.fit_transform(X_train_0[num_columns])\n",
    "\n",
    "# выполним преобразование количественных признаков в валидационной выборке\n",
    "X_valid_0_scaled = scaler.transform(X_valid_0[num_columns])\n",
    "\n",
    "# создаём тренировочный и валидационный датафреймы из отмасштабированных данных\n",
    "X_train_0 = pd.DataFrame(X_train_0_scaled, columns=num_columns)\n",
    "X_valid_0 = pd.DataFrame(X_valid_0_scaled, columns=num_columns)"
   ]
  },
  {
   "cell_type": "markdown",
   "metadata": {},
   "source": [
    "Проверим размеры тренировочной и валидационной выборок:"
   ]
  },
  {
   "cell_type": "code",
   "execution_count": 15,
   "metadata": {
    "scrolled": true
   },
   "outputs": [
    {
     "data": {
      "text/plain": [
       "(75000, 3)"
      ]
     },
     "metadata": {},
     "output_type": "display_data"
    },
    {
     "data": {
      "text/plain": [
       "(25000, 3)"
      ]
     },
     "execution_count": 15,
     "metadata": {},
     "output_type": "execute_result"
    }
   ],
   "source": [
    "display(X_train_0.shape)\n",
    "X_valid_0.shape"
   ]
  },
  {
   "cell_type": "markdown",
   "metadata": {},
   "source": [
    "Разделили данные по 1 региону на тренировочную и валидационную выборку в соотношении 3:1, все входные признаки количественные, отмасштабировали их с помощью StandardScaler(), проверили корректность разделения данных методом shape."
   ]
  },
  {
   "cell_type": "markdown",
   "metadata": {},
   "source": [
    "**Подготовка данных для второго региона.**"
   ]
  },
  {
   "cell_type": "markdown",
   "metadata": {},
   "source": [
    "Разделим данные на тренировочную и валидационную выборки:"
   ]
  },
  {
   "cell_type": "code",
   "execution_count": 16,
   "metadata": {},
   "outputs": [],
   "source": [
    "X_train_1, X_valid_1, y_train_1, y_valid_1 = train_test_split(\n",
    "                                             geo_data_1.drop(['product'], axis=1),\n",
    "                                             geo_data_1['product'],\n",
    "                                             test_size = TEST_SIZE, \n",
    "                                             random_state = RANDOM_STATE\n",
    ")\n"
   ]
  },
  {
   "cell_type": "code",
   "execution_count": 17,
   "metadata": {},
   "outputs": [],
   "source": [
    "num_columns = ['f0', 'f1', 'f2']\n",
    "\n",
    "# создадим переменную с экземпляром класса StandardScaler()\n",
    "scaler = StandardScaler()\n",
    "\n",
    "# обучим и трансформируем количественные признаки из тренировочной выборки \n",
    "X_train_1_scaled = scaler.fit_transform(X_train_1[num_columns])\n",
    "\n",
    "# выполним преобразование количественных признаков в валидационной выборке\n",
    "X_valid_1_scaled = scaler.transform(X_valid_1[num_columns])\n",
    "\n",
    "# создаём тренировочный и валидационный датафреймы из отмасштабированных данных\n",
    "X_train_1 = pd.DataFrame(X_train_1_scaled, columns=num_columns)\n",
    "X_valid_1 = pd.DataFrame(X_valid_1_scaled, columns=num_columns)"
   ]
  },
  {
   "cell_type": "code",
   "execution_count": 18,
   "metadata": {
    "scrolled": false
   },
   "outputs": [
    {
     "data": {
      "text/plain": [
       "(75000, 3)"
      ]
     },
     "metadata": {},
     "output_type": "display_data"
    },
    {
     "data": {
      "text/plain": [
       "(25000, 3)"
      ]
     },
     "execution_count": 18,
     "metadata": {},
     "output_type": "execute_result"
    }
   ],
   "source": [
    "display(X_train_1.shape)\n",
    "X_valid_1.shape"
   ]
  },
  {
   "cell_type": "markdown",
   "metadata": {},
   "source": [
    "Разделили данные по 2 региону на тренировочную и валидационную выборку в соотношении 3:1, все входные признаки количественные, отмасштабировали их с помощью StandardScaler(), проверили корректность разделения данных методом shape."
   ]
  },
  {
   "cell_type": "markdown",
   "metadata": {},
   "source": [
    "**Подготовка данных для третьего региона.**"
   ]
  },
  {
   "cell_type": "code",
   "execution_count": 20,
   "metadata": {},
   "outputs": [],
   "source": [
    "X_train_2, X_valid_2, y_train_2, y_valid_2 = train_test_split(\n",
    "                                             geo_data_2.drop(['product'], axis=1),\n",
    "                                             geo_data_2['product'],\n",
    "                                             test_size = TEST_SIZE, \n",
    "                                             random_state = RANDOM_STATE\n",
    ")\n"
   ]
  },
  {
   "cell_type": "code",
   "execution_count": 21,
   "metadata": {},
   "outputs": [],
   "source": [
    "num_columns = ['f0', 'f1', 'f2']\n",
    "\n",
    "# создадим переменную с экземпляром класса StandardScaler()\n",
    "scaler = StandardScaler()\n",
    "\n",
    "# обучим и трансформируем количественные признаки из тренировочной выборки \n",
    "X_train_2_scaled = scaler.fit_transform(X_train_2[num_columns])\n",
    "\n",
    "# выполним преобразование количественных признаков в валидационной выборке\n",
    "X_valid_2_scaled = scaler.transform(X_valid_2[num_columns])\n",
    "\n",
    "# создаём тренировочный и валидационный датафреймы из отмасштабированных данных\n",
    "X_train_2 = pd.DataFrame(X_train_2_scaled, columns=num_columns)\n",
    "X_valid_2 = pd.DataFrame(X_valid_2_scaled, columns=num_columns)"
   ]
  },
  {
   "cell_type": "code",
   "execution_count": 22,
   "metadata": {},
   "outputs": [
    {
     "data": {
      "text/plain": [
       "(75000, 3)"
      ]
     },
     "metadata": {},
     "output_type": "display_data"
    },
    {
     "data": {
      "text/plain": [
       "(25000, 3)"
      ]
     },
     "execution_count": 22,
     "metadata": {},
     "output_type": "execute_result"
    }
   ],
   "source": [
    "display(X_train_2.shape)\n",
    "X_valid_2.shape"
   ]
  },
  {
   "cell_type": "markdown",
   "metadata": {},
   "source": [
    "Разделили данные по 3 региону на тренировочную и валидационную выборку в соотношении 3:1, все входные признаки количественные, отмасштабировали их с помощью StandardScaler(), проверили корректность разделения данных методом shape."
   ]
  },
  {
   "cell_type": "markdown",
   "metadata": {},
   "source": [
    "## Обучение и проверка модели"
   ]
  },
  {
   "cell_type": "markdown",
   "metadata": {},
   "source": [
    "**Первый регион**\n",
    "\n",
    "Обучим модель и получим предсказания на валидационной выборке."
   ]
  },
  {
   "cell_type": "code",
   "execution_count": 23,
   "metadata": {},
   "outputs": [],
   "source": [
    "# инициализируем модель линейной регрессии\n",
    "model_lr_0  = LinearRegression() \n",
    "\n",
    "# обучим модель на тренировочных данных\n",
    "model_lr_0.fit(X_train_0, y_train_0) \n",
    "\n",
    "# получаем предсказания модели на валидационных данных \n",
    "# сохраняем результат в переменную predictions_0\n",
    "predictions_0 = model_lr_0.predict(X_valid_0)"
   ]
  },
  {
   "cell_type": "markdown",
   "metadata": {},
   "source": [
    "Создадим таблицу с предскзаниями и фактическими значениями целевого признака валидационной выборки."
   ]
  },
  {
   "cell_type": "code",
   "execution_count": 24,
   "metadata": {},
   "outputs": [
    {
     "name": "stdout",
     "output_type": "stream",
     "text": [
      "0    101.901017\n",
      "1     78.217774\n",
      "2    115.266901\n",
      "3    105.618618\n",
      "4     97.980185\n",
      "dtype: float64\n"
     ]
    }
   ],
   "source": [
    "#Series с прогнозом объема запасов:\n",
    "forecast_series_0 = pd.Series(predictions_0)\n",
    "print(forecast_series_0.head())"
   ]
  },
  {
   "cell_type": "markdown",
   "metadata": {},
   "source": [
    "Сделаем из объекта Series объект DataFrame:"
   ]
  },
  {
   "cell_type": "code",
   "execution_count": 25,
   "metadata": {
    "scrolled": false
   },
   "outputs": [
    {
     "data": {
      "text/html": [
       "<div>\n",
       "<style scoped>\n",
       "    .dataframe tbody tr th:only-of-type {\n",
       "        vertical-align: middle;\n",
       "    }\n",
       "\n",
       "    .dataframe tbody tr th {\n",
       "        vertical-align: top;\n",
       "    }\n",
       "\n",
       "    .dataframe thead th {\n",
       "        text-align: right;\n",
       "    }\n",
       "</style>\n",
       "<table border=\"1\" class=\"dataframe\">\n",
       "  <thead>\n",
       "    <tr style=\"text-align: right;\">\n",
       "      <th></th>\n",
       "      <th>product_prognose</th>\n",
       "    </tr>\n",
       "  </thead>\n",
       "  <tbody>\n",
       "    <tr>\n",
       "      <th>0</th>\n",
       "      <td>101.901017</td>\n",
       "    </tr>\n",
       "    <tr>\n",
       "      <th>1</th>\n",
       "      <td>78.217774</td>\n",
       "    </tr>\n",
       "    <tr>\n",
       "      <th>2</th>\n",
       "      <td>115.266901</td>\n",
       "    </tr>\n",
       "    <tr>\n",
       "      <th>3</th>\n",
       "      <td>105.618618</td>\n",
       "    </tr>\n",
       "    <tr>\n",
       "      <th>4</th>\n",
       "      <td>97.980185</td>\n",
       "    </tr>\n",
       "  </tbody>\n",
       "</table>\n",
       "</div>"
      ],
      "text/plain": [
       "   product_prognose\n",
       "0        101.901017\n",
       "1         78.217774\n",
       "2        115.266901\n",
       "3        105.618618\n",
       "4         97.980185"
      ]
     },
     "metadata": {},
     "output_type": "display_data"
    }
   ],
   "source": [
    "forecast_geo_data_0 = forecast_series_0.to_frame(name='product_prognose')\n",
    "display(forecast_geo_data_0.head())\n"
   ]
  },
  {
   "cell_type": "markdown",
   "metadata": {},
   "source": [
    "Добавим столбец с фактическими значениями объемов запасов из валидационной выборки."
   ]
  },
  {
   "cell_type": "code",
   "execution_count": 26,
   "metadata": {
    "scrolled": false
   },
   "outputs": [
    {
     "data": {
      "text/plain": [
       "id\n",
       "7C6bA    122.073350\n",
       "dVxsn     48.738540\n",
       "1Gm3l    131.338088\n",
       "Nzg1t     88.327757\n",
       "Z7b4F     36.959266\n",
       "Name: product, dtype: float64"
      ]
     },
     "execution_count": 26,
     "metadata": {},
     "output_type": "execute_result"
    }
   ],
   "source": [
    "y_valid_0.head()"
   ]
  },
  {
   "cell_type": "markdown",
   "metadata": {},
   "source": [
    "Сделам из Series с фактическими объемами запасов объект DataFrame:"
   ]
  },
  {
   "cell_type": "code",
   "execution_count": 27,
   "metadata": {
    "scrolled": true
   },
   "outputs": [
    {
     "data": {
      "text/html": [
       "<div>\n",
       "<style scoped>\n",
       "    .dataframe tbody tr th:only-of-type {\n",
       "        vertical-align: middle;\n",
       "    }\n",
       "\n",
       "    .dataframe tbody tr th {\n",
       "        vertical-align: top;\n",
       "    }\n",
       "\n",
       "    .dataframe thead th {\n",
       "        text-align: right;\n",
       "    }\n",
       "</style>\n",
       "<table border=\"1\" class=\"dataframe\">\n",
       "  <thead>\n",
       "    <tr style=\"text-align: right;\">\n",
       "      <th></th>\n",
       "      <th>product_fact</th>\n",
       "    </tr>\n",
       "    <tr>\n",
       "      <th>id</th>\n",
       "      <th></th>\n",
       "    </tr>\n",
       "  </thead>\n",
       "  <tbody>\n",
       "    <tr>\n",
       "      <th>7C6bA</th>\n",
       "      <td>122.073350</td>\n",
       "    </tr>\n",
       "    <tr>\n",
       "      <th>dVxsn</th>\n",
       "      <td>48.738540</td>\n",
       "    </tr>\n",
       "    <tr>\n",
       "      <th>1Gm3l</th>\n",
       "      <td>131.338088</td>\n",
       "    </tr>\n",
       "    <tr>\n",
       "      <th>Nzg1t</th>\n",
       "      <td>88.327757</td>\n",
       "    </tr>\n",
       "    <tr>\n",
       "      <th>Z7b4F</th>\n",
       "      <td>36.959266</td>\n",
       "    </tr>\n",
       "  </tbody>\n",
       "</table>\n",
       "</div>"
      ],
      "text/plain": [
       "       product_fact\n",
       "id                 \n",
       "7C6bA    122.073350\n",
       "dVxsn     48.738540\n",
       "1Gm3l    131.338088\n",
       "Nzg1t     88.327757\n",
       "Z7b4F     36.959266"
      ]
     },
     "execution_count": 27,
     "metadata": {},
     "output_type": "execute_result"
    }
   ],
   "source": [
    "y_valid_0_frame = y_valid_0.to_frame(name='product_fact')\n",
    "y_valid_0_frame.head()"
   ]
  },
  {
   "cell_type": "markdown",
   "metadata": {},
   "source": [
    "Добавим столбец с id в таблицу с прогнозом для дальнейшего объединения."
   ]
  },
  {
   "cell_type": "code",
   "execution_count": 28,
   "metadata": {},
   "outputs": [
    {
     "data": {
      "text/html": [
       "<div>\n",
       "<style scoped>\n",
       "    .dataframe tbody tr th:only-of-type {\n",
       "        vertical-align: middle;\n",
       "    }\n",
       "\n",
       "    .dataframe tbody tr th {\n",
       "        vertical-align: top;\n",
       "    }\n",
       "\n",
       "    .dataframe thead th {\n",
       "        text-align: right;\n",
       "    }\n",
       "</style>\n",
       "<table border=\"1\" class=\"dataframe\">\n",
       "  <thead>\n",
       "    <tr style=\"text-align: right;\">\n",
       "      <th></th>\n",
       "      <th>product_prognose</th>\n",
       "      <th>id</th>\n",
       "    </tr>\n",
       "  </thead>\n",
       "  <tbody>\n",
       "    <tr>\n",
       "      <th>0</th>\n",
       "      <td>101.901017</td>\n",
       "      <td>7C6bA</td>\n",
       "    </tr>\n",
       "    <tr>\n",
       "      <th>1</th>\n",
       "      <td>78.217774</td>\n",
       "      <td>dVxsn</td>\n",
       "    </tr>\n",
       "    <tr>\n",
       "      <th>2</th>\n",
       "      <td>115.266901</td>\n",
       "      <td>1Gm3l</td>\n",
       "    </tr>\n",
       "    <tr>\n",
       "      <th>3</th>\n",
       "      <td>105.618618</td>\n",
       "      <td>Nzg1t</td>\n",
       "    </tr>\n",
       "    <tr>\n",
       "      <th>4</th>\n",
       "      <td>97.980185</td>\n",
       "      <td>Z7b4F</td>\n",
       "    </tr>\n",
       "  </tbody>\n",
       "</table>\n",
       "</div>"
      ],
      "text/plain": [
       "   product_prognose     id\n",
       "0        101.901017  7C6bA\n",
       "1         78.217774  dVxsn\n",
       "2        115.266901  1Gm3l\n",
       "3        105.618618  Nzg1t\n",
       "4         97.980185  Z7b4F"
      ]
     },
     "metadata": {},
     "output_type": "display_data"
    }
   ],
   "source": [
    "forecast_geo_data_0['id'] = y_valid_0.index\n",
    "display(forecast_geo_data_0.head())"
   ]
  },
  {
   "cell_type": "markdown",
   "metadata": {},
   "source": [
    "Переведем id в индекс"
   ]
  },
  {
   "cell_type": "code",
   "execution_count": 29,
   "metadata": {},
   "outputs": [
    {
     "data": {
      "text/html": [
       "<div>\n",
       "<style scoped>\n",
       "    .dataframe tbody tr th:only-of-type {\n",
       "        vertical-align: middle;\n",
       "    }\n",
       "\n",
       "    .dataframe tbody tr th {\n",
       "        vertical-align: top;\n",
       "    }\n",
       "\n",
       "    .dataframe thead th {\n",
       "        text-align: right;\n",
       "    }\n",
       "</style>\n",
       "<table border=\"1\" class=\"dataframe\">\n",
       "  <thead>\n",
       "    <tr style=\"text-align: right;\">\n",
       "      <th></th>\n",
       "      <th>product_prognose</th>\n",
       "    </tr>\n",
       "    <tr>\n",
       "      <th>id</th>\n",
       "      <th></th>\n",
       "    </tr>\n",
       "  </thead>\n",
       "  <tbody>\n",
       "    <tr>\n",
       "      <th>7C6bA</th>\n",
       "      <td>101.901017</td>\n",
       "    </tr>\n",
       "    <tr>\n",
       "      <th>dVxsn</th>\n",
       "      <td>78.217774</td>\n",
       "    </tr>\n",
       "    <tr>\n",
       "      <th>1Gm3l</th>\n",
       "      <td>115.266901</td>\n",
       "    </tr>\n",
       "    <tr>\n",
       "      <th>Nzg1t</th>\n",
       "      <td>105.618618</td>\n",
       "    </tr>\n",
       "    <tr>\n",
       "      <th>Z7b4F</th>\n",
       "      <td>97.980185</td>\n",
       "    </tr>\n",
       "  </tbody>\n",
       "</table>\n",
       "</div>"
      ],
      "text/plain": [
       "       product_prognose\n",
       "id                     \n",
       "7C6bA        101.901017\n",
       "dVxsn         78.217774\n",
       "1Gm3l        115.266901\n",
       "Nzg1t        105.618618\n",
       "Z7b4F         97.980185"
      ]
     },
     "metadata": {},
     "output_type": "display_data"
    }
   ],
   "source": [
    "forecast_geo_data_0 = forecast_geo_data_0.set_index('id')\n",
    "display(forecast_geo_data_0.head())"
   ]
  },
  {
   "cell_type": "markdown",
   "metadata": {},
   "source": [
    "Добавим столбец с фактическими объемами запасов из фрейма y_valid_0 в таблицу с прогнозом."
   ]
  },
  {
   "cell_type": "code",
   "execution_count": 30,
   "metadata": {},
   "outputs": [
    {
     "data": {
      "text/html": [
       "<div>\n",
       "<style scoped>\n",
       "    .dataframe tbody tr th:only-of-type {\n",
       "        vertical-align: middle;\n",
       "    }\n",
       "\n",
       "    .dataframe tbody tr th {\n",
       "        vertical-align: top;\n",
       "    }\n",
       "\n",
       "    .dataframe thead th {\n",
       "        text-align: right;\n",
       "    }\n",
       "</style>\n",
       "<table border=\"1\" class=\"dataframe\">\n",
       "  <thead>\n",
       "    <tr style=\"text-align: right;\">\n",
       "      <th></th>\n",
       "      <th>product_prognose</th>\n",
       "      <th>product_fact</th>\n",
       "    </tr>\n",
       "    <tr>\n",
       "      <th>id</th>\n",
       "      <th></th>\n",
       "      <th></th>\n",
       "    </tr>\n",
       "  </thead>\n",
       "  <tbody>\n",
       "    <tr>\n",
       "      <th>7C6bA</th>\n",
       "      <td>101.901017</td>\n",
       "      <td>122.073350</td>\n",
       "    </tr>\n",
       "    <tr>\n",
       "      <th>dVxsn</th>\n",
       "      <td>78.217774</td>\n",
       "      <td>48.738540</td>\n",
       "    </tr>\n",
       "    <tr>\n",
       "      <th>1Gm3l</th>\n",
       "      <td>115.266901</td>\n",
       "      <td>131.338088</td>\n",
       "    </tr>\n",
       "    <tr>\n",
       "      <th>Nzg1t</th>\n",
       "      <td>105.618618</td>\n",
       "      <td>88.327757</td>\n",
       "    </tr>\n",
       "    <tr>\n",
       "      <th>Z7b4F</th>\n",
       "      <td>97.980185</td>\n",
       "      <td>36.959266</td>\n",
       "    </tr>\n",
       "  </tbody>\n",
       "</table>\n",
       "</div>"
      ],
      "text/plain": [
       "       product_prognose  product_fact\n",
       "id                                   \n",
       "7C6bA        101.901017    122.073350\n",
       "dVxsn         78.217774     48.738540\n",
       "1Gm3l        115.266901    131.338088\n",
       "Nzg1t        105.618618     88.327757\n",
       "Z7b4F         97.980185     36.959266"
      ]
     },
     "execution_count": 30,
     "metadata": {},
     "output_type": "execute_result"
    }
   ],
   "source": [
    "forecast_geo_data_0['product_fact'] = y_valid_0_frame['product_fact']\n",
    "forecast_geo_data_0.head()"
   ]
  },
  {
   "cell_type": "markdown",
   "metadata": {},
   "source": [
    "Посчитаем средний запас предсказанного сырья и RMSE модели:"
   ]
  },
  {
   "cell_type": "code",
   "execution_count": 31,
   "metadata": {},
   "outputs": [
    {
     "name": "stdout",
     "output_type": "stream",
     "text": [
      "Средний запас предсказанного сырья:  92.4  тыс. баррелей \n",
      " Среднее фактическое значение объемов сырья:  92.33  тыс. баррелей \n",
      " RMSE модели:  37.76\n"
     ]
    },
    {
     "name": "stderr",
     "output_type": "stream",
     "text": [
      "C:\\Users\\babay\\anaconda3\\Lib\\site-packages\\sklearn\\metrics\\_regression.py:492: FutureWarning: 'squared' is deprecated in version 1.4 and will be removed in 1.6. To calculate the root mean squared error, use the function'root_mean_squared_error'.\n",
      "  warnings.warn(\n"
     ]
    }
   ],
   "source": [
    "prognose_mean = round(forecast_geo_data_0['product_prognose'].mean(), 2)\n",
    "fact_mean = round(forecast_geo_data_0['product_fact'].mean(), 2)\n",
    "\n",
    "rmse = mean_squared_error(forecast_geo_data_0['product_fact'], forecast_geo_data_0['product_prognose'], squared = False) \n",
    "\n",
    "print('Средний запас предсказанного сырья: ', prognose_mean, ' тыс. баррелей', '\\n',\n",
    "      'Среднее фактическое значение объемов сырья: ', fact_mean, ' тыс. баррелей', '\\n',\n",
    "     'RMSE модели: ', round(rmse, 2))"
   ]
  },
  {
   "cell_type": "markdown",
   "metadata": {},
   "source": [
    "***Вывод по расчетам модели для первого региона:*** \n",
    "\n",
    "По итогам расчета модели мы получили средний прогноз объема сырья 92,4 тыс. баррелей и достачтоно высокое значение RMSE - 37,76 тыс.баррелей. Т е в среднем модель ошибается на 37,76 тыс. баррелей, что составляет почти 41% от среднего значения прогноза."
   ]
  },
  {
   "cell_type": "markdown",
   "metadata": {},
   "source": [
    "**Второй регион**\n",
    "\n",
    "Обучим модель и получим предсказания на валидационной выборке."
   ]
  },
  {
   "cell_type": "code",
   "execution_count": 32,
   "metadata": {},
   "outputs": [],
   "source": [
    "# обучим модель на тренировочных данных\n",
    "model_lr_0.fit(X_train_1, y_train_1) \n",
    "\n",
    "# получаем предсказания модели на валидационных данных \n",
    "# сохраняем результат в переменную predictions_0\n",
    "predictions_1 = model_lr_0.predict(X_valid_1)"
   ]
  },
  {
   "cell_type": "markdown",
   "metadata": {},
   "source": [
    "Создадим таблицу с предскзаниями и фактическими значениями целевого признака валидационной выборки."
   ]
  },
  {
   "cell_type": "code",
   "execution_count": 33,
   "metadata": {
    "scrolled": true
   },
   "outputs": [
    {
     "name": "stdout",
     "output_type": "stream",
     "text": [
      "0      0.844738\n",
      "1     52.921612\n",
      "2    135.110385\n",
      "3    109.494863\n",
      "4     -0.047292\n",
      "dtype: float64\n"
     ]
    }
   ],
   "source": [
    "#Series с прогнозом объема запасов:\n",
    "forecast_series_1 = pd.Series(predictions_1)\n",
    "print(forecast_series_1.head())"
   ]
  },
  {
   "cell_type": "code",
   "execution_count": 34,
   "metadata": {},
   "outputs": [
    {
     "data": {
      "text/html": [
       "<div>\n",
       "<style scoped>\n",
       "    .dataframe tbody tr th:only-of-type {\n",
       "        vertical-align: middle;\n",
       "    }\n",
       "\n",
       "    .dataframe tbody tr th {\n",
       "        vertical-align: top;\n",
       "    }\n",
       "\n",
       "    .dataframe thead th {\n",
       "        text-align: right;\n",
       "    }\n",
       "</style>\n",
       "<table border=\"1\" class=\"dataframe\">\n",
       "  <thead>\n",
       "    <tr style=\"text-align: right;\">\n",
       "      <th></th>\n",
       "      <th>product_prognose</th>\n",
       "    </tr>\n",
       "  </thead>\n",
       "  <tbody>\n",
       "    <tr>\n",
       "      <th>0</th>\n",
       "      <td>0.844738</td>\n",
       "    </tr>\n",
       "    <tr>\n",
       "      <th>1</th>\n",
       "      <td>52.921612</td>\n",
       "    </tr>\n",
       "    <tr>\n",
       "      <th>2</th>\n",
       "      <td>135.110385</td>\n",
       "    </tr>\n",
       "    <tr>\n",
       "      <th>3</th>\n",
       "      <td>109.494863</td>\n",
       "    </tr>\n",
       "    <tr>\n",
       "      <th>4</th>\n",
       "      <td>-0.047292</td>\n",
       "    </tr>\n",
       "  </tbody>\n",
       "</table>\n",
       "</div>"
      ],
      "text/plain": [
       "   product_prognose\n",
       "0          0.844738\n",
       "1         52.921612\n",
       "2        135.110385\n",
       "3        109.494863\n",
       "4         -0.047292"
      ]
     },
     "metadata": {},
     "output_type": "display_data"
    }
   ],
   "source": [
    "forecast_geo_data_1 = forecast_series_1.to_frame(name='product_prognose')\n",
    "display(forecast_geo_data_1.head())"
   ]
  },
  {
   "cell_type": "markdown",
   "metadata": {},
   "source": [
    "Добавим столбец с фактическими значениями объемов запасов из валидационной выборки."
   ]
  },
  {
   "cell_type": "code",
   "execution_count": 35,
   "metadata": {},
   "outputs": [
    {
     "data": {
      "text/html": [
       "<div>\n",
       "<style scoped>\n",
       "    .dataframe tbody tr th:only-of-type {\n",
       "        vertical-align: middle;\n",
       "    }\n",
       "\n",
       "    .dataframe tbody tr th {\n",
       "        vertical-align: top;\n",
       "    }\n",
       "\n",
       "    .dataframe thead th {\n",
       "        text-align: right;\n",
       "    }\n",
       "</style>\n",
       "<table border=\"1\" class=\"dataframe\">\n",
       "  <thead>\n",
       "    <tr style=\"text-align: right;\">\n",
       "      <th></th>\n",
       "      <th>product_fact</th>\n",
       "    </tr>\n",
       "    <tr>\n",
       "      <th>id</th>\n",
       "      <th></th>\n",
       "    </tr>\n",
       "  </thead>\n",
       "  <tbody>\n",
       "    <tr>\n",
       "      <th>fYVDK</th>\n",
       "      <td>0.000000</td>\n",
       "    </tr>\n",
       "    <tr>\n",
       "      <th>3SQcq</th>\n",
       "      <td>53.906522</td>\n",
       "    </tr>\n",
       "    <tr>\n",
       "      <th>hQ1gJ</th>\n",
       "      <td>134.766305</td>\n",
       "    </tr>\n",
       "    <tr>\n",
       "      <th>Y4vux</th>\n",
       "      <td>107.813044</td>\n",
       "    </tr>\n",
       "    <tr>\n",
       "      <th>H1NUw</th>\n",
       "      <td>0.000000</td>\n",
       "    </tr>\n",
       "  </tbody>\n",
       "</table>\n",
       "</div>"
      ],
      "text/plain": [
       "       product_fact\n",
       "id                 \n",
       "fYVDK      0.000000\n",
       "3SQcq     53.906522\n",
       "hQ1gJ    134.766305\n",
       "Y4vux    107.813044\n",
       "H1NUw      0.000000"
      ]
     },
     "execution_count": 35,
     "metadata": {},
     "output_type": "execute_result"
    }
   ],
   "source": [
    "y_valid_1_frame = y_valid_1.to_frame(name='product_fact')\n",
    "y_valid_1_frame.head()"
   ]
  },
  {
   "cell_type": "markdown",
   "metadata": {},
   "source": [
    "Добавим в таблицу с прогнозом столбец с id и переведем id в индекс"
   ]
  },
  {
   "cell_type": "code",
   "execution_count": 36,
   "metadata": {},
   "outputs": [
    {
     "data": {
      "text/html": [
       "<div>\n",
       "<style scoped>\n",
       "    .dataframe tbody tr th:only-of-type {\n",
       "        vertical-align: middle;\n",
       "    }\n",
       "\n",
       "    .dataframe tbody tr th {\n",
       "        vertical-align: top;\n",
       "    }\n",
       "\n",
       "    .dataframe thead th {\n",
       "        text-align: right;\n",
       "    }\n",
       "</style>\n",
       "<table border=\"1\" class=\"dataframe\">\n",
       "  <thead>\n",
       "    <tr style=\"text-align: right;\">\n",
       "      <th></th>\n",
       "      <th>product_prognose</th>\n",
       "    </tr>\n",
       "    <tr>\n",
       "      <th>id</th>\n",
       "      <th></th>\n",
       "    </tr>\n",
       "  </thead>\n",
       "  <tbody>\n",
       "    <tr>\n",
       "      <th>fYVDK</th>\n",
       "      <td>0.844738</td>\n",
       "    </tr>\n",
       "    <tr>\n",
       "      <th>3SQcq</th>\n",
       "      <td>52.921612</td>\n",
       "    </tr>\n",
       "    <tr>\n",
       "      <th>hQ1gJ</th>\n",
       "      <td>135.110385</td>\n",
       "    </tr>\n",
       "    <tr>\n",
       "      <th>Y4vux</th>\n",
       "      <td>109.494863</td>\n",
       "    </tr>\n",
       "    <tr>\n",
       "      <th>H1NUw</th>\n",
       "      <td>-0.047292</td>\n",
       "    </tr>\n",
       "  </tbody>\n",
       "</table>\n",
       "</div>"
      ],
      "text/plain": [
       "       product_prognose\n",
       "id                     \n",
       "fYVDK          0.844738\n",
       "3SQcq         52.921612\n",
       "hQ1gJ        135.110385\n",
       "Y4vux        109.494863\n",
       "H1NUw         -0.047292"
      ]
     },
     "metadata": {},
     "output_type": "display_data"
    }
   ],
   "source": [
    "forecast_geo_data_1['id'] = y_valid_1.index\n",
    "forecast_geo_data_1 = forecast_geo_data_1.set_index('id')\n",
    "display(forecast_geo_data_1.head())"
   ]
  },
  {
   "cell_type": "markdown",
   "metadata": {},
   "source": [
    "Добавим столбец с фактическим объемом запасов из y_valid_1 в таблицу с прогнозом:"
   ]
  },
  {
   "cell_type": "code",
   "execution_count": 37,
   "metadata": {
    "scrolled": true
   },
   "outputs": [
    {
     "data": {
      "text/html": [
       "<div>\n",
       "<style scoped>\n",
       "    .dataframe tbody tr th:only-of-type {\n",
       "        vertical-align: middle;\n",
       "    }\n",
       "\n",
       "    .dataframe tbody tr th {\n",
       "        vertical-align: top;\n",
       "    }\n",
       "\n",
       "    .dataframe thead th {\n",
       "        text-align: right;\n",
       "    }\n",
       "</style>\n",
       "<table border=\"1\" class=\"dataframe\">\n",
       "  <thead>\n",
       "    <tr style=\"text-align: right;\">\n",
       "      <th></th>\n",
       "      <th>product_prognose</th>\n",
       "      <th>product_fact</th>\n",
       "    </tr>\n",
       "    <tr>\n",
       "      <th>id</th>\n",
       "      <th></th>\n",
       "      <th></th>\n",
       "    </tr>\n",
       "  </thead>\n",
       "  <tbody>\n",
       "    <tr>\n",
       "      <th>fYVDK</th>\n",
       "      <td>0.844738</td>\n",
       "      <td>0.000000</td>\n",
       "    </tr>\n",
       "    <tr>\n",
       "      <th>3SQcq</th>\n",
       "      <td>52.921612</td>\n",
       "      <td>53.906522</td>\n",
       "    </tr>\n",
       "    <tr>\n",
       "      <th>hQ1gJ</th>\n",
       "      <td>135.110385</td>\n",
       "      <td>134.766305</td>\n",
       "    </tr>\n",
       "    <tr>\n",
       "      <th>Y4vux</th>\n",
       "      <td>109.494863</td>\n",
       "      <td>107.813044</td>\n",
       "    </tr>\n",
       "    <tr>\n",
       "      <th>H1NUw</th>\n",
       "      <td>-0.047292</td>\n",
       "      <td>0.000000</td>\n",
       "    </tr>\n",
       "  </tbody>\n",
       "</table>\n",
       "</div>"
      ],
      "text/plain": [
       "       product_prognose  product_fact\n",
       "id                                   \n",
       "fYVDK          0.844738      0.000000\n",
       "3SQcq         52.921612     53.906522\n",
       "hQ1gJ        135.110385    134.766305\n",
       "Y4vux        109.494863    107.813044\n",
       "H1NUw         -0.047292      0.000000"
      ]
     },
     "execution_count": 37,
     "metadata": {},
     "output_type": "execute_result"
    }
   ],
   "source": [
    "forecast_geo_data_1['product_fact'] = y_valid_1_frame['product_fact']\n",
    "forecast_geo_data_1.head()"
   ]
  },
  {
   "cell_type": "markdown",
   "metadata": {},
   "source": [
    "Посчитаем средний прогноз запасов сырья и RMSE модели"
   ]
  },
  {
   "cell_type": "code",
   "execution_count": 38,
   "metadata": {},
   "outputs": [
    {
     "name": "stdout",
     "output_type": "stream",
     "text": [
      "Средний запас предсказанного сырья:  68.71  тыс. баррелей \n",
      " Среднее фактическое значение объемов сырья:  68.73  тыс. баррелей \n",
      " RMSE модели:  0.89\n"
     ]
    },
    {
     "name": "stderr",
     "output_type": "stream",
     "text": [
      "C:\\Users\\babay\\anaconda3\\Lib\\site-packages\\sklearn\\metrics\\_regression.py:492: FutureWarning: 'squared' is deprecated in version 1.4 and will be removed in 1.6. To calculate the root mean squared error, use the function'root_mean_squared_error'.\n",
      "  warnings.warn(\n"
     ]
    }
   ],
   "source": [
    "prognose_mean_1 = round(forecast_geo_data_1['product_prognose'].mean(), 2)\n",
    "fact_mean_1 = round(forecast_geo_data_1['product_fact'].mean(), 2)\n",
    "\n",
    "rmse_1 = mean_squared_error(forecast_geo_data_1['product_fact'], forecast_geo_data_1['product_prognose'], squared = False) \n",
    "\n",
    "print('Средний запас предсказанного сырья: ', prognose_mean_1, ' тыс. баррелей', '\\n',\n",
    "      'Среднее фактическое значение объемов сырья: ', fact_mean_1, ' тыс. баррелей', '\\n',\n",
    "     'RMSE модели: ', round(rmse_1, 2))"
   ]
  },
  {
   "cell_type": "markdown",
   "metadata": {},
   "source": [
    "***Вывод по расчетам модели для второго региона:***\n",
    "\n",
    "По итогам расчета модели мы получили средний прогноз объема сырья 68,71 тыс. баррелей и низкое значение RMSE - 0,89 тыс.баррелей. Т е в среднем модель ошибается всего на 0,89 тыс. баррелей. Прогноз объемов существенно ниже, чем в первом регионе, но ошибка составляет всего 1,3% от среднего значения (в прогнозе по первому региону ошибка составляла почти 41% от среднего значения."
   ]
  },
  {
   "cell_type": "markdown",
   "metadata": {},
   "source": [
    "**Третий регион**\n",
    "\n",
    "Делаем по аналогии с предыдущими."
   ]
  },
  {
   "cell_type": "code",
   "execution_count": 39,
   "metadata": {},
   "outputs": [],
   "source": [
    "# обучим модель на тренировочных данных\n",
    "model_lr_0.fit(X_train_2, y_train_2) \n",
    "\n",
    "# получаем предсказания модели на валидационных данных \n",
    "# сохраняем результат в переменную predictions_0\n",
    "predictions_2 = model_lr_0.predict(X_valid_2)"
   ]
  },
  {
   "cell_type": "code",
   "execution_count": 40,
   "metadata": {},
   "outputs": [
    {
     "data": {
      "text/html": [
       "<div>\n",
       "<style scoped>\n",
       "    .dataframe tbody tr th:only-of-type {\n",
       "        vertical-align: middle;\n",
       "    }\n",
       "\n",
       "    .dataframe tbody tr th {\n",
       "        vertical-align: top;\n",
       "    }\n",
       "\n",
       "    .dataframe thead th {\n",
       "        text-align: right;\n",
       "    }\n",
       "</style>\n",
       "<table border=\"1\" class=\"dataframe\">\n",
       "  <thead>\n",
       "    <tr style=\"text-align: right;\">\n",
       "      <th></th>\n",
       "      <th>product_prognose</th>\n",
       "    </tr>\n",
       "  </thead>\n",
       "  <tbody>\n",
       "    <tr>\n",
       "      <th>0</th>\n",
       "      <td>98.301916</td>\n",
       "    </tr>\n",
       "    <tr>\n",
       "      <th>1</th>\n",
       "      <td>101.592461</td>\n",
       "    </tr>\n",
       "    <tr>\n",
       "      <th>2</th>\n",
       "      <td>52.449099</td>\n",
       "    </tr>\n",
       "    <tr>\n",
       "      <th>3</th>\n",
       "      <td>109.922127</td>\n",
       "    </tr>\n",
       "    <tr>\n",
       "      <th>4</th>\n",
       "      <td>72.411847</td>\n",
       "    </tr>\n",
       "  </tbody>\n",
       "</table>\n",
       "</div>"
      ],
      "text/plain": [
       "   product_prognose\n",
       "0         98.301916\n",
       "1        101.592461\n",
       "2         52.449099\n",
       "3        109.922127\n",
       "4         72.411847"
      ]
     },
     "metadata": {},
     "output_type": "display_data"
    }
   ],
   "source": [
    "#Series с прогнозом объема запасов:\n",
    "forecast_series_2 = pd.Series(predictions_2)\n",
    "forecast_geo_data_2 = forecast_series_2.to_frame(name='product_prognose')\n",
    "display(forecast_geo_data_2.head())"
   ]
  },
  {
   "cell_type": "code",
   "execution_count": 41,
   "metadata": {},
   "outputs": [
    {
     "data": {
      "text/html": [
       "<div>\n",
       "<style scoped>\n",
       "    .dataframe tbody tr th:only-of-type {\n",
       "        vertical-align: middle;\n",
       "    }\n",
       "\n",
       "    .dataframe tbody tr th {\n",
       "        vertical-align: top;\n",
       "    }\n",
       "\n",
       "    .dataframe thead th {\n",
       "        text-align: right;\n",
       "    }\n",
       "</style>\n",
       "<table border=\"1\" class=\"dataframe\">\n",
       "  <thead>\n",
       "    <tr style=\"text-align: right;\">\n",
       "      <th></th>\n",
       "      <th>product_prognose</th>\n",
       "    </tr>\n",
       "    <tr>\n",
       "      <th>id</th>\n",
       "      <th></th>\n",
       "    </tr>\n",
       "  </thead>\n",
       "  <tbody>\n",
       "    <tr>\n",
       "      <th>sPjbT</th>\n",
       "      <td>98.301916</td>\n",
       "    </tr>\n",
       "    <tr>\n",
       "      <th>1u4uo</th>\n",
       "      <td>101.592461</td>\n",
       "    </tr>\n",
       "    <tr>\n",
       "      <th>kZ6HO</th>\n",
       "      <td>52.449099</td>\n",
       "    </tr>\n",
       "    <tr>\n",
       "      <th>gCZGK</th>\n",
       "      <td>109.922127</td>\n",
       "    </tr>\n",
       "    <tr>\n",
       "      <th>rqJHx</th>\n",
       "      <td>72.411847</td>\n",
       "    </tr>\n",
       "  </tbody>\n",
       "</table>\n",
       "</div>"
      ],
      "text/plain": [
       "       product_prognose\n",
       "id                     \n",
       "sPjbT         98.301916\n",
       "1u4uo        101.592461\n",
       "kZ6HO         52.449099\n",
       "gCZGK        109.922127\n",
       "rqJHx         72.411847"
      ]
     },
     "metadata": {},
     "output_type": "display_data"
    }
   ],
   "source": [
    "y_valid_2_frame = y_valid_2.to_frame(name='product_fact')\n",
    "forecast_geo_data_2['id'] = y_valid_2.index\n",
    "forecast_geo_data_2 = forecast_geo_data_2.set_index('id')\n",
    "display(forecast_geo_data_2.head())"
   ]
  },
  {
   "cell_type": "code",
   "execution_count": 42,
   "metadata": {},
   "outputs": [
    {
     "data": {
      "text/html": [
       "<div>\n",
       "<style scoped>\n",
       "    .dataframe tbody tr th:only-of-type {\n",
       "        vertical-align: middle;\n",
       "    }\n",
       "\n",
       "    .dataframe tbody tr th {\n",
       "        vertical-align: top;\n",
       "    }\n",
       "\n",
       "    .dataframe thead th {\n",
       "        text-align: right;\n",
       "    }\n",
       "</style>\n",
       "<table border=\"1\" class=\"dataframe\">\n",
       "  <thead>\n",
       "    <tr style=\"text-align: right;\">\n",
       "      <th></th>\n",
       "      <th>product_prognose</th>\n",
       "      <th>product_fact</th>\n",
       "    </tr>\n",
       "    <tr>\n",
       "      <th>id</th>\n",
       "      <th></th>\n",
       "      <th></th>\n",
       "    </tr>\n",
       "  </thead>\n",
       "  <tbody>\n",
       "    <tr>\n",
       "      <th>sPjbT</th>\n",
       "      <td>98.301916</td>\n",
       "      <td>117.441301</td>\n",
       "    </tr>\n",
       "    <tr>\n",
       "      <th>1u4uo</th>\n",
       "      <td>101.592461</td>\n",
       "      <td>47.841249</td>\n",
       "    </tr>\n",
       "    <tr>\n",
       "      <th>kZ6HO</th>\n",
       "      <td>52.449099</td>\n",
       "      <td>45.883483</td>\n",
       "    </tr>\n",
       "    <tr>\n",
       "      <th>gCZGK</th>\n",
       "      <td>109.922127</td>\n",
       "      <td>139.014608</td>\n",
       "    </tr>\n",
       "    <tr>\n",
       "      <th>rqJHx</th>\n",
       "      <td>72.411847</td>\n",
       "      <td>84.004276</td>\n",
       "    </tr>\n",
       "  </tbody>\n",
       "</table>\n",
       "</div>"
      ],
      "text/plain": [
       "       product_prognose  product_fact\n",
       "id                                   \n",
       "sPjbT         98.301916    117.441301\n",
       "1u4uo        101.592461     47.841249\n",
       "kZ6HO         52.449099     45.883483\n",
       "gCZGK        109.922127    139.014608\n",
       "rqJHx         72.411847     84.004276"
      ]
     },
     "execution_count": 42,
     "metadata": {},
     "output_type": "execute_result"
    }
   ],
   "source": [
    "forecast_geo_data_2['product_fact'] = y_valid_2_frame['product_fact']\n",
    "forecast_geo_data_2.head()"
   ]
  },
  {
   "cell_type": "markdown",
   "metadata": {},
   "source": [
    "Посчитаем средний прогноз запасов сырья и RMSE модели"
   ]
  },
  {
   "cell_type": "code",
   "execution_count": 43,
   "metadata": {},
   "outputs": [
    {
     "name": "stdout",
     "output_type": "stream",
     "text": [
      "Средний запас предсказанного сырья:  94.77  тыс. баррелей \n",
      " Среднее фактическое значение объемов сырья:  95.15  тыс. баррелей \n",
      " RMSE модели:  40.15\n"
     ]
    },
    {
     "name": "stderr",
     "output_type": "stream",
     "text": [
      "C:\\Users\\babay\\anaconda3\\Lib\\site-packages\\sklearn\\metrics\\_regression.py:492: FutureWarning: 'squared' is deprecated in version 1.4 and will be removed in 1.6. To calculate the root mean squared error, use the function'root_mean_squared_error'.\n",
      "  warnings.warn(\n"
     ]
    }
   ],
   "source": [
    "prognose_mean_2 = round(forecast_geo_data_2['product_prognose'].mean(), 2)\n",
    "fact_mean_2 = round(forecast_geo_data_2['product_fact'].mean(), 2)\n",
    "\n",
    "rmse_2 = mean_squared_error(forecast_geo_data_2['product_fact'], forecast_geo_data_2['product_prognose'], squared = False) \n",
    "\n",
    "print('Средний запас предсказанного сырья: ', prognose_mean_2, ' тыс. баррелей', '\\n',\n",
    "      'Среднее фактическое значение объемов сырья: ', fact_mean_2, ' тыс. баррелей', '\\n',\n",
    "     'RMSE модели: ', round(rmse_2, 2))"
   ]
  },
  {
   "cell_type": "markdown",
   "metadata": {},
   "source": [
    "***Вывод по расчетам модели для третьего региона:*** \n",
    "\n",
    "По итогам расчета модели мы получили средний прогноз объема сырья 94.77 тыс. баррелей и достаточно высокое значение RMSE - 40,15 тыс.баррелей. Т е в среднем модель ошибается на 40,15 тыс. баррелей, что составляет 42,4% от среднего значения прогноза."
   ]
  },
  {
   "cell_type": "markdown",
   "metadata": {},
   "source": [
    "Посчитаем r2 (коэффициент детерминации) модели для трех регионов, чтобы посмотреть, насколько предсказания модели точнее/хуже расчетного среднего значения. Построим гистограмму распределения остатков (разницы между фактом и прогнозом) и диаграмму рассеяния ошибок модели."
   ]
  },
  {
   "cell_type": "markdown",
   "metadata": {},
   "source": [
    "***Расчет  r2 для первого региона***"
   ]
  },
  {
   "cell_type": "code",
   "execution_count": 44,
   "metadata": {},
   "outputs": [
    {
     "name": "stdout",
     "output_type": "stream",
     "text": [
      "Коэффициент детерминации модели для 1 региона равен  0.2728\n"
     ]
    }
   ],
   "source": [
    "r2_0 = r2_score(forecast_geo_data_0['product_fact'], forecast_geo_data_0['product_prognose']) \n",
    "print(f'Коэффициент детерминации модели для 1 региона равен  {r2_0:.4f}')"
   ]
  },
  {
   "cell_type": "markdown",
   "metadata": {},
   "source": [
    "Всего в 27,3% случаев предсказание модели ближе к истине, чем среднее значение целевого признака, а в 72,8% случаев точнее среднее значение целевого признака, чем предсказание модели. Т е для расчета прогноза по первому региону лучше использовать просто среднее значение целевого признака валидационной выборки. "
   ]
  },
  {
   "cell_type": "code",
   "execution_count": 47,
   "metadata": {},
   "outputs": [
    {
     "data": {
      "image/png": "[encoded data removed]",
      "text/plain": [
       "<Figure size 800x400 with 2 Axes>"
      ]
     },
     "metadata": {},
     "output_type": "display_data"
    }
   ],
   "source": [
    "#Рассчитаем остатки\n",
    "residuals_0 = forecast_geo_data_0['product_fact'] - forecast_geo_data_0['product_prognose']\n",
    "\n",
    "# построим гистограмму распределения количественных признаков и диаграмму рассеяния\n",
    "\n",
    "fig, axes = plt.subplots(nrows=1, ncols=2, figsize=(8,4))\n",
    "axes[0].hist(residuals_0, bins = 20)\n",
    "axes[0].set_title('Гистограмма распределения ошибок модели')\n",
    "axes[0].set_xlabel('Ошибки модели')\n",
    "axes[0].set_ylabel('Число предсказаний')\n",
    "\n",
    "axes[1].scatter(x = forecast_geo_data_0['product_prognose'], y = residuals_0)\n",
    "axes[1].set_xlabel('Предсказания модели')\n",
    "axes[1].set_ylabel('Ошибки модели')\n",
    "axes[1].set_title('Анализ дисперсии')\n",
    "plt.show()"
   ]
  },
  {
   "cell_type": "markdown",
   "metadata": {},
   "source": [
    "***Распределение ошибок модели***\n",
    "\n",
    "Ошибки модели имеют распределение, близкое к нормульному, график почти симметричен относительно нуля, максимльное значение остатков модели варьируется от -50 до +50. Модель даёт как завышенные, так и заниженные предсказания, и достаточно много (график достаточно широкий).\n",
    "\n",
    "***Анализ дисперсии ошибок***\n",
    "\n",
    "В качественной модели разница между минимумом и максимумом ошибок при любых прогнозных значениях модели должна быть постоянной, т е модель должна равномерно ошибаться. На этой диаграмме рассеяния видно, что дисперсия между значениями на оси Y не стабильна: она уменьшается по мере роста предскзаний."
   ]
  },
  {
   "cell_type": "markdown",
   "metadata": {},
   "source": [
    "***Расчет r2 для второго региона.***"
   ]
  },
  {
   "cell_type": "code",
   "execution_count": 48,
   "metadata": {},
   "outputs": [
    {
     "name": "stdout",
     "output_type": "stream",
     "text": [
      "Коэффициент детерминации модели для 2 региона равен  0.9996\n"
     ]
    }
   ],
   "source": [
    "r2_1 = r2_score(forecast_geo_data_1['product_fact'], forecast_geo_data_1['product_prognose']) \n",
    "print(f'Коэффициент детерминации модели для 2 региона равен  {r2_1:.4f}')"
   ]
  },
  {
   "cell_type": "markdown",
   "metadata": {},
   "source": [
    "Почти в 100% случаев предсказание модели ближе к истине, чем среднее значение целевого признака из валидационной выборки. Т е для расчета прогноза по второму региону можно полагаться на прогнозы модели."
   ]
  },
  {
   "cell_type": "markdown",
   "metadata": {},
   "source": [
    "Сделаем анализ ошибок модели, построим гистограмму и диаграмму рассеяния."
   ]
  },
  {
   "cell_type": "code",
   "execution_count": 50,
   "metadata": {
    "scrolled": true
   },
   "outputs": [
    {
     "data": {
      "image/png": "[encoded data removed]",
      "text/plain": [
       "<Figure size 800x400 with 2 Axes>"
      ]
     },
     "metadata": {},
     "output_type": "display_data"
    }
   ],
   "source": [
    "#Рассчитаем остатки\n",
    "residuals_1 = forecast_geo_data_1['product_fact'] - forecast_geo_data_1['product_prognose']\n",
    "\n",
    "# построим гистограмму распределения количественных признаков и диаграмму рассеяния\n",
    "\n",
    "fig, axes = plt.subplots(nrows=1, ncols=2, figsize=(8, 4))\n",
    "axes[0].hist(residuals_1, bins = 20)\n",
    "axes[0].set_title('Гистограмма распределения ошибок для 2 региона')\n",
    "axes[0].set_xlabel('Ошибки модели')\n",
    "axes[0].set_ylabel('Число предсказаний')\n",
    "\n",
    "axes[1].scatter(x = forecast_geo_data_1['product_prognose'], y = residuals_1)\n",
    "axes[1].set_xlabel('Предсказания модели')\n",
    "axes[1].set_ylabel('Ошибки модели')\n",
    "axes[1].set_title('Анализ дисперсии')\n",
    "plt.show()"
   ]
  },
  {
   "cell_type": "markdown",
   "metadata": {},
   "source": [
    "Ошибки распределены нормально, и значения ошибок ничтожно малы по сравнению со значениями прогнозов: +/- максимум 3 тыс баррелей. Ошибки по 1 региону имеют достигают более 100 тыс. баррелей в обе стороны (в сторону занижения и завышения)."
   ]
  },
  {
   "cell_type": "markdown",
   "metadata": {},
   "source": [
    "***Расчет r2 для 3 региона***"
   ]
  },
  {
   "cell_type": "code",
   "execution_count": 51,
   "metadata": {
    "scrolled": true
   },
   "outputs": [
    {
     "name": "stdout",
     "output_type": "stream",
     "text": [
      "Коэффициент детерминации модели для 3 региона равен  0.1963\n"
     ]
    }
   ],
   "source": [
    "r2_2 = r2_score(forecast_geo_data_2['product_fact'], forecast_geo_data_2['product_prognose']) \n",
    "print(f'Коэффициент детерминации модели для 3 региона равен  {r2_2:.4f}')"
   ]
  },
  {
   "cell_type": "markdown",
   "metadata": {},
   "source": [
    "Всего в 19,6% случаев предсказание модели ближе к истине, чем среднее значение целевого признака, а в 80,4% случаев точнее среднее значение целевого признака, чем предсказание модели. Для расчета прогноза по третьему региону лучше использовать просто среднее значение целевого признака валидационной выборки."
   ]
  },
  {
   "cell_type": "code",
   "execution_count": 53,
   "metadata": {},
   "outputs": [
    {
     "data": {
      "image/png": "[encoded data removed]",
      "text/plain": [
       "<Figure size 800x400 with 2 Axes>"
      ]
     },
     "metadata": {},
     "output_type": "display_data"
    }
   ],
   "source": [
    "#Рассчитаем остатки\n",
    "residuals_2 = forecast_geo_data_2['product_fact'] - forecast_geo_data_2['product_prognose']\n",
    "\n",
    "# построим гистограмму распределения количественных признаков и диаграмму рассеяния\n",
    "\n",
    "fig, axes = plt.subplots(nrows=1, ncols=2, figsize=(8, 4))\n",
    "axes[0].hist(residuals_2, bins = 20)\n",
    "axes[0].set_title('Гистограмма распределения ошибок для 3 региона')\n",
    "axes[0].set_xlabel('Ошибки модели')\n",
    "axes[0].set_ylabel('Число предсказаний')\n",
    "\n",
    "axes[1].scatter(x = forecast_geo_data_2['product_prognose'], y = residuals_2)\n",
    "axes[1].set_xlabel('Предсказания модели')\n",
    "axes[1].set_ylabel('Ошибки модели')\n",
    "axes[1].set_title('Анализ дисперсии')\n",
    "plt.show()"
   ]
  },
  {
   "cell_type": "markdown",
   "metadata": {},
   "source": [
    "***Распределение ошибок модели***\n",
    "\n",
    "Аналогично распредлению дяя 1 региона. Ошибки модели имеют распределение, близкое к нормульному, график почти симметричен относительно нуля, максимльное значение остатков модели варьируется от -50 до +50. Модель даёт как завышенные, так и заниженные предсказания, и достаточно много (график достаточно широкий).\n",
    "\n",
    "***Анализ дисперсии ошибок***\n",
    "\n",
    "В качественной модели разница между минимумом и максимумом ошибок при любых прогнозных значениях модели должна быть постоянной, т е модель должна равномерно ошибаться. На этой диаграмме рассеяния видно, что дисперсия между значениями на оси Y не стабильна: она уменьшается по мере роста предскзаний."
   ]
  },
  {
   "cell_type": "markdown",
   "metadata": {},
   "source": [
    "**Общий вывод по расчетам модели для трех регионов:**\n",
    "\n",
    "Средний прогноз объемов нефти для 1 региона - 92,4 тыс. баррелей, RMSE модели - 37,76 тыс. баррелей.\n",
    "Для 2 региона - средний прогноз 68,71 тыс. баррелей, RMSE - 0,89 тыс.баррелей.\n",
    "Для 3 региона - средний прогноз 94,8 тыс. баррелей, RMSE  - 40,15 тыс. баррелей.\n",
    "\n",
    "В 1 и 3 регионе при высоких средних значениях прогнозов получились достаточно высокие средние ошибки модели, низкие коэффициенты детерминации. Для 1 и 3 региона примерно в 80% случаев точнее будет использовать среднее значение целевого признака валидационой выборки, чем прогнозы модели.\n",
    "\n",
    "Во 2 регионе средний прогноз запасов ощутимо ниже, чем в 1 и 3 регионах, но расчеты прогнозы почти в 100% случаев точнее средних значений целевого признака валидационной выборки. "
   ]
  },
  {
   "cell_type": "markdown",
   "metadata": {},
   "source": [
    "## Подготовка к расчёту прибыли"
   ]
  },
  {
   "cell_type": "markdown",
   "metadata": {},
   "source": [
    "Сохраним значения для расчетов в отдельных переменных:"
   ]
  },
  {
   "cell_type": "code",
   "execution_count": 54,
   "metadata": {},
   "outputs": [],
   "source": [
    "#Бюджет на разоработку:\n",
    "BUDGET = 10_000_000_000\n",
    "\n",
    "#доход с едлиницы сырья:\n",
    "INCOME_PER_UNIT = 450000"
   ]
  },
  {
   "cell_type": "markdown",
   "metadata": {},
   "source": [
    "Рассчитаем достаточный объём сырья для безубыточной разработки новой скважины. Чтобы разработка скважины имела экономический смысл, нужно, чтобы объем запасов ***одной*** скважины был больше бюджета (1 млрд разделить на 200, т к бюджет направлен на разработку 200 лучших скважин из региона), разделенного на доход с елиницы сырья (450 тыс. руб. с 1 тыс баррелей)"
   ]
  },
  {
   "cell_type": "code",
   "execution_count": 55,
   "metadata": {},
   "outputs": [
    {
     "name": "stdout",
     "output_type": "stream",
     "text": [
      "Объем сырья, достаточный для безубыточной работы новой скважины:  111.111 тыс. баррелей. \n"
     ]
    }
   ],
   "source": [
    "product_adequate = ((BUDGET/200)/INCOME_PER_UNIT)\n",
    "print('Объем сырья, достаточный для безубыточной работы новой скважины: ', round(product_adequate, 3), 'тыс. баррелей. ')"
   ]
  },
  {
   "cell_type": "markdown",
   "metadata": {},
   "source": [
    "Сравним полученный достаточный объем сырья со средними значениями запасов в каждом регионе. \n",
    "\n",
    "Для **1** и **3** регионов будем считать разницу между средним объемом фактических запасов (т к для данных моделей среднее значение факта точнее прогноза моделей) и достаточным объемом сырья, для **2** региона будем считать разницу между средним прогнозным значением и достаточным объемом сырья.\n"
   ]
  },
  {
   "cell_type": "code",
   "execution_count": 56,
   "metadata": {
    "scrolled": true
   },
   "outputs": [
    {
     "name": "stdout",
     "output_type": "stream",
     "text": [
      "В первом регионе средний объем запасов на 18.78 тыс. баррелей меньше достаточного для разработки объема\n",
      "Во втором регионе средний объем запасов на 42.40 тыс. баррелей меньше достаточного для разработки объема\n",
      "Во втором регионе средний объем запасов на 15.96 тыс. баррелей меньше достаточного для разработки объема\n"
     ]
    }
   ],
   "source": [
    "difference_0 = fact_mean - product_adequate\n",
    "print(f'В первом регионе средний объем запасов на {abs(difference_0):.2f} тыс. баррелей меньше достаточного для разработки объема')\n",
    "\n",
    "difference_1 = prognose_mean_1 - product_adequate\n",
    "print(f'Во втором регионе средний объем запасов на {abs(difference_1):.2f} тыс. баррелей меньше достаточного для разработки объема')\n",
    "\n",
    "difference_2 = fact_mean_2 - product_adequate\n",
    "print(f'Во втором регионе средний объем запасов на {abs(difference_2):.2f} тыс. баррелей меньше достаточного для разработки объема')\n"
   ]
  },
  {
   "cell_type": "markdown",
   "metadata": {},
   "source": [
    "**Вывод по подготовке к расчету прибыли:**\n",
    "\n",
    "Во всех трех регионах средний объем запасов меньше объема, достаточного для экономической целесообразности разработки. В первом и третьем регионах расчетный экономический эффект чуть лучше, но при разработке скважин со средним объемом все равно получаются убытки, хоть и меньшие, чем во тором регионе.\n",
    "Если в 1 и 3 регионах учитывать разброс значений объемов сырья и взять скважины с объемом запасов, большим, чем средний, хотя бы на 20 тыс баррелей, то эти скважины можно взять в разработку: средний объем запасов в 1 и 3 регионе составляет 92-95 тыс. баррелей, если брать скважины с запасами хотя бы на 20 тыс.баррелей превышающими среднее значение, то получим безубыточные варианты. \n",
    "\n",
    "Во 2 регионе средний объем запасов  - 57 тыс. баррелей. Для безубыточной разработки нужно взять скважины с объемами,хотя бы в 2 раза превышающими среднее значение. Если смотреть на статистику, рассчитанную в исследовательском анализе данных, менее 25% всех скважин удовлетворяют условию безубыточности: 75% квантиль раен 107 тыс.баррелей, что ниже точки безубыточности.\n",
    "\n",
    "Поскольку скважин 10 тыс., то несмотря на низкие средние значения объемов запасов во 2 регионе, в нем возможно найти 200 точек, проходящих условие безубыточности. Т к прогнозы по 2 региону существенно более точные, чем по 1 и 3, то экономически безопаснее делать ставку на 2 регион."
   ]
  },
  {
   "cell_type": "markdown",
   "metadata": {},
   "source": [
    "## Расчёт прибыли и рисков "
   ]
  },
  {
   "cell_type": "markdown",
   "metadata": {},
   "source": [
    "Напишем функцию для расчёта прибыли по выбранным скважинам и предсказаниям модели."
   ]
  },
  {
   "cell_type": "code",
   "execution_count": 57,
   "metadata": {},
   "outputs": [],
   "source": [
    "def profit(data):\n",
    "    sorted_data = data.sort_values(by = 'product_prognose', ascending = False) #выбираем топ-200 точек по прогнозам\n",
    "    profit = sorted_data['product_fact'][0:200].sum()*INCOME_PER_UNIT - BUDGET #считаем прибыль по фактическим значениям \n",
    "    return(profit)"
   ]
  },
  {
   "cell_type": "code",
   "execution_count": 58,
   "metadata": {},
   "outputs": [
    {
     "name": "stdout",
     "output_type": "stream",
     "text": [
      "<class 'pandas.core.frame.DataFrame'>\n",
      "Index: 25000 entries, fYVDK to cQudG\n",
      "Data columns (total 2 columns):\n",
      " #   Column            Non-Null Count  Dtype  \n",
      "---  ------            --------------  -----  \n",
      " 0   product_prognose  25000 non-null  float64\n",
      " 1   product_fact      25000 non-null  float64\n",
      "dtypes: float64(2)\n",
      "memory usage: 1.1+ MB\n"
     ]
    }
   ],
   "source": [
    "forecast_geo_data_1.info()"
   ]
  },
  {
   "cell_type": "markdown",
   "metadata": {},
   "source": [
    "**Первый регион:**\n"
   ]
  },
  {
   "cell_type": "markdown",
   "metadata": {},
   "source": [
    "Посчитаем значения прибыли по выбранным топ-200 скважинам, для расчетов будем использовать не прогнозные, а фактические значения запасов:"
   ]
  },
  {
   "cell_type": "code",
   "execution_count": 59,
   "metadata": {
    "scrolled": false
   },
   "outputs": [
    {
     "name": "stdout",
     "output_type": "stream",
     "text": [
      "3359141114.5\n",
      "Фактическая прибыль для 1 региона:  3.36 млрд. рублей.\n"
     ]
    }
   ],
   "source": [
    "profit_0 = profit(forecast_geo_data_0)\n",
    "print(round(profit_0, 1))\n",
    "print('Фактическая прибыль для 1 региона: ', round((profit_0/1000000000), 2), 'млрд. рублей.' )"
   ]
  },
  {
   "cell_type": "markdown",
   "metadata": {},
   "source": [
    "Посчитаем прибыль, рассчитанную не на фактических, а на прогнозных значениях запасов:"
   ]
  },
  {
   "cell_type": "code",
   "execution_count": 60,
   "metadata": {},
   "outputs": [],
   "source": [
    "reg_0_top_200 = forecast_geo_data_0.sort_values(by = 'product_prognose', ascending = False)[:200]"
   ]
  },
  {
   "cell_type": "code",
   "execution_count": 61,
   "metadata": {},
   "outputs": [
    {
     "name": "stdout",
     "output_type": "stream",
     "text": [
      "3896658479.7\n",
      "Прогноз прибыли для 1 региона:  3.9 млрд. рублей.\n"
     ]
    }
   ],
   "source": [
    "profit_0_prognose = reg_0_top_200['product_prognose'].sum()*INCOME_PER_UNIT - BUDGET\n",
    "print(round(profit_0_prognose, 1))\n",
    "print('Прогноз прибыли для 1 региона: ', round((profit_0_prognose/1000000000), 2), 'млрд. рублей.' )"
   ]
  },
  {
   "cell_type": "markdown",
   "metadata": {},
   "source": [
    "По итогам расчета прибыли в 1 регионе можно сделать вывод, что прибыль, посчитанная на прогнозных данных, выше фактической прибыли более чем на полмиллиарда рублей (на 16% или на 0.54 млрд.руб.). Т е если использовать данные модели для прогноза в регионах, схожих с первым, есть большая вероятность получить завышенные прогнозы."
   ]
  },
  {
   "cell_type": "markdown",
   "metadata": {},
   "source": [
    "**Второй регион:**\n"
   ]
  },
  {
   "cell_type": "code",
   "execution_count": 62,
   "metadata": {},
   "outputs": [
    {
     "name": "stdout",
     "output_type": "stream",
     "text": [
      "2415086696.68\n",
      "Фактическая прибыль для 2 региона:  2.42 млрд. рублей.\n"
     ]
    }
   ],
   "source": [
    "profit_1 = profit(forecast_geo_data_1)\n",
    "print(round(profit_1, 2))\n",
    "print('Фактическая прибыль для 2 региона: ', round((profit_1/1000000000), 2), 'млрд. рублей.' )"
   ]
  },
  {
   "cell_type": "markdown",
   "metadata": {},
   "source": [
    "Посчитаем прибыль на прогнозных данных."
   ]
  },
  {
   "cell_type": "code",
   "execution_count": 63,
   "metadata": {},
   "outputs": [],
   "source": [
    "reg_1_top_200 = forecast_geo_data_1.sort_values(by = 'product_prognose', ascending = False)[:200]"
   ]
  },
  {
   "cell_type": "code",
   "execution_count": 64,
   "metadata": {},
   "outputs": [
    {
     "name": "stdout",
     "output_type": "stream",
     "text": [
      "2486938115.0\n",
      "Прогноз прибыли для 2 региона:  2.49 млрд. рублей.\n"
     ]
    }
   ],
   "source": [
    "profit_1_prognose = reg_1_top_200['product_prognose'].sum()*INCOME_PER_UNIT - BUDGET\n",
    "print(round(profit_1_prognose, 2))\n",
    "print('Прогноз прибыли для 2 региона: ', round((profit_1_prognose/1000000000), 2), 'млрд. рублей.' )"
   ]
  },
  {
   "cell_type": "markdown",
   "metadata": {},
   "source": [
    "Во 2 регионе прогноз прибыли менее чем на 3% превышает прибыль, посчитанную на фактических данных. Т е в регионах, схожих со вторым, модель даст более точный прогноз, чем в первом."
   ]
  },
  {
   "cell_type": "markdown",
   "metadata": {},
   "source": [
    "**3 регион:**"
   ]
  },
  {
   "cell_type": "code",
   "execution_count": 65,
   "metadata": {},
   "outputs": [
    {
     "name": "stdout",
     "output_type": "stream",
     "text": [
      "2598571759.37\n",
      "Фактическая прибыль для 3 региона:  2.6 млрд. рублей.\n"
     ]
    }
   ],
   "source": [
    "profit_2 = profit(forecast_geo_data_2)\n",
    "print(round(profit_2, 2))\n",
    "print('Фактическая прибыль для 3 региона: ', round((profit_2/1000000000), 2), 'млрд. рублей.' )"
   ]
  },
  {
   "cell_type": "markdown",
   "metadata": {},
   "source": [
    "Какой бы была прибыль при расчете на освное прогонозных данных:"
   ]
  },
  {
   "cell_type": "code",
   "execution_count": 66,
   "metadata": {},
   "outputs": [],
   "source": [
    "reg_2_top_200 = forecast_geo_data_2.sort_values(by = 'product_prognose', ascending = False)[:200]"
   ]
  },
  {
   "cell_type": "code",
   "execution_count": 67,
   "metadata": {},
   "outputs": [
    {
     "name": "stdout",
     "output_type": "stream",
     "text": [
      "3377981513.71\n",
      "Прогноз прибыли для 3 региона:  3.38 млрд. рублей.\n"
     ]
    }
   ],
   "source": [
    "profit_2_prognose = reg_2_top_200['product_prognose'].sum()*INCOME_PER_UNIT - BUDGET\n",
    "print(round(profit_2_prognose, 2))\n",
    "print('Прогноз прибыли для 3 региона: ', round((profit_2_prognose/1000000000), 2), 'млрд. рублей.' )"
   ]
  },
  {
   "cell_type": "markdown",
   "metadata": {},
   "source": [
    "В третьем регионе видим наибольшее расхождение: прогноз прибыли на данных модели на 30% (на 0.78 млрд.руб.) больше фактической прибыли. Т е для прогноза объема запасов месторождений в регионах, схожих с третьим, данную модель использовать рискованно."
   ]
  },
  {
   "cell_type": "markdown",
   "metadata": {},
   "source": [
    "***Выводы по расчету прибыли:***\n",
    "\n",
    "Мы написали функцию, которая суммирует значения объемов сырья в топ-200 скважин (с помощью сортировки по убыванию), умножает полученный объем на доход с единицы сырья (450 тыс.руб. для 1000 баррелей) и вычитает объем инвестиций, необходимый для разработки скважин.\n",
    "\n",
    "Получили следующие значения прибыли на топ-200 скважин:\n",
    "\n",
    "***1)*** В 1 регионе фактическая прибыль - 3,36 млрд. руб. (прогноз 3,9 млрд.руб.), прогноз прибыли на основе данных модели завышен на 16% (0,54 млрд.руб.).\n",
    "\n",
    "***2)*** Во 2 регионе фактическая прибыль - 2.42 млрд.руб. (прогноз 2,49 млрд.рую.), прогноз прибыли на основе данных модели завышен на 3%.\n",
    "\n",
    "***3)*** В 3 регионе фактическая прибыль - 2,6 млрд.руб. (прогноз 3,38 млрд.руб.), прогноз завышен на 30% (на 0.78 млрд.руб.).\n",
    "\n",
    "Самый точный прогноз объема запасов и минимальное расхождение фактической прибыли с прогнозной получили во втором регионе. "
   ]
  },
  {
   "cell_type": "markdown",
   "metadata": {},
   "source": [
    "## Расчет рисков и прибыли для каждого региона"
   ]
  },
  {
   "cell_type": "markdown",
   "metadata": {},
   "source": [
    "Процедурой bootstrap создадим 1000 выборок по 500 скважин, для каждой из которых посчитаем прибыль ***для топ-200*** (функция profit_prognose считает значения прибыли для первых 200 строк с наибольшими значениями запасов) из этих 500 и сохраним значения прибыли в списки profits."
   ]
  },
  {
   "cell_type": "markdown",
   "metadata": {},
   "source": [
    "**Расчет прибыли и рисков для 1 региона**"
   ]
  },
  {
   "cell_type": "code",
   "execution_count": 68,
   "metadata": {},
   "outputs": [],
   "source": [
    "profits_0 =[]\n",
    "\n",
    "for i in range(1000):\n",
    "    #создаем выборку с прогнозами объемов сырья по 500 скважинам, \n",
    "    target_subsample = forecast_geo_data_0.sample(n = 500, replace = True, random_state = state)\n",
    "    #считаем прибыль по лучшим из 500 выбранных скважин\n",
    "    profit_ = profit(target_subsample)\n",
    "    #добавляем расчетную прибыль по топ-200 скважинам в список profits_0\n",
    "    profits_0.append(profit_)\n",
    "    \n",
    "    "
   ]
  },
  {
   "cell_type": "code",
   "execution_count": 69,
   "metadata": {},
   "outputs": [],
   "source": [
    "profits_0 = pd.Series(profits_0)"
   ]
  },
  {
   "cell_type": "markdown",
   "metadata": {},
   "source": [
    "Посчитаем 95% доверительный интервал для 1 региона:"
   ]
  },
  {
   "cell_type": "code",
   "execution_count": 70,
   "metadata": {},
   "outputs": [],
   "source": [
    "#нижняя граница доверительного интервала:\n",
    "lower_0 = profits_0.quantile(0.025)\n",
    "\n",
    "#верхняя граница доверительного интервала:\n",
    "upper_0 = profits_0.quantile(0.975)"
   ]
  },
  {
   "cell_type": "markdown",
   "metadata": {},
   "source": [
    "Посчитаем среднюю прибыль для 1 региона:"
   ]
  },
  {
   "cell_type": "code",
   "execution_count": 71,
   "metadata": {},
   "outputs": [],
   "source": [
    "profit_0_mean = profits_0.mean()"
   ]
  },
  {
   "cell_type": "markdown",
   "metadata": {},
   "source": [
    "Риск убытков для выборки profits_0 - это число скважин с убытками (profit<0) разделить на число строк. Можно задать подсчет числа строк с убытками с помощью условия (profit<0), получим список с булевыми значениями 0 (profit>0, убытка нет) и 1 (profit<0, убыток есть), посчитать среднее значение (число единиц разделится на число строк), получим процент строк (скважин) с убытками.\n",
    "Рассчитаем риск убытков для 1 региона:"
   ]
  },
  {
   "cell_type": "code",
   "execution_count": 72,
   "metadata": {},
   "outputs": [],
   "source": [
    "loss_risk_0 = (profits_0<0).mean()*100"
   ]
  },
  {
   "cell_type": "code",
   "execution_count": 73,
   "metadata": {
    "scrolled": false
   },
   "outputs": [
    {
     "name": "stdout",
     "output_type": "stream",
     "text": [
      "Доверительный интервал для 1 региона: (-117742136.0, 911737051.0) рублей или (-117.74, 911.74) млн. рублей\n",
      "Средняя прибыль для 1 региона: 406278783.0 рублей или 406.28 млн. рублей\n",
      "Риск убытков для первого региона - 6.7 %\n"
     ]
    }
   ],
   "source": [
    "print(f'Доверительный интервал для 1 региона: {round(lower_0, 0), round(upper_0, 0)} рублей или \\\n",
    "{round(lower_0/1000000, 2), round(upper_0/1000000, 2)} млн. рублей')\n",
    "\n",
    "print(f'Средняя прибыль для 1 региона: {round(profit_0_mean, 0)} рублей или {round(profit_0_mean/1000000, 2)} млн. рублей')\n",
    "\n",
    "print(f'Риск убытков для первого региона - {round(loss_risk_0, 1)} %')\n",
    "      "
   ]
  },
  {
   "cell_type": "markdown",
   "metadata": {},
   "source": [
    "**Вывод по расчетам прибыли, рисков и проверки гипотез по 1 региону:**\n",
    "\n",
    "Средняя прибыль по топ-200 скважин 1 региона составляет 406 млн рублей, риск убытков - 6.7%, что существенно больше допустимого. Т е для регионов, близких по характеристикам к первому региону, будут характерны похожие показатели прибыли и рисков. "
   ]
  },
  {
   "cell_type": "markdown",
   "metadata": {},
   "source": [
    "**Расчет прибыли и рисков для 2 региона**"
   ]
  },
  {
   "cell_type": "code",
   "execution_count": 74,
   "metadata": {},
   "outputs": [],
   "source": [
    "profits_1 =[]\n",
    "\n",
    "for i in range(1000):\n",
    "    #создаем выборку с прогнозами объемов сырья по 500 скважинам, \n",
    "    target_subsample = forecast_geo_data_1.sample(n = 500, replace = True, random_state = state)\n",
    "    #считаем прибыль по топ-200 из 500 выбранных скважинам\n",
    "    profit_ = profit(target_subsample)\n",
    "    #добавляем расчетную прибыль по топ-200 скважинам в список profits_0\n",
    "    profits_1.append(profit_)"
   ]
  },
  {
   "cell_type": "code",
   "execution_count": 75,
   "metadata": {},
   "outputs": [],
   "source": [
    "profits_1 = pd.Series(profits_1)"
   ]
  },
  {
   "cell_type": "markdown",
   "metadata": {},
   "source": [
    "Посчитаем 95% доверительный интервал для 2 региона:"
   ]
  },
  {
   "cell_type": "code",
   "execution_count": 76,
   "metadata": {},
   "outputs": [],
   "source": [
    "#нижняя граница доверительного интервала:\n",
    "lower_1 = profits_1.quantile(0.025)\n",
    "\n",
    "#верхняя граница доверительного интервала:\n",
    "upper_1 = profits_1.quantile(0.975)"
   ]
  },
  {
   "cell_type": "markdown",
   "metadata": {},
   "source": [
    "Посчитаем среднюю прибыль для 2 региона:"
   ]
  },
  {
   "cell_type": "code",
   "execution_count": 77,
   "metadata": {},
   "outputs": [],
   "source": [
    "profit_1_mean = profits_1.mean()"
   ]
  },
  {
   "cell_type": "markdown",
   "metadata": {},
   "source": [
    "Рассчитаем риск убытков для 2 региона:"
   ]
  },
  {
   "cell_type": "code",
   "execution_count": 78,
   "metadata": {},
   "outputs": [],
   "source": [
    "loss_risk_1 = (profits_1<0).mean()*100"
   ]
  },
  {
   "cell_type": "code",
   "execution_count": 79,
   "metadata": {
    "scrolled": false
   },
   "outputs": [
    {
     "name": "stdout",
     "output_type": "stream",
     "text": [
      "Доверительный интервал для 2 региона: (35728489.0, 828006639.0) рублей или (35.73, 828.01) млн. рублей\n",
      "Средняя прибыль для 2 региона: 441504278.0 рублей или 441.5 млн. рублей\n",
      "Риск убытков для 2 региона - 1.6 %\n"
     ]
    }
   ],
   "source": [
    "print(f'Доверительный интервал для 2 региона: {round(lower_1, 0), round(upper_1, 0)} рублей или \\\n",
    "{round(lower_1/1000000, 2), round(upper_1/1000000, 2)} млн. рублей')\n",
    "\n",
    "print(f'Средняя прибыль для 2 региона: {round(profit_1_mean, 0)} рублей или {round(profit_1_mean/1000000, 2)} млн. рублей')\n",
    "\n",
    "print(f'Риск убытков для 2 региона - {round(loss_risk_1, 1)} %')\n",
    "      "
   ]
  },
  {
   "cell_type": "markdown",
   "metadata": {},
   "source": [
    "***Вывод по расчетам прибыли, рисков и проверки гипотез по 2 региону:***\n",
    "\n",
    "Средняя прибыль по топ-200 скважин 2 региона составляет 438.8 млн рублей, риск убытков - 1,6%. \n",
    "\n",
    "Для второго региона прогнозная прибыль больше, чем в 1 регионе (443 млн.руб. против 406 млн руб.), и существенно ниже риск убытков - 1,6%. В нашей задаче риск должен быть не более 2,5%, поэтому разработка во втором регионе экономически безопаснее, и потенциально принесет бОльшую прибыль, чем в первом. Учитывая высокие метрики модели на данных по 2 региону, можно делать вывод, что прогнозные данные по 2 региону более точные."
   ]
  },
  {
   "cell_type": "markdown",
   "metadata": {},
   "source": [
    "**Расчет прибыли и рисков для 3 региона**"
   ]
  },
  {
   "cell_type": "code",
   "execution_count": 80,
   "metadata": {},
   "outputs": [],
   "source": [
    "profits_2 =[]\n",
    "\n",
    "for i in range(1000):\n",
    "    #создаем выборку с прогнозами объемов сырья по 500 скважинам, \n",
    "    target_subsample = forecast_geo_data_2.sample(n = 500, replace = True, random_state = state)\n",
    "    #считаем прибыль по топ-200 из 500 выбранных скважин\n",
    "    profit_ = profit(target_subsample)\n",
    "    #добавляем расчетную прибыль топ-200 скважинам в список profits_2\n",
    "    profits_2.append(profit_)"
   ]
  },
  {
   "cell_type": "code",
   "execution_count": 81,
   "metadata": {},
   "outputs": [],
   "source": [
    "profits_2 = pd.Series(profits_2)"
   ]
  },
  {
   "cell_type": "markdown",
   "metadata": {},
   "source": [
    "Посчитаем 95% доверительный интервал для 3 региона:"
   ]
  },
  {
   "cell_type": "code",
   "execution_count": 82,
   "metadata": {},
   "outputs": [],
   "source": [
    "#нижняя граница доверительного интервала:\n",
    "lower_2 = profits_2.quantile(0.025)\n",
    "\n",
    "#верхняя граница доверительного интервала:\n",
    "upper_2 = profits_2.quantile(0.975)"
   ]
  },
  {
   "cell_type": "markdown",
   "metadata": {},
   "source": [
    "Рассчитаем среднюю прибыль для 3 региона:"
   ]
  },
  {
   "cell_type": "code",
   "execution_count": 83,
   "metadata": {},
   "outputs": [],
   "source": [
    "profit_2_mean = profits_2.mean()"
   ]
  },
  {
   "cell_type": "markdown",
   "metadata": {},
   "source": [
    "Рассчитаем риск убытков для 3 региона:"
   ]
  },
  {
   "cell_type": "code",
   "execution_count": 84,
   "metadata": {},
   "outputs": [],
   "source": [
    "loss_risk_2 = (profits_2<0).mean()*100"
   ]
  },
  {
   "cell_type": "code",
   "execution_count": 85,
   "metadata": {
    "scrolled": true
   },
   "outputs": [
    {
     "name": "stdout",
     "output_type": "stream",
     "text": [
      "Доверительный интервал для 3 региона: (-164785166.0, 888206234.0) рублей или (-164.79, 888.21) млн. рублей\n",
      "Средняя прибыль для 3 региона: 385213196.0 рублей или 385.21 млн. рублей\n",
      "Риск убытков для 3 региона - 7.8 %\n"
     ]
    }
   ],
   "source": [
    "print(f'Доверительный интервал для 3 региона: {round(lower_2, 0), round(upper_2, 0)} рублей или \\\n",
    "{round(lower_2/1000000, 2), round(upper_2/1000000, 2)} млн. рублей')\n",
    "\n",
    "print(f'Средняя прибыль для 3 региона: {round(profit_2_mean, 0)} рублей или {round(profit_2_mean/1000000, 2)} млн. рублей')\n",
    "\n",
    "print(f'Риск убытков для 3 региона - {round(loss_risk_2, 1)} %')\n",
    "      "
   ]
  },
  {
   "cell_type": "markdown",
   "metadata": {},
   "source": [
    "***Вывод по расчетам прибыли, рисков и проверки гипотез по 3 региону:***\n",
    "\n",
    "Средняя прибыль по топ-200 скважин 3 региона составляет 385,2 млн рублей, риск убытков - 7.8%, существенно выше допустимого.\n",
    "\n",
    "Для третьего региона прогнозная прибыль меньше, чем в 1 и 2 регионах (385 млн.руб. против 406 млн.руб. в первом  и 440 млн.руб. во втором регионе), риск убытков почти в 5 раз выше, чем во втором. Третий регион выходит наименее экономически привлекательным."
   ]
  },
  {
   "cell_type": "markdown",
   "metadata": {},
   "source": [
    "## Общий вывод по проекту"
   ]
  },
  {
   "cell_type": "markdown",
   "metadata": {},
   "source": [
    "По итогам прогноза объемов запасов сырья, расчета прибыли и рисков по трем регионам можно сделать следующие выводы:\n",
    "\n",
    "**1)** В 1 и 3 регионе получили соспоставимые средние прогнозные объемы запасов нефти - 92 и 94 тыс.баррелей соответственно, разброс значений для этих регионов одинаков и равен 45 тыс. баррелей. Но в этих регионах получили низкие метрики модели: RMSE - 38 и 40 тыс.баррелей. Только в 27% случаев (1 регион) и в 18% случаев (3 регион) прогнозы модели точнее просто расчетных средних значений объемов запасов. \n",
    "\n",
    "**2)** Во 2 регионе средний прогноз запасов меньше - 57 тыс.баррелей, но почти в 100% случаев эти прогнозы точнее расчетных средних значений. RMSE модели на данных по 2 региону равен всего 0,89 баррелей, т е погрешность при расчетах прогноза очень низкая по сравению с 1 и 3 регионами.\n",
    "\n",
    "**3)** Объем сырья, достаточный для безубыточной работы новой скважины, составляет 111,1 тыс. баррелей. Во всех трех регионах при корректных прогнозах есть достаточное число скважин, соответствющих этому критерию.\n",
    "\n",
    "**4)** Если посчитать прибыль по топ-200 скважинам, отобранным с помощью модели, основываясь на фактических данных, то в 1 регионе получаем фактическую прибыль 3.36 млрд. руб., прогноз прибыли на основе данных модели завышен на 16% (0,54 млрд.руб.).\n",
    "\n",
    "Во 2 регионе фактическая прибыль - 2.42 млрд.руб., прогноз завышен на 3%. В 3 регионе фактическая прибыль - 2,6 млрд.руб., прогноз завышен на 30% (на 0.78 млрд.руб.).\n",
    "\n",
    "Самый точный прогноз объема запасов и минимальное расхождение фактической прибыли с прогнозной получили во втором регионе.\n",
    "\n",
    "**5)** Средние прогнозные значения прибыли по топ-200 скважин (рассчитанны с помощью  bootstrap)  из 1, 2 и 3 регионов - 406 млн.руб., 440 млн.руб. и 385 млн.руб. \n",
    "Риски убытков в 1 и 3 регионе равны 6,7% и 7.8%. Риск убытков во 2 регионе - 1,6%. Только второй регион имеет приемлемый, ниже 2,5%, риск убытков. \n",
    "\n",
    "Важно отметить, что в 1 и 3 регионе в том числе из-за низких метрик модели (высокий RMSE и низкий r2), используемой для расчета прогноза объемов сырья, средняя прогнозная прибыль с большой вероятностью будет отличаться от прибыли, посчитанной на фактических данных.\n",
    "\n",
    "Во 2 регионе более точные прогнозные объемы сырья (низкие RMSE и высокий r2 модели), и как следствие более точные прогнозы прибыли. \n",
    "\n",
    "\n",
    "**6)** По результатам проведенного анализа я бы рекомендовала к разработке 2 регион по следующим причинам:\n",
    "\n",
    "- наличие точек с объемами запасов, достаточных для безубыточных инвестиций;\n",
    "- более качественные прогнозы объемов запасов сырья; \n",
    "- более точные по сравнению с первым и третьим регионами прогнозы прибыли по исследуемым потенциальным местам разработки скважин;\n",
    "- приемлемый риск убытков - 1,7%,в 4 раза ниже, чем риски в 1 и 3 регионах."
   ]
  }
 ],
 "metadata": {
  "ExecuteTimeLog": [
   {
    "duration": 17561,
    "start_time": "2024-04-04T14:43:26.006Z"
   },
   {
    "duration": 1885,
    "start_time": "2024-04-04T14:43:49.811Z"
   },
   {
    "duration": 656,
    "start_time": "2024-04-04T14:43:59.803Z"
   },
   {
    "duration": 13,
    "start_time": "2024-04-04T14:44:02.493Z"
   },
   {
    "duration": 9,
    "start_time": "2024-04-04T14:45:23.585Z"
   },
   {
    "duration": 8,
    "start_time": "2024-04-04T14:47:55.675Z"
   },
   {
    "duration": 17,
    "start_time": "2024-04-04T14:52:07.870Z"
   },
   {
    "duration": 15,
    "start_time": "2024-04-04T14:53:15.984Z"
   },
   {
    "duration": 14,
    "start_time": "2024-04-04T14:53:25.746Z"
   },
   {
    "duration": 42,
    "start_time": "2024-04-04T14:54:39.966Z"
   },
   {
    "duration": 40,
    "start_time": "2024-04-04T14:54:52.460Z"
   },
   {
    "duration": 49,
    "start_time": "2024-04-04T14:54:53.816Z"
   },
   {
    "duration": 32,
    "start_time": "2024-04-04T15:00:52.546Z"
   },
   {
    "duration": 24,
    "start_time": "2024-04-04T15:01:05.379Z"
   },
   {
    "duration": 24,
    "start_time": "2024-04-04T15:01:11.412Z"
   },
   {
    "duration": 31,
    "start_time": "2024-04-04T15:01:18.657Z"
   },
   {
    "duration": 463,
    "start_time": "2024-04-04T15:13:01.587Z"
   },
   {
    "duration": 567,
    "start_time": "2024-04-04T15:13:08.638Z"
   },
   {
    "duration": 462,
    "start_time": "2024-04-04T15:13:18.647Z"
   },
   {
    "duration": 486,
    "start_time": "2024-04-04T15:14:27.652Z"
   },
   {
    "duration": 443,
    "start_time": "2024-04-04T15:15:52.247Z"
   },
   {
    "duration": 70,
    "start_time": "2024-04-04T15:19:02.788Z"
   },
   {
    "duration": 15,
    "start_time": "2024-04-04T15:28:10.360Z"
   },
   {
    "duration": 14,
    "start_time": "2024-04-04T15:28:31.136Z"
   },
   {
    "duration": 15,
    "start_time": "2024-04-04T15:28:44.446Z"
   },
   {
    "duration": 9916,
    "start_time": "2024-04-04T16:05:25.251Z"
   },
   {
    "duration": 61,
    "start_time": "2024-04-04T16:05:42.418Z"
   },
   {
    "duration": 148,
    "start_time": "2024-04-04T16:05:50.122Z"
   },
   {
    "duration": 16,
    "start_time": "2024-04-04T16:06:23.550Z"
   },
   {
    "duration": 5,
    "start_time": "2024-04-04T16:06:27.758Z"
   },
   {
    "duration": 122,
    "start_time": "2024-04-04T16:10:14.043Z"
   },
   {
    "duration": 9,
    "start_time": "2024-04-04T16:15:15.538Z"
   },
   {
    "duration": 4,
    "start_time": "2024-04-04T16:15:25.891Z"
   },
   {
    "duration": 7,
    "start_time": "2024-04-04T16:16:29.910Z"
   },
   {
    "duration": 35,
    "start_time": "2024-04-04T16:17:57.495Z"
   },
   {
    "duration": 984,
    "start_time": "2024-04-04T16:18:16.042Z"
   },
   {
    "duration": 949,
    "start_time": "2024-04-04T16:18:37.488Z"
   },
   {
    "duration": 5,
    "start_time": "2024-04-04T16:19:20.407Z"
   },
   {
    "duration": 19,
    "start_time": "2024-04-04T16:19:45.796Z"
   },
   {
    "duration": 17,
    "start_time": "2024-04-04T16:22:10.327Z"
   },
   {
    "duration": 11,
    "start_time": "2024-04-04T16:22:27.861Z"
   },
   {
    "duration": 12,
    "start_time": "2024-04-04T16:22:48.701Z"
   },
   {
    "duration": 4,
    "start_time": "2024-04-04T16:23:38.392Z"
   },
   {
    "duration": 6,
    "start_time": "2024-04-04T16:23:51.877Z"
   },
   {
    "duration": 23,
    "start_time": "2024-04-04T16:24:08.402Z"
   },
   {
    "duration": 7,
    "start_time": "2024-04-04T16:24:14.696Z"
   },
   {
    "duration": 17,
    "start_time": "2024-04-04T16:24:22.611Z"
   },
   {
    "duration": 9659,
    "start_time": "2024-04-04T16:24:39.877Z"
   },
   {
    "duration": 1769,
    "start_time": "2024-04-04T16:24:49.539Z"
   },
   {
    "duration": 405,
    "start_time": "2024-04-04T16:24:51.309Z"
   },
   {
    "duration": 14,
    "start_time": "2024-04-04T16:24:51.716Z"
   },
   {
    "duration": 28,
    "start_time": "2024-04-04T16:24:51.731Z"
   },
   {
    "duration": 38,
    "start_time": "2024-04-04T16:24:51.761Z"
   },
   {
    "duration": 33,
    "start_time": "2024-04-04T16:24:51.801Z"
   },
   {
    "duration": 25,
    "start_time": "2024-04-04T16:24:51.837Z"
   },
   {
    "duration": 22,
    "start_time": "2024-04-04T16:24:51.864Z"
   },
   {
    "duration": 45,
    "start_time": "2024-04-04T16:24:51.890Z"
   },
   {
    "duration": 57,
    "start_time": "2024-04-04T16:24:51.937Z"
   },
   {
    "duration": 45,
    "start_time": "2024-04-04T16:24:51.996Z"
   },
   {
    "duration": 34,
    "start_time": "2024-04-04T16:24:52.064Z"
   },
   {
    "duration": 23,
    "start_time": "2024-04-04T16:24:52.099Z"
   },
   {
    "duration": 48,
    "start_time": "2024-04-04T16:24:52.123Z"
   },
   {
    "duration": 446,
    "start_time": "2024-04-04T16:24:52.172Z"
   },
   {
    "duration": 476,
    "start_time": "2024-04-04T16:24:52.620Z"
   },
   {
    "duration": 532,
    "start_time": "2024-04-04T16:24:53.097Z"
   },
   {
    "duration": 14,
    "start_time": "2024-04-04T16:24:53.631Z"
   },
   {
    "duration": 29,
    "start_time": "2024-04-04T16:24:53.647Z"
   },
   {
    "duration": 13,
    "start_time": "2024-04-04T16:24:53.677Z"
   },
   {
    "duration": 42,
    "start_time": "2024-04-04T16:24:53.692Z"
   },
   {
    "duration": 43,
    "start_time": "2024-04-04T16:24:53.735Z"
   },
   {
    "duration": 5,
    "start_time": "2024-04-04T16:24:53.780Z"
   },
   {
    "duration": 80,
    "start_time": "2024-04-04T16:24:53.787Z"
   },
   {
    "duration": 4,
    "start_time": "2024-04-04T16:24:53.870Z"
   },
   {
    "duration": 96,
    "start_time": "2024-04-04T16:24:53.876Z"
   },
   {
    "duration": 30,
    "start_time": "2024-04-04T16:24:53.975Z"
   },
   {
    "duration": 24,
    "start_time": "2024-04-04T16:24:54.006Z"
   },
   {
    "duration": 46,
    "start_time": "2024-04-04T16:24:54.031Z"
   },
   {
    "duration": 9851,
    "start_time": "2024-04-04T16:27:09.261Z"
   },
   {
    "duration": 9639,
    "start_time": "2024-04-04T16:27:47.569Z"
   },
   {
    "duration": 1717,
    "start_time": "2024-04-04T16:27:59.364Z"
   },
   {
    "duration": 389,
    "start_time": "2024-04-04T16:28:05.444Z"
   },
   {
    "duration": 18,
    "start_time": "2024-04-04T16:28:18.352Z"
   },
   {
    "duration": 15,
    "start_time": "2024-04-04T16:28:21.612Z"
   },
   {
    "duration": 13,
    "start_time": "2024-04-04T16:28:23.480Z"
   },
   {
    "duration": 40,
    "start_time": "2024-04-04T16:28:28.441Z"
   },
   {
    "duration": 16,
    "start_time": "2024-04-04T16:28:29.983Z"
   },
   {
    "duration": 5,
    "start_time": "2024-04-04T16:28:34.493Z"
   },
   {
    "duration": 13,
    "start_time": "2024-04-04T16:28:36.683Z"
   },
   {
    "duration": 4,
    "start_time": "2024-04-04T16:28:41.980Z"
   },
   {
    "duration": 7,
    "start_time": "2024-04-04T16:28:43.602Z"
   },
   {
    "duration": 5,
    "start_time": "2024-04-04T16:28:48.680Z"
   },
   {
    "duration": 9,
    "start_time": "2024-04-04T16:28:50.554Z"
   },
   {
    "duration": 19,
    "start_time": "2024-04-04T16:28:52.463Z"
   },
   {
    "duration": 1758,
    "start_time": "2024-04-04T16:32:04.282Z"
   },
   {
    "duration": 393,
    "start_time": "2024-04-04T16:32:10.162Z"
   },
   {
    "duration": 17,
    "start_time": "2024-04-04T16:32:20.810Z"
   },
   {
    "duration": 15,
    "start_time": "2024-04-04T16:32:22.813Z"
   },
   {
    "duration": 15,
    "start_time": "2024-04-04T16:32:27.299Z"
   },
   {
    "duration": 46,
    "start_time": "2024-04-04T16:32:31.952Z"
   },
   {
    "duration": 15,
    "start_time": "2024-04-04T16:32:35.522Z"
   },
   {
    "duration": 5,
    "start_time": "2024-04-04T16:32:39.662Z"
   },
   {
    "duration": 13,
    "start_time": "2024-04-04T16:32:41.830Z"
   },
   {
    "duration": 4,
    "start_time": "2024-04-04T16:32:47.263Z"
   },
   {
    "duration": 8,
    "start_time": "2024-04-04T16:32:48.935Z"
   },
   {
    "duration": 5,
    "start_time": "2024-04-04T16:32:50.963Z"
   },
   {
    "duration": 6,
    "start_time": "2024-04-04T16:32:56.151Z"
   },
   {
    "duration": 79,
    "start_time": "2024-04-04T16:33:04.500Z"
   },
   {
    "duration": 74,
    "start_time": "2024-04-04T16:33:15.320Z"
   },
   {
    "duration": 7,
    "start_time": "2024-04-04T16:35:21.912Z"
   },
   {
    "duration": 14,
    "start_time": "2024-04-04T16:36:15.209Z"
   },
   {
    "duration": 19,
    "start_time": "2024-04-04T16:36:29.960Z"
   },
   {
    "duration": 1552,
    "start_time": "2024-04-05T13:26:34.566Z"
   },
   {
    "duration": 20972,
    "start_time": "2024-04-05T13:26:45.876Z"
   },
   {
    "duration": 841,
    "start_time": "2024-04-05T13:27:08.697Z"
   },
   {
    "duration": 1644,
    "start_time": "2024-04-05T13:27:14.354Z"
   },
   {
    "duration": 22,
    "start_time": "2024-04-05T13:28:26.513Z"
   },
   {
    "duration": 16,
    "start_time": "2024-04-05T13:28:58.696Z"
   },
   {
    "duration": 16,
    "start_time": "2024-04-05T13:29:00.754Z"
   },
   {
    "duration": 69,
    "start_time": "2024-04-05T13:29:43.077Z"
   },
   {
    "duration": 10,
    "start_time": "2024-04-05T13:30:04.376Z"
   },
   {
    "duration": 38,
    "start_time": "2024-04-05T13:30:09.629Z"
   },
   {
    "duration": 26,
    "start_time": "2024-04-05T13:30:14.674Z"
   },
   {
    "duration": 35,
    "start_time": "2024-04-05T13:30:16.088Z"
   },
   {
    "duration": 39,
    "start_time": "2024-04-05T13:30:20.066Z"
   },
   {
    "duration": 11284,
    "start_time": "2024-04-05T13:30:34.617Z"
   },
   {
    "duration": 1990,
    "start_time": "2024-04-05T13:31:18.059Z"
   },
   {
    "duration": 450,
    "start_time": "2024-04-05T13:31:27.667Z"
   },
   {
    "duration": 17,
    "start_time": "2024-04-05T13:31:47.757Z"
   },
   {
    "duration": 15,
    "start_time": "2024-04-05T13:31:49.475Z"
   },
   {
    "duration": 9,
    "start_time": "2024-04-05T13:31:50.718Z"
   },
   {
    "duration": 46,
    "start_time": "2024-04-05T13:31:55.484Z"
   },
   {
    "duration": 27,
    "start_time": "2024-04-05T13:31:56.914Z"
   },
   {
    "duration": 51,
    "start_time": "2024-04-05T13:31:57.977Z"
   },
   {
    "duration": 35,
    "start_time": "2024-04-05T13:32:16.646Z"
   },
   {
    "duration": 25,
    "start_time": "2024-04-05T13:32:22.647Z"
   },
   {
    "duration": 28,
    "start_time": "2024-04-05T13:32:30.777Z"
   },
   {
    "duration": 49,
    "start_time": "2024-04-05T13:34:26.554Z"
   },
   {
    "duration": 17,
    "start_time": "2024-04-05T13:34:28.217Z"
   },
   {
    "duration": 7,
    "start_time": "2024-04-05T13:34:32.587Z"
   },
   {
    "duration": 24,
    "start_time": "2024-04-05T13:34:35.416Z"
   },
   {
    "duration": 5,
    "start_time": "2024-04-05T13:34:39.087Z"
   },
   {
    "duration": 7,
    "start_time": "2024-04-05T13:34:41.038Z"
   },
   {
    "duration": 5,
    "start_time": "2024-04-05T13:34:46.298Z"
   },
   {
    "duration": 8,
    "start_time": "2024-04-05T13:35:05.874Z"
   },
   {
    "duration": 5,
    "start_time": "2024-04-05T13:37:07.418Z"
   },
   {
    "duration": 12,
    "start_time": "2024-04-05T13:37:22.611Z"
   },
   {
    "duration": 9,
    "start_time": "2024-04-05T13:38:19.679Z"
   },
   {
    "duration": 157,
    "start_time": "2024-04-05T13:39:31.092Z"
   },
   {
    "duration": 13,
    "start_time": "2024-04-05T13:39:37.994Z"
   },
   {
    "duration": 13,
    "start_time": "2024-04-05T13:39:45.688Z"
   },
   {
    "duration": 19,
    "start_time": "2024-04-05T13:44:05.817Z"
   },
   {
    "duration": 5,
    "start_time": "2024-04-05T13:44:12.025Z"
   },
   {
    "duration": 14,
    "start_time": "2024-04-05T13:51:28.478Z"
   },
   {
    "duration": 105,
    "start_time": "2024-04-05T13:56:33.531Z"
   },
   {
    "duration": 12,
    "start_time": "2024-04-05T13:57:00.000Z"
   },
   {
    "duration": 8,
    "start_time": "2024-04-05T13:57:28.162Z"
   },
   {
    "duration": 7,
    "start_time": "2024-04-05T13:57:36.062Z"
   },
   {
    "duration": 7,
    "start_time": "2024-04-05T13:57:44.549Z"
   },
   {
    "duration": 8,
    "start_time": "2024-04-05T13:58:15.611Z"
   },
   {
    "duration": 97,
    "start_time": "2024-04-05T14:05:37.585Z"
   },
   {
    "duration": 55,
    "start_time": "2024-04-05T14:07:27.168Z"
   },
   {
    "duration": 18,
    "start_time": "2024-04-05T14:07:58.314Z"
   },
   {
    "duration": 7,
    "start_time": "2024-04-05T14:08:20.552Z"
   },
   {
    "duration": 25,
    "start_time": "2024-04-05T14:09:20.737Z"
   },
   {
    "duration": 21,
    "start_time": "2024-04-05T14:09:48.077Z"
   },
   {
    "duration": 5,
    "start_time": "2024-04-05T14:10:01.957Z"
   },
   {
    "duration": 14,
    "start_time": "2024-04-05T14:11:49.752Z"
   },
   {
    "duration": 5,
    "start_time": "2024-04-05T14:12:47.191Z"
   },
   {
    "duration": 7,
    "start_time": "2024-04-05T14:13:24.091Z"
   },
   {
    "duration": 9,
    "start_time": "2024-04-05T14:14:19.819Z"
   },
   {
    "duration": 12,
    "start_time": "2024-04-05T14:15:43.026Z"
   },
   {
    "duration": 13,
    "start_time": "2024-04-05T14:15:43.768Z"
   },
   {
    "duration": 13,
    "start_time": "2024-04-05T14:16:42.268Z"
   },
   {
    "duration": 10,
    "start_time": "2024-04-05T14:17:55.409Z"
   },
   {
    "duration": 18,
    "start_time": "2024-04-05T14:22:17.022Z"
   },
   {
    "duration": 10,
    "start_time": "2024-04-05T14:22:55.356Z"
   },
   {
    "duration": 11,
    "start_time": "2024-04-05T14:23:10.160Z"
   },
   {
    "duration": 12,
    "start_time": "2024-04-05T14:24:03.342Z"
   },
   {
    "duration": 9,
    "start_time": "2024-04-05T14:24:27.813Z"
   },
   {
    "duration": 7,
    "start_time": "2024-04-05T14:25:22.879Z"
   },
   {
    "duration": 17,
    "start_time": "2024-04-05T14:26:02.349Z"
   },
   {
    "duration": 8,
    "start_time": "2024-04-05T14:26:26.808Z"
   },
   {
    "duration": 7,
    "start_time": "2024-04-05T14:26:36.385Z"
   },
   {
    "duration": 1482,
    "start_time": "2024-04-05T14:26:53.101Z"
   },
   {
    "duration": 1481,
    "start_time": "2024-04-05T14:27:14.461Z"
   },
   {
    "duration": 11886,
    "start_time": "2024-04-05T14:31:10.404Z"
   },
   {
    "duration": 2081,
    "start_time": "2024-04-05T14:31:26.786Z"
   },
   {
    "duration": 464,
    "start_time": "2024-04-05T14:32:12.309Z"
   },
   {
    "duration": 17,
    "start_time": "2024-04-05T14:32:16.159Z"
   },
   {
    "duration": 16,
    "start_time": "2024-04-05T14:32:24.730Z"
   },
   {
    "duration": 16,
    "start_time": "2024-04-05T14:32:26.010Z"
   },
   {
    "duration": 17,
    "start_time": "2024-04-05T14:32:27.469Z"
   },
   {
    "duration": 161,
    "start_time": "2024-04-05T14:32:48.990Z"
   },
   {
    "duration": 50,
    "start_time": "2024-04-05T14:33:16.156Z"
   },
   {
    "duration": 19,
    "start_time": "2024-04-05T14:33:17.072Z"
   },
   {
    "duration": 48,
    "start_time": "2024-04-05T14:33:24.685Z"
   },
   {
    "duration": 18,
    "start_time": "2024-04-05T14:33:26.021Z"
   },
   {
    "duration": 7,
    "start_time": "2024-04-05T14:33:27.244Z"
   },
   {
    "duration": 54,
    "start_time": "2024-04-05T14:33:30.853Z"
   },
   {
    "duration": 19,
    "start_time": "2024-04-05T14:33:32.090Z"
   },
   {
    "duration": 6,
    "start_time": "2024-04-05T14:33:33.289Z"
   },
   {
    "duration": 83,
    "start_time": "2024-04-05T14:33:37.804Z"
   },
   {
    "duration": 6,
    "start_time": "2024-04-05T14:33:39.189Z"
   },
   {
    "duration": 7,
    "start_time": "2024-04-05T14:33:40.380Z"
   },
   {
    "duration": 8,
    "start_time": "2024-04-05T14:33:44.989Z"
   },
   {
    "duration": 9,
    "start_time": "2024-04-05T14:33:46.330Z"
   },
   {
    "duration": 15,
    "start_time": "2024-04-05T14:33:50.533Z"
   },
   {
    "duration": 15,
    "start_time": "2024-04-05T14:33:52.372Z"
   },
   {
    "duration": 14,
    "start_time": "2024-04-05T14:34:06.880Z"
   },
   {
    "duration": 20,
    "start_time": "2024-04-05T14:34:11.805Z"
   },
   {
    "duration": 4,
    "start_time": "2024-04-05T14:34:15.138Z"
   },
   {
    "duration": 8,
    "start_time": "2024-04-05T14:34:16.070Z"
   },
   {
    "duration": 8,
    "start_time": "2024-04-05T14:34:17.129Z"
   },
   {
    "duration": 13,
    "start_time": "2024-04-05T14:34:20.924Z"
   },
   {
    "duration": 13,
    "start_time": "2024-04-05T14:34:22.299Z"
   },
   {
    "duration": 10,
    "start_time": "2024-04-05T14:34:25.949Z"
   },
   {
    "duration": 34,
    "start_time": "2024-04-05T14:34:31.059Z"
   },
   {
    "duration": 11,
    "start_time": "2024-04-05T14:34:31.998Z"
   },
   {
    "duration": 17,
    "start_time": "2024-04-05T14:34:33.093Z"
   },
   {
    "duration": 19,
    "start_time": "2024-04-05T14:34:36.470Z"
   },
   {
    "duration": 13,
    "start_time": "2024-04-05T14:34:38.417Z"
   },
   {
    "duration": 19,
    "start_time": "2024-04-05T14:51:36.175Z"
   },
   {
    "duration": 7,
    "start_time": "2024-04-05T14:52:14.446Z"
   },
   {
    "duration": 7,
    "start_time": "2024-04-05T14:52:24.610Z"
   },
   {
    "duration": 329,
    "start_time": "2024-04-05T14:57:37.453Z"
   },
   {
    "duration": 316,
    "start_time": "2024-04-05T14:57:52.996Z"
   },
   {
    "duration": 326,
    "start_time": "2024-04-05T15:03:31.565Z"
   },
   {
    "duration": 5,
    "start_time": "2024-04-05T15:07:32.068Z"
   },
   {
    "duration": 5,
    "start_time": "2024-04-05T15:07:43.689Z"
   },
   {
    "duration": 5,
    "start_time": "2024-04-05T15:07:43.918Z"
   },
   {
    "duration": 586,
    "start_time": "2024-04-05T15:10:08.907Z"
   },
   {
    "duration": 6,
    "start_time": "2024-04-05T15:13:50.659Z"
   },
   {
    "duration": 349,
    "start_time": "2024-04-05T15:15:50.679Z"
   },
   {
    "duration": 8,
    "start_time": "2024-04-05T15:21:23.889Z"
   },
   {
    "duration": 9,
    "start_time": "2024-04-05T15:21:40.195Z"
   },
   {
    "duration": 8,
    "start_time": "2024-04-05T15:22:22.725Z"
   },
   {
    "duration": 9,
    "start_time": "2024-04-05T15:23:17.373Z"
   },
   {
    "duration": 4,
    "start_time": "2024-04-05T15:41:28.076Z"
   },
   {
    "duration": 3,
    "start_time": "2024-04-05T15:42:14.330Z"
   },
   {
    "duration": 4,
    "start_time": "2024-04-05T15:42:38.882Z"
   },
   {
    "duration": 5,
    "start_time": "2024-04-05T15:42:52.590Z"
   },
   {
    "duration": 5,
    "start_time": "2024-04-05T15:44:03.129Z"
   },
   {
    "duration": 25,
    "start_time": "2024-04-05T15:49:57.078Z"
   },
   {
    "duration": 4,
    "start_time": "2024-04-05T15:50:10.168Z"
   },
   {
    "duration": 5,
    "start_time": "2024-04-05T15:53:29.000Z"
   },
   {
    "duration": 101,
    "start_time": "2024-04-05T16:05:53.230Z"
   },
   {
    "duration": 4,
    "start_time": "2024-04-05T16:30:47.560Z"
   },
   {
    "duration": 15,
    "start_time": "2024-04-05T16:36:07.089Z"
   },
   {
    "duration": 10,
    "start_time": "2024-04-05T16:36:37.719Z"
   },
   {
    "duration": 4,
    "start_time": "2024-04-05T16:36:42.856Z"
   },
   {
    "duration": 16,
    "start_time": "2024-04-05T16:36:46.826Z"
   },
   {
    "duration": 13,
    "start_time": "2024-04-05T16:37:13.319Z"
   },
   {
    "duration": 11,
    "start_time": "2024-04-05T16:37:43.146Z"
   },
   {
    "duration": 9,
    "start_time": "2024-04-05T16:38:34.407Z"
   },
   {
    "duration": 10,
    "start_time": "2024-04-05T16:38:52.923Z"
   },
   {
    "duration": 10,
    "start_time": "2024-04-05T16:39:14.542Z"
   },
   {
    "duration": 10,
    "start_time": "2024-04-05T16:39:20.186Z"
   },
   {
    "duration": 10,
    "start_time": "2024-04-05T16:39:59.327Z"
   },
   {
    "duration": 12,
    "start_time": "2024-04-05T16:40:30.075Z"
   },
   {
    "duration": 21733,
    "start_time": "2024-04-06T07:16:35.289Z"
   },
   {
    "duration": 2076,
    "start_time": "2024-04-06T07:16:58.887Z"
   },
   {
    "duration": 1681,
    "start_time": "2024-04-06T07:17:08.613Z"
   },
   {
    "duration": 18,
    "start_time": "2024-04-06T07:17:20.266Z"
   },
   {
    "duration": 15,
    "start_time": "2024-04-06T07:17:21.754Z"
   },
   {
    "duration": 14,
    "start_time": "2024-04-06T07:17:23.093Z"
   },
   {
    "duration": 43,
    "start_time": "2024-04-06T07:17:43.328Z"
   },
   {
    "duration": 21,
    "start_time": "2024-04-06T07:17:45.397Z"
   },
   {
    "duration": 5,
    "start_time": "2024-04-06T07:17:46.757Z"
   },
   {
    "duration": 43,
    "start_time": "2024-04-06T07:17:51.922Z"
   },
   {
    "duration": 16,
    "start_time": "2024-04-06T07:17:54.018Z"
   },
   {
    "duration": 5,
    "start_time": "2024-04-06T07:17:55.866Z"
   },
   {
    "duration": 48,
    "start_time": "2024-04-06T07:17:57.743Z"
   },
   {
    "duration": 18,
    "start_time": "2024-04-06T07:18:02.154Z"
   },
   {
    "duration": 5,
    "start_time": "2024-04-06T07:18:03.705Z"
   },
   {
    "duration": 45,
    "start_time": "2024-04-06T07:18:12.940Z"
   },
   {
    "duration": 5,
    "start_time": "2024-04-06T07:18:14.842Z"
   },
   {
    "duration": 10,
    "start_time": "2024-04-06T07:18:16.313Z"
   },
   {
    "duration": 8,
    "start_time": "2024-04-06T07:18:21.759Z"
   },
   {
    "duration": 7,
    "start_time": "2024-04-06T07:18:28.119Z"
   },
   {
    "duration": 9,
    "start_time": "2024-04-06T07:18:30.107Z"
   },
   {
    "duration": 11,
    "start_time": "2024-04-06T07:18:31.707Z"
   },
   {
    "duration": 15,
    "start_time": "2024-04-06T07:18:36.425Z"
   },
   {
    "duration": 12,
    "start_time": "2024-04-06T07:18:40.721Z"
   },
   {
    "duration": 19,
    "start_time": "2024-04-06T07:18:57.777Z"
   },
   {
    "duration": 5,
    "start_time": "2024-04-06T07:18:59.173Z"
   },
   {
    "duration": 7,
    "start_time": "2024-04-06T07:19:00.643Z"
   },
   {
    "duration": 7,
    "start_time": "2024-04-06T07:19:08.850Z"
   },
   {
    "duration": 14,
    "start_time": "2024-04-06T07:19:10.443Z"
   },
   {
    "duration": 17,
    "start_time": "2024-04-06T07:19:12.072Z"
   },
   {
    "duration": 11,
    "start_time": "2024-04-06T07:19:18.265Z"
   },
   {
    "duration": 174,
    "start_time": "2024-04-06T07:19:26.505Z"
   },
   {
    "duration": 8,
    "start_time": "2024-04-06T07:19:27.842Z"
   },
   {
    "duration": 11,
    "start_time": "2024-04-06T07:19:29.384Z"
   },
   {
    "duration": 12,
    "start_time": "2024-04-06T07:19:33.982Z"
   },
   {
    "duration": 12,
    "start_time": "2024-04-06T07:19:35.483Z"
   },
   {
    "duration": 319,
    "start_time": "2024-04-06T07:20:08.229Z"
   },
   {
    "duration": 5,
    "start_time": "2024-04-06T07:20:13.506Z"
   },
   {
    "duration": 373,
    "start_time": "2024-04-06T07:20:15.602Z"
   },
   {
    "duration": 5,
    "start_time": "2024-04-06T07:21:09.045Z"
   },
   {
    "duration": 309,
    "start_time": "2024-04-06T07:21:13.460Z"
   },
   {
    "duration": 158,
    "start_time": "2024-04-06T07:21:39.208Z"
   },
   {
    "duration": 3,
    "start_time": "2024-04-06T07:21:42.025Z"
   },
   {
    "duration": 4,
    "start_time": "2024-04-06T07:21:43.527Z"
   },
   {
    "duration": 4,
    "start_time": "2024-04-06T07:22:16.228Z"
   },
   {
    "duration": 5,
    "start_time": "2024-04-06T07:22:46.685Z"
   },
   {
    "duration": 4,
    "start_time": "2024-04-06T07:23:00.264Z"
   },
   {
    "duration": 5,
    "start_time": "2024-04-06T07:23:20.708Z"
   },
   {
    "duration": 5,
    "start_time": "2024-04-06T07:23:36.450Z"
   },
   {
    "duration": 3,
    "start_time": "2024-04-06T07:37:20.677Z"
   },
   {
    "duration": 17,
    "start_time": "2024-04-06T07:37:22.306Z"
   },
   {
    "duration": 18,
    "start_time": "2024-04-06T07:38:58.853Z"
   },
   {
    "duration": 11,
    "start_time": "2024-04-06T07:39:23.386Z"
   },
   {
    "duration": 11,
    "start_time": "2024-04-06T07:39:25.035Z"
   },
   {
    "duration": 11,
    "start_time": "2024-04-06T07:39:31.123Z"
   },
   {
    "duration": 12,
    "start_time": "2024-04-06T07:39:47.571Z"
   },
   {
    "duration": 136,
    "start_time": "2024-04-06T08:16:14.989Z"
   },
   {
    "duration": 297,
    "start_time": "2024-04-06T08:25:28.487Z"
   },
   {
    "duration": 4,
    "start_time": "2024-04-06T08:25:30.444Z"
   },
   {
    "duration": 5,
    "start_time": "2024-04-06T08:25:31.825Z"
   },
   {
    "duration": 14,
    "start_time": "2024-04-06T08:25:33.265Z"
   },
   {
    "duration": 4,
    "start_time": "2024-04-06T08:25:42.993Z"
   },
   {
    "duration": 97,
    "start_time": "2024-04-06T08:29:03.320Z"
   },
   {
    "duration": 4,
    "start_time": "2024-04-06T08:29:11.987Z"
   },
   {
    "duration": 4,
    "start_time": "2024-04-06T08:29:21.760Z"
   },
   {
    "duration": 4,
    "start_time": "2024-04-06T08:33:12.520Z"
   },
   {
    "duration": 119,
    "start_time": "2024-04-06T08:33:13.555Z"
   },
   {
    "duration": 4,
    "start_time": "2024-04-06T08:33:37.121Z"
   },
   {
    "duration": 49,
    "start_time": "2024-04-06T11:12:00.134Z"
   },
   {
    "duration": 5,
    "start_time": "2024-04-06T11:12:10.332Z"
   },
   {
    "duration": 17811,
    "start_time": "2024-04-06T11:12:17.907Z"
   },
   {
    "duration": 1984,
    "start_time": "2024-04-06T11:12:39.025Z"
   },
   {
    "duration": 8,
    "start_time": "2024-04-06T11:12:43.612Z"
   },
   {
    "duration": 650,
    "start_time": "2024-04-06T11:12:50.297Z"
   },
   {
    "duration": 17,
    "start_time": "2024-04-06T11:12:57.608Z"
   },
   {
    "duration": 15,
    "start_time": "2024-04-06T11:12:58.855Z"
   },
   {
    "duration": 14,
    "start_time": "2024-04-06T11:13:03.214Z"
   },
   {
    "duration": 43,
    "start_time": "2024-04-06T11:13:13.749Z"
   },
   {
    "duration": 16,
    "start_time": "2024-04-06T11:13:15.236Z"
   },
   {
    "duration": 4,
    "start_time": "2024-04-06T11:13:16.514Z"
   },
   {
    "duration": 40,
    "start_time": "2024-04-06T11:13:21.154Z"
   },
   {
    "duration": 14,
    "start_time": "2024-04-06T11:13:22.285Z"
   },
   {
    "duration": 5,
    "start_time": "2024-04-06T11:13:23.599Z"
   },
   {
    "duration": 52,
    "start_time": "2024-04-06T11:13:24.680Z"
   },
   {
    "duration": 16,
    "start_time": "2024-04-06T11:13:29.433Z"
   },
   {
    "duration": 4,
    "start_time": "2024-04-06T11:13:30.628Z"
   },
   {
    "duration": 162,
    "start_time": "2024-04-06T11:13:36.521Z"
   },
   {
    "duration": 4,
    "start_time": "2024-04-06T11:13:38.726Z"
   },
   {
    "duration": 7,
    "start_time": "2024-04-06T11:13:40.382Z"
   },
   {
    "duration": 7,
    "start_time": "2024-04-06T11:13:45.109Z"
   },
   {
    "duration": 9,
    "start_time": "2024-04-06T11:13:49.365Z"
   },
   {
    "duration": 10,
    "start_time": "2024-04-06T11:13:50.749Z"
   },
   {
    "duration": 11,
    "start_time": "2024-04-06T11:13:55.598Z"
   },
   {
    "duration": 13,
    "start_time": "2024-04-06T11:13:57.092Z"
   },
   {
    "duration": 18,
    "start_time": "2024-04-06T11:14:01.513Z"
   },
   {
    "duration": 4,
    "start_time": "2024-04-06T11:14:02.914Z"
   },
   {
    "duration": 7,
    "start_time": "2024-04-06T11:14:04.175Z"
   },
   {
    "duration": 7,
    "start_time": "2024-04-06T11:14:05.740Z"
   },
   {
    "duration": 12,
    "start_time": "2024-04-06T11:14:10.406Z"
   },
   {
    "duration": 12,
    "start_time": "2024-04-06T11:14:11.968Z"
   },
   {
    "duration": 11,
    "start_time": "2024-04-06T11:14:17.339Z"
   },
   {
    "duration": 25,
    "start_time": "2024-04-06T11:14:20.965Z"
   },
   {
    "duration": 19,
    "start_time": "2024-04-06T11:14:21.956Z"
   },
   {
    "duration": 14,
    "start_time": "2024-04-06T11:14:26.204Z"
   },
   {
    "duration": 16,
    "start_time": "2024-04-06T11:14:27.637Z"
   },
   {
    "duration": 11,
    "start_time": "2024-04-06T11:14:30.153Z"
   },
   {
    "duration": 6,
    "start_time": "2024-04-06T11:14:35.836Z"
   },
   {
    "duration": 279,
    "start_time": "2024-04-06T11:14:37.032Z"
   },
   {
    "duration": 5,
    "start_time": "2024-04-06T11:14:41.474Z"
   },
   {
    "duration": 5,
    "start_time": "2024-04-06T11:14:46.277Z"
   },
   {
    "duration": 297,
    "start_time": "2024-04-06T11:14:47.397Z"
   },
   {
    "duration": 2,
    "start_time": "2024-04-06T11:14:53.774Z"
   },
   {
    "duration": 3,
    "start_time": "2024-04-06T11:14:55.100Z"
   },
   {
    "duration": 4,
    "start_time": "2024-04-06T11:14:56.326Z"
   },
   {
    "duration": 4,
    "start_time": "2024-04-06T11:15:02.234Z"
   },
   {
    "duration": 17,
    "start_time": "2024-04-06T11:15:03.465Z"
   },
   {
    "duration": 9,
    "start_time": "2024-04-06T11:15:07.547Z"
   },
   {
    "duration": 10,
    "start_time": "2024-04-06T11:15:08.892Z"
   },
   {
    "duration": 10,
    "start_time": "2024-04-06T11:15:10.136Z"
   },
   {
    "duration": 332,
    "start_time": "2024-04-06T11:15:15.189Z"
   },
   {
    "duration": 3,
    "start_time": "2024-04-06T11:15:16.542Z"
   },
   {
    "duration": 6,
    "start_time": "2024-04-06T11:15:17.729Z"
   },
   {
    "duration": 3,
    "start_time": "2024-04-06T11:15:18.888Z"
   },
   {
    "duration": 3,
    "start_time": "2024-04-06T11:15:21.833Z"
   },
   {
    "duration": 124,
    "start_time": "2024-04-06T11:15:26.327Z"
   },
   {
    "duration": 5,
    "start_time": "2024-04-06T11:15:40.666Z"
   },
   {
    "duration": 228,
    "start_time": "2024-04-06T11:23:58.310Z"
   },
   {
    "duration": 3,
    "start_time": "2024-04-06T11:24:00.169Z"
   },
   {
    "duration": 5,
    "start_time": "2024-04-06T11:24:03.133Z"
   },
   {
    "duration": 3,
    "start_time": "2024-04-06T11:24:06.283Z"
   },
   {
    "duration": 3,
    "start_time": "2024-04-06T11:24:09.042Z"
   },
   {
    "duration": 4,
    "start_time": "2024-04-06T11:24:10.196Z"
   },
   {
    "duration": 4,
    "start_time": "2024-04-06T11:24:49.714Z"
   },
   {
    "duration": 229,
    "start_time": "2024-04-06T11:29:39.433Z"
   },
   {
    "duration": 4,
    "start_time": "2024-04-06T11:29:41.206Z"
   },
   {
    "duration": 5,
    "start_time": "2024-04-06T11:29:42.575Z"
   },
   {
    "duration": 2,
    "start_time": "2024-04-06T11:29:44.248Z"
   },
   {
    "duration": 4,
    "start_time": "2024-04-06T11:29:45.483Z"
   },
   {
    "duration": 4,
    "start_time": "2024-04-06T11:29:46.576Z"
   },
   {
    "duration": 256,
    "start_time": "2024-04-06T11:49:32.926Z"
   },
   {
    "duration": 12,
    "start_time": "2024-04-06T11:49:45.833Z"
   },
   {
    "duration": 5,
    "start_time": "2024-04-06T11:50:07.422Z"
   },
   {
    "duration": 5,
    "start_time": "2024-04-06T11:53:54.971Z"
   },
   {
    "duration": 236,
    "start_time": "2024-04-06T11:55:16.746Z"
   },
   {
    "duration": 5,
    "start_time": "2024-04-06T11:55:51.008Z"
   },
   {
    "duration": 90,
    "start_time": "2024-04-06T12:02:17.050Z"
   },
   {
    "duration": 19545,
    "start_time": "2024-04-07T08:12:39.031Z"
   },
   {
    "duration": 1975,
    "start_time": "2024-04-07T08:13:07.682Z"
   },
   {
    "duration": 674,
    "start_time": "2024-04-07T08:13:45.271Z"
   },
   {
    "duration": 25,
    "start_time": "2024-04-07T08:13:52.501Z"
   },
   {
    "duration": 21,
    "start_time": "2024-04-07T08:13:53.762Z"
   },
   {
    "duration": 15,
    "start_time": "2024-04-07T08:13:57.431Z"
   },
   {
    "duration": 46,
    "start_time": "2024-04-07T08:14:24.301Z"
   },
   {
    "duration": 18,
    "start_time": "2024-04-07T08:14:25.862Z"
   },
   {
    "duration": 5,
    "start_time": "2024-04-07T08:14:27.000Z"
   },
   {
    "duration": 45,
    "start_time": "2024-04-07T08:14:30.745Z"
   },
   {
    "duration": 16,
    "start_time": "2024-04-07T08:14:31.968Z"
   },
   {
    "duration": 4,
    "start_time": "2024-04-07T08:14:33.096Z"
   },
   {
    "duration": 40,
    "start_time": "2024-04-07T08:14:37.141Z"
   },
   {
    "duration": 16,
    "start_time": "2024-04-07T08:14:38.371Z"
   },
   {
    "duration": 19,
    "start_time": "2024-04-07T08:14:44.481Z"
   },
   {
    "duration": 5,
    "start_time": "2024-04-07T08:14:45.662Z"
   },
   {
    "duration": 7,
    "start_time": "2024-04-07T08:14:46.761Z"
   },
   {
    "duration": 8,
    "start_time": "2024-04-07T08:14:51.021Z"
   },
   {
    "duration": 8,
    "start_time": "2024-04-07T08:14:52.481Z"
   },
   {
    "duration": 9,
    "start_time": "2024-04-07T08:14:56.702Z"
   },
   {
    "duration": 12,
    "start_time": "2024-04-07T08:14:58.132Z"
   },
   {
    "duration": 14,
    "start_time": "2024-04-07T08:15:04.368Z"
   },
   {
    "duration": 20,
    "start_time": "2024-04-07T08:15:10.932Z"
   },
   {
    "duration": 4,
    "start_time": "2024-04-07T08:15:12.021Z"
   },
   {
    "duration": 7,
    "start_time": "2024-04-07T08:15:15.960Z"
   },
   {
    "duration": 6,
    "start_time": "2024-04-07T08:15:17.282Z"
   },
   {
    "duration": 11,
    "start_time": "2024-04-07T08:15:21.121Z"
   },
   {
    "duration": 13,
    "start_time": "2024-04-07T08:15:22.541Z"
   },
   {
    "duration": 12,
    "start_time": "2024-04-07T08:15:27.088Z"
   },
   {
    "duration": 14,
    "start_time": "2024-04-07T08:15:54.661Z"
   },
   {
    "duration": 7,
    "start_time": "2024-04-07T08:15:55.772Z"
   },
   {
    "duration": 9,
    "start_time": "2024-04-07T08:15:57.009Z"
   },
   {
    "duration": 12,
    "start_time": "2024-04-07T08:16:01.129Z"
   },
   {
    "duration": 12,
    "start_time": "2024-04-07T08:16:02.932Z"
   },
   {
    "duration": 5,
    "start_time": "2024-04-07T08:16:10.949Z"
   },
   {
    "duration": 289,
    "start_time": "2024-04-07T08:16:21.670Z"
   },
   {
    "duration": 4,
    "start_time": "2024-04-07T08:16:28.390Z"
   },
   {
    "duration": 317,
    "start_time": "2024-04-07T08:16:29.608Z"
   },
   {
    "duration": 6,
    "start_time": "2024-04-07T08:16:34.737Z"
   },
   {
    "duration": 284,
    "start_time": "2024-04-07T08:16:36.840Z"
   },
   {
    "duration": 3,
    "start_time": "2024-04-07T08:17:35.568Z"
   },
   {
    "duration": 4,
    "start_time": "2024-04-07T08:17:55.490Z"
   },
   {
    "duration": 4,
    "start_time": "2024-04-07T08:18:20.319Z"
   },
   {
    "duration": 3,
    "start_time": "2024-04-07T08:18:46.261Z"
   },
   {
    "duration": 11,
    "start_time": "2024-04-07T08:18:49.262Z"
   },
   {
    "duration": 11,
    "start_time": "2024-04-07T08:19:13.421Z"
   },
   {
    "duration": 10,
    "start_time": "2024-04-07T08:19:14.711Z"
   },
   {
    "duration": 11,
    "start_time": "2024-04-07T08:19:15.981Z"
   },
   {
    "duration": 256,
    "start_time": "2024-04-07T08:21:14.477Z"
   },
   {
    "duration": 3,
    "start_time": "2024-04-07T08:21:49.831Z"
   },
   {
    "duration": 5,
    "start_time": "2024-04-07T08:21:51.216Z"
   },
   {
    "duration": 3,
    "start_time": "2024-04-07T08:21:52.688Z"
   },
   {
    "duration": 3,
    "start_time": "2024-04-07T08:22:09.389Z"
   },
   {
    "duration": 4,
    "start_time": "2024-04-07T08:22:11.008Z"
   },
   {
    "duration": 149,
    "start_time": "2024-04-07T08:23:17.503Z"
   },
   {
    "duration": 246,
    "start_time": "2024-04-07T08:23:21.689Z"
   },
   {
    "duration": 6,
    "start_time": "2024-04-07T08:23:23.007Z"
   },
   {
    "duration": 4,
    "start_time": "2024-04-07T08:24:50.356Z"
   },
   {
    "duration": 5,
    "start_time": "2024-04-07T08:30:14.651Z"
   },
   {
    "duration": 5,
    "start_time": "2024-04-07T08:30:35.743Z"
   },
   {
    "duration": 5,
    "start_time": "2024-04-07T08:30:42.687Z"
   },
   {
    "duration": 231,
    "start_time": "2024-04-07T08:36:15.398Z"
   },
   {
    "duration": 3,
    "start_time": "2024-04-07T08:36:17.046Z"
   },
   {
    "duration": 4,
    "start_time": "2024-04-07T08:36:18.447Z"
   },
   {
    "duration": 4,
    "start_time": "2024-04-07T08:36:20.005Z"
   },
   {
    "duration": 4,
    "start_time": "2024-04-07T08:36:21.166Z"
   },
   {
    "duration": 106,
    "start_time": "2024-04-07T08:36:25.546Z"
   },
   {
    "duration": 236,
    "start_time": "2024-04-07T08:37:02.716Z"
   },
   {
    "duration": 5,
    "start_time": "2024-04-07T08:38:14.175Z"
   },
   {
    "duration": 239,
    "start_time": "2024-04-07T08:47:46.356Z"
   },
   {
    "duration": 3,
    "start_time": "2024-04-07T08:47:47.765Z"
   },
   {
    "duration": 5,
    "start_time": "2024-04-07T08:47:49.225Z"
   },
   {
    "duration": 3,
    "start_time": "2024-04-07T08:47:50.915Z"
   },
   {
    "duration": 4,
    "start_time": "2024-04-07T08:47:52.264Z"
   },
   {
    "duration": 4,
    "start_time": "2024-04-07T08:47:57.093Z"
   },
   {
    "duration": 246,
    "start_time": "2024-04-07T08:50:14.674Z"
   },
   {
    "duration": 5,
    "start_time": "2024-04-07T08:50:30.595Z"
   },
   {
    "duration": 257,
    "start_time": "2024-04-07T08:50:43.005Z"
   },
   {
    "duration": 4,
    "start_time": "2024-04-07T08:50:44.965Z"
   },
   {
    "duration": 5,
    "start_time": "2024-04-07T08:51:21.905Z"
   },
   {
    "duration": 3,
    "start_time": "2024-04-07T08:51:38.530Z"
   },
   {
    "duration": 240,
    "start_time": "2024-04-07T08:51:47.264Z"
   },
   {
    "duration": 3,
    "start_time": "2024-04-07T08:51:48.425Z"
   },
   {
    "duration": 247,
    "start_time": "2024-04-07T08:51:54.404Z"
   },
   {
    "duration": 248,
    "start_time": "2024-04-07T08:52:05.158Z"
   },
   {
    "duration": 5,
    "start_time": "2024-04-07T08:52:06.902Z"
   },
   {
    "duration": 5,
    "start_time": "2024-04-07T08:53:29.752Z"
   },
   {
    "duration": 5,
    "start_time": "2024-04-07T08:53:42.609Z"
   },
   {
    "duration": 5,
    "start_time": "2024-04-07T08:53:59.639Z"
   },
   {
    "duration": 18578,
    "start_time": "2024-04-07T10:54:41.183Z"
   },
   {
    "duration": 1958,
    "start_time": "2024-04-07T10:55:10.510Z"
   },
   {
    "duration": 654,
    "start_time": "2024-04-07T10:55:19.557Z"
   },
   {
    "duration": 17,
    "start_time": "2024-04-07T10:55:28.638Z"
   },
   {
    "duration": 16,
    "start_time": "2024-04-07T10:55:30.228Z"
   },
   {
    "duration": 15,
    "start_time": "2024-04-07T10:55:31.516Z"
   },
   {
    "duration": 43,
    "start_time": "2024-04-07T10:55:46.058Z"
   },
   {
    "duration": 16,
    "start_time": "2024-04-07T10:55:53.346Z"
   },
   {
    "duration": 40,
    "start_time": "2024-04-07T10:55:55.476Z"
   },
   {
    "duration": 16,
    "start_time": "2024-04-07T10:56:00.124Z"
   },
   {
    "duration": 37,
    "start_time": "2024-04-07T10:56:12.560Z"
   },
   {
    "duration": 16,
    "start_time": "2024-04-07T10:56:20.110Z"
   },
   {
    "duration": 86,
    "start_time": "2024-04-07T10:56:25.028Z"
   },
   {
    "duration": 4,
    "start_time": "2024-04-07T10:56:26.596Z"
   },
   {
    "duration": 7,
    "start_time": "2024-04-07T10:56:27.818Z"
   },
   {
    "duration": 7,
    "start_time": "2024-04-07T10:56:32.028Z"
   },
   {
    "duration": 9,
    "start_time": "2024-04-07T10:56:33.408Z"
   },
   {
    "duration": 10,
    "start_time": "2024-04-07T10:56:37.738Z"
   },
   {
    "duration": 11,
    "start_time": "2024-04-07T10:56:39.562Z"
   },
   {
    "duration": 11,
    "start_time": "2024-04-07T10:56:44.108Z"
   },
   {
    "duration": 12,
    "start_time": "2024-04-07T10:56:47.956Z"
   },
   {
    "duration": 4,
    "start_time": "2024-04-07T10:56:55.728Z"
   },
   {
    "duration": 7,
    "start_time": "2024-04-07T10:56:57.028Z"
   },
   {
    "duration": 7,
    "start_time": "2024-04-07T10:56:58.326Z"
   },
   {
    "duration": 10,
    "start_time": "2024-04-07T10:57:02.735Z"
   },
   {
    "duration": 12,
    "start_time": "2024-04-07T10:57:04.197Z"
   },
   {
    "duration": 11,
    "start_time": "2024-04-07T10:57:09.136Z"
   },
   {
    "duration": 14,
    "start_time": "2024-04-07T10:57:12.168Z"
   },
   {
    "duration": 7,
    "start_time": "2024-04-07T10:57:13.084Z"
   },
   {
    "duration": 11,
    "start_time": "2024-04-07T10:57:16.931Z"
   },
   {
    "duration": 16,
    "start_time": "2024-04-07T10:57:18.335Z"
   },
   {
    "duration": 11,
    "start_time": "2024-04-07T10:57:19.633Z"
   },
   {
    "duration": 5,
    "start_time": "2024-04-07T10:57:26.588Z"
   },
   {
    "duration": 273,
    "start_time": "2024-04-07T10:57:28.308Z"
   },
   {
    "duration": 6,
    "start_time": "2024-04-07T10:57:47.518Z"
   },
   {
    "duration": 308,
    "start_time": "2024-04-07T10:57:49.448Z"
   },
   {
    "duration": 5,
    "start_time": "2024-04-07T10:57:54.598Z"
   },
   {
    "duration": 309,
    "start_time": "2024-04-07T10:57:55.964Z"
   },
   {
    "duration": 3,
    "start_time": "2024-04-07T10:58:01.988Z"
   },
   {
    "duration": 4,
    "start_time": "2024-04-07T10:58:03.255Z"
   },
   {
    "duration": 5,
    "start_time": "2024-04-07T10:58:05.315Z"
   },
   {
    "duration": 3,
    "start_time": "2024-04-07T10:58:13.838Z"
   },
   {
    "duration": 10,
    "start_time": "2024-04-07T10:58:20.116Z"
   },
   {
    "duration": 14,
    "start_time": "2024-04-07T10:58:24.856Z"
   },
   {
    "duration": 13,
    "start_time": "2024-04-07T10:58:28.086Z"
   },
   {
    "duration": 287,
    "start_time": "2024-04-07T10:58:40.698Z"
   },
   {
    "duration": 3,
    "start_time": "2024-04-07T10:58:45.048Z"
   },
   {
    "duration": 5,
    "start_time": "2024-04-07T10:58:46.318Z"
   },
   {
    "duration": 3,
    "start_time": "2024-04-07T10:58:47.828Z"
   },
   {
    "duration": 4,
    "start_time": "2024-04-07T10:58:49.168Z"
   },
   {
    "duration": 4,
    "start_time": "2024-04-07T10:58:50.348Z"
   },
   {
    "duration": 238,
    "start_time": "2024-04-07T10:59:02.068Z"
   },
   {
    "duration": 5,
    "start_time": "2024-04-07T10:59:07.249Z"
   },
   {
    "duration": 5,
    "start_time": "2024-04-07T10:59:30.936Z"
   },
   {
    "duration": 263,
    "start_time": "2024-04-07T11:00:32.878Z"
   },
   {
    "duration": 4,
    "start_time": "2024-04-07T11:00:34.907Z"
   },
   {
    "duration": 4,
    "start_time": "2024-04-07T11:00:36.198Z"
   },
   {
    "duration": 3,
    "start_time": "2024-04-07T11:00:37.627Z"
   },
   {
    "duration": 3,
    "start_time": "2024-04-07T11:00:38.836Z"
   },
   {
    "duration": 4,
    "start_time": "2024-04-07T11:00:39.788Z"
   },
   {
    "duration": 237,
    "start_time": "2024-04-07T11:00:50.075Z"
   },
   {
    "duration": 5,
    "start_time": "2024-04-07T11:00:51.686Z"
   },
   {
    "duration": 262,
    "start_time": "2024-04-07T11:01:58.566Z"
   },
   {
    "duration": 2,
    "start_time": "2024-04-07T11:01:59.935Z"
   },
   {
    "duration": 4,
    "start_time": "2024-04-07T11:02:01.028Z"
   },
   {
    "duration": 3,
    "start_time": "2024-04-07T11:02:02.148Z"
   },
   {
    "duration": 3,
    "start_time": "2024-04-07T11:02:07.048Z"
   },
   {
    "duration": 4,
    "start_time": "2024-04-07T11:02:08.035Z"
   },
   {
    "duration": 281,
    "start_time": "2024-04-07T11:02:20.608Z"
   },
   {
    "duration": 5,
    "start_time": "2024-04-07T11:02:34.475Z"
   },
   {
    "duration": 6,
    "start_time": "2024-04-07T11:02:58.012Z"
   },
   {
    "duration": 6,
    "start_time": "2024-04-07T11:03:15.803Z"
   },
   {
    "duration": 5,
    "start_time": "2024-04-07T11:05:38.619Z"
   },
   {
    "duration": 6,
    "start_time": "2024-04-07T11:05:50.279Z"
   },
   {
    "duration": 5,
    "start_time": "2024-04-07T11:07:23.982Z"
   },
   {
    "duration": 112,
    "start_time": "2024-04-07T12:04:12.515Z"
   },
   {
    "duration": 1305,
    "start_time": "2024-04-07T12:04:23.693Z"
   },
   {
    "duration": 426,
    "start_time": "2024-04-07T12:04:26.845Z"
   },
   {
    "duration": 19,
    "start_time": "2024-04-07T12:04:37.342Z"
   },
   {
    "duration": 13,
    "start_time": "2024-04-07T12:04:38.795Z"
   },
   {
    "duration": 15,
    "start_time": "2024-04-07T12:04:43.175Z"
   },
   {
    "duration": 1630,
    "start_time": "2024-04-07T14:08:31.882Z"
   },
   {
    "duration": 12,
    "start_time": "2024-04-07T14:10:50.796Z"
   },
   {
    "duration": 11,
    "start_time": "2024-04-07T14:32:34.623Z"
   },
   {
    "duration": 1591,
    "start_time": "2024-04-07T14:32:36.760Z"
   },
   {
    "duration": 16,
    "start_time": "2024-04-07T14:32:48.301Z"
   },
   {
    "duration": 13,
    "start_time": "2024-04-07T14:32:49.582Z"
   },
   {
    "duration": 14,
    "start_time": "2024-04-07T14:32:50.524Z"
   },
   {
    "duration": 32,
    "start_time": "2024-04-07T14:32:56.795Z"
   },
   {
    "duration": 23,
    "start_time": "2024-04-07T14:32:58.142Z"
   },
   {
    "duration": 30,
    "start_time": "2024-04-07T14:32:59.060Z"
   },
   {
    "duration": 41,
    "start_time": "2024-04-07T14:33:09.683Z"
   },
   {
    "duration": 16,
    "start_time": "2024-04-07T14:33:10.763Z"
   },
   {
    "duration": 38,
    "start_time": "2024-04-07T14:33:16.612Z"
   },
   {
    "duration": 15,
    "start_time": "2024-04-07T14:33:21.643Z"
   },
   {
    "duration": 40,
    "start_time": "2024-04-07T14:33:23.744Z"
   },
   {
    "duration": 16,
    "start_time": "2024-04-07T14:33:28.262Z"
   },
   {
    "duration": 94,
    "start_time": "2024-04-07T14:33:33.604Z"
   },
   {
    "duration": 4,
    "start_time": "2024-04-07T14:33:34.765Z"
   },
   {
    "duration": 7,
    "start_time": "2024-04-07T14:33:36.215Z"
   },
   {
    "duration": 6,
    "start_time": "2024-04-07T14:33:40.784Z"
   },
   {
    "duration": 8,
    "start_time": "2024-04-07T14:33:41.824Z"
   },
   {
    "duration": 10,
    "start_time": "2024-04-07T14:33:46.274Z"
   },
   {
    "duration": 12,
    "start_time": "2024-04-07T14:33:47.592Z"
   },
   {
    "duration": 11,
    "start_time": "2024-04-07T14:33:54.962Z"
   },
   {
    "duration": 10,
    "start_time": "2024-04-07T14:34:11.464Z"
   },
   {
    "duration": 12,
    "start_time": "2024-04-07T14:34:19.194Z"
   },
   {
    "duration": 4,
    "start_time": "2024-04-07T14:34:20.381Z"
   },
   {
    "duration": 6,
    "start_time": "2024-04-07T14:34:24.381Z"
   },
   {
    "duration": 9,
    "start_time": "2024-04-07T14:34:25.894Z"
   },
   {
    "duration": 10,
    "start_time": "2024-04-07T14:34:27.193Z"
   },
   {
    "duration": 11,
    "start_time": "2024-04-07T14:34:32.093Z"
   },
   {
    "duration": 11,
    "start_time": "2024-04-07T14:34:58.391Z"
   },
   {
    "duration": 11,
    "start_time": "2024-04-07T14:35:02.794Z"
   },
   {
    "duration": 7,
    "start_time": "2024-04-07T14:35:03.704Z"
   },
   {
    "duration": 11,
    "start_time": "2024-04-07T14:35:04.703Z"
   },
   {
    "duration": 12,
    "start_time": "2024-04-07T14:35:08.450Z"
   },
   {
    "duration": 10,
    "start_time": "2024-04-07T14:35:09.843Z"
   },
   {
    "duration": 9,
    "start_time": "2024-04-07T14:35:21.822Z"
   },
   {
    "duration": 4,
    "start_time": "2024-04-07T14:35:26.707Z"
   },
   {
    "duration": 268,
    "start_time": "2024-04-07T14:35:28.234Z"
   },
   {
    "duration": 261,
    "start_time": "2024-04-07T14:35:31.984Z"
   },
   {
    "duration": 5,
    "start_time": "2024-04-07T14:35:36.481Z"
   },
   {
    "duration": 301,
    "start_time": "2024-04-07T14:35:37.923Z"
   },
   {
    "duration": 4,
    "start_time": "2024-04-07T14:35:41.761Z"
   },
   {
    "duration": 295,
    "start_time": "2024-04-07T14:35:43.084Z"
   },
   {
    "duration": 6,
    "start_time": "2024-04-07T14:37:47.592Z"
   },
   {
    "duration": 1544,
    "start_time": "2024-04-10T13:16:23.481Z"
   },
   {
    "duration": 670,
    "start_time": "2024-04-10T13:16:36.441Z"
   },
   {
    "duration": 18,
    "start_time": "2024-04-10T13:16:46.928Z"
   },
   {
    "duration": 18,
    "start_time": "2024-04-10T13:16:48.396Z"
   },
   {
    "duration": 15,
    "start_time": "2024-04-10T13:16:52.432Z"
   },
   {
    "duration": 42,
    "start_time": "2024-04-10T13:18:34.184Z"
   },
   {
    "duration": 16,
    "start_time": "2024-04-10T13:18:35.952Z"
   },
   {
    "duration": 58,
    "start_time": "2024-04-10T13:18:44.123Z"
   },
   {
    "duration": 16,
    "start_time": "2024-04-10T13:18:45.725Z"
   },
   {
    "duration": 38,
    "start_time": "2024-04-10T13:18:50.705Z"
   },
   {
    "duration": 16,
    "start_time": "2024-04-10T13:18:52.183Z"
   },
   {
    "duration": 107,
    "start_time": "2024-04-10T13:19:06.615Z"
   },
   {
    "duration": 5,
    "start_time": "2024-04-10T13:19:08.055Z"
   },
   {
    "duration": 8,
    "start_time": "2024-04-10T13:19:09.684Z"
   },
   {
    "duration": 8,
    "start_time": "2024-04-10T13:19:15.421Z"
   },
   {
    "duration": 9,
    "start_time": "2024-04-10T13:19:16.612Z"
   },
   {
    "duration": 13,
    "start_time": "2024-04-10T13:19:17.912Z"
   },
   {
    "duration": 12,
    "start_time": "2024-04-10T13:19:23.482Z"
   },
   {
    "duration": 12,
    "start_time": "2024-04-10T13:19:25.472Z"
   },
   {
    "duration": 12,
    "start_time": "2024-04-10T13:19:39.225Z"
   },
   {
    "duration": 4,
    "start_time": "2024-04-10T13:19:40.232Z"
   },
   {
    "duration": 11,
    "start_time": "2024-04-10T13:19:41.384Z"
   },
   {
    "duration": 7,
    "start_time": "2024-04-10T13:19:46.281Z"
   },
   {
    "duration": 13,
    "start_time": "2024-04-10T13:19:47.617Z"
   },
   {
    "duration": 12,
    "start_time": "2024-04-10T13:19:53.261Z"
   },
   {
    "duration": 10,
    "start_time": "2024-04-10T13:19:54.897Z"
   },
   {
    "duration": 13,
    "start_time": "2024-04-10T13:20:00.658Z"
   },
   {
    "duration": 7,
    "start_time": "2024-04-10T13:20:02.097Z"
   },
   {
    "duration": 14,
    "start_time": "2024-04-10T13:20:03.341Z"
   },
   {
    "duration": 11,
    "start_time": "2024-04-10T13:20:08.080Z"
   },
   {
    "duration": 11,
    "start_time": "2024-04-10T13:20:09.332Z"
   },
   {
    "duration": 4,
    "start_time": "2024-04-10T13:20:57.323Z"
   },
   {
    "duration": 302,
    "start_time": "2024-04-10T13:20:58.416Z"
   },
   {
    "duration": 6,
    "start_time": "2024-04-10T13:21:04.909Z"
   },
   {
    "duration": 320,
    "start_time": "2024-04-10T13:21:05.912Z"
   },
   {
    "duration": 5,
    "start_time": "2024-04-10T13:21:13.304Z"
   },
   {
    "duration": 283,
    "start_time": "2024-04-10T13:21:14.745Z"
   },
   {
    "duration": 3,
    "start_time": "2024-04-10T13:23:41.298Z"
   },
   {
    "duration": 3,
    "start_time": "2024-04-10T13:23:42.916Z"
   },
   {
    "duration": 104,
    "start_time": "2024-04-10T13:28:38.893Z"
   },
   {
    "duration": 4,
    "start_time": "2024-04-10T13:32:32.034Z"
   },
   {
    "duration": 104,
    "start_time": "2024-04-10T13:33:30.441Z"
   },
   {
    "duration": 20,
    "start_time": "2024-04-10T13:33:41.251Z"
   },
   {
    "duration": 3,
    "start_time": "2024-04-10T13:34:08.423Z"
   },
   {
    "duration": 10,
    "start_time": "2024-04-10T13:34:14.051Z"
   },
   {
    "duration": 8,
    "start_time": "2024-04-10T13:35:07.812Z"
   },
   {
    "duration": 10,
    "start_time": "2024-04-10T13:35:34.911Z"
   },
   {
    "duration": 12,
    "start_time": "2024-04-10T13:37:21.438Z"
   },
   {
    "duration": 9,
    "start_time": "2024-04-10T13:37:59.192Z"
   },
   {
    "duration": 11,
    "start_time": "2024-04-10T13:38:20.892Z"
   },
   {
    "duration": 10,
    "start_time": "2024-04-10T13:38:30.542Z"
   },
   {
    "duration": 10,
    "start_time": "2024-04-10T13:39:34.243Z"
   },
   {
    "duration": 10,
    "start_time": "2024-04-10T13:39:38.123Z"
   },
   {
    "duration": 1360,
    "start_time": "2024-04-10T13:39:54.484Z"
   },
   {
    "duration": 422,
    "start_time": "2024-04-10T13:39:57.331Z"
   },
   {
    "duration": 17,
    "start_time": "2024-04-10T13:40:06.932Z"
   },
   {
    "duration": 13,
    "start_time": "2024-04-10T13:40:08.012Z"
   },
   {
    "duration": 14,
    "start_time": "2024-04-10T13:40:12.910Z"
   },
   {
    "duration": 46,
    "start_time": "2024-04-10T13:40:33.753Z"
   },
   {
    "duration": 18,
    "start_time": "2024-04-10T13:40:35.441Z"
   },
   {
    "duration": 42,
    "start_time": "2024-04-10T13:40:40.532Z"
   },
   {
    "duration": 16,
    "start_time": "2024-04-10T13:40:41.670Z"
   },
   {
    "duration": 41,
    "start_time": "2024-04-10T13:40:46.979Z"
   },
   {
    "duration": 17,
    "start_time": "2024-04-10T13:40:48.218Z"
   },
   {
    "duration": 19,
    "start_time": "2024-04-10T13:40:53.780Z"
   },
   {
    "duration": 4,
    "start_time": "2024-04-10T13:40:55.323Z"
   },
   {
    "duration": 8,
    "start_time": "2024-04-10T13:40:57.252Z"
   },
   {
    "duration": 7,
    "start_time": "2024-04-10T13:41:02.091Z"
   },
   {
    "duration": 7,
    "start_time": "2024-04-10T13:41:03.523Z"
   },
   {
    "duration": 10,
    "start_time": "2024-04-10T13:41:09.140Z"
   },
   {
    "duration": 12,
    "start_time": "2024-04-10T13:41:10.459Z"
   },
   {
    "duration": 11,
    "start_time": "2024-04-10T13:41:15.463Z"
   },
   {
    "duration": 14,
    "start_time": "2024-04-10T13:41:17.631Z"
   },
   {
    "duration": 4,
    "start_time": "2024-04-10T13:41:22.177Z"
   },
   {
    "duration": 7,
    "start_time": "2024-04-10T13:41:23.483Z"
   },
   {
    "duration": 7,
    "start_time": "2024-04-10T13:41:24.563Z"
   },
   {
    "duration": 11,
    "start_time": "2024-04-10T13:41:29.184Z"
   },
   {
    "duration": 17,
    "start_time": "2024-04-10T13:41:30.583Z"
   },
   {
    "duration": 11,
    "start_time": "2024-04-10T13:41:35.404Z"
   },
   {
    "duration": 11,
    "start_time": "2024-04-10T13:41:37.091Z"
   },
   {
    "duration": 8,
    "start_time": "2024-04-10T13:41:41.523Z"
   },
   {
    "duration": 10,
    "start_time": "2024-04-10T13:41:42.805Z"
   },
   {
    "duration": 15,
    "start_time": "2024-04-10T13:41:43.971Z"
   },
   {
    "duration": 11,
    "start_time": "2024-04-10T13:41:48.575Z"
   },
   {
    "duration": 2,
    "start_time": "2024-04-10T13:41:58.055Z"
   },
   {
    "duration": 3,
    "start_time": "2024-04-10T13:42:00.206Z"
   },
   {
    "duration": 4,
    "start_time": "2024-04-10T13:42:31.201Z"
   },
   {
    "duration": 3,
    "start_time": "2024-04-10T13:42:45.174Z"
   },
   {
    "duration": 9,
    "start_time": "2024-04-10T13:42:52.642Z"
   },
   {
    "duration": 8,
    "start_time": "2024-04-10T13:42:54.164Z"
   },
   {
    "duration": 10,
    "start_time": "2024-04-10T13:42:55.758Z"
   },
   {
    "duration": 10,
    "start_time": "2024-04-10T13:43:04.415Z"
   },
   {
    "duration": 10,
    "start_time": "2024-04-10T13:43:10.717Z"
   },
   {
    "duration": 271,
    "start_time": "2024-04-10T13:43:19.479Z"
   },
   {
    "duration": 4,
    "start_time": "2024-04-10T13:43:27.983Z"
   },
   {
    "duration": 4,
    "start_time": "2024-04-10T13:43:29.364Z"
   },
   {
    "duration": 2,
    "start_time": "2024-04-10T13:43:33.575Z"
   },
   {
    "duration": 4,
    "start_time": "2024-04-10T13:43:39.878Z"
   },
   {
    "duration": 5,
    "start_time": "2024-04-10T13:43:47.464Z"
   },
   {
    "duration": 252,
    "start_time": "2024-04-10T13:44:58.426Z"
   },
   {
    "duration": 3,
    "start_time": "2024-04-10T13:44:59.840Z"
   },
   {
    "duration": 4,
    "start_time": "2024-04-10T13:45:00.748Z"
   },
   {
    "duration": 3,
    "start_time": "2024-04-10T13:45:01.736Z"
   },
   {
    "duration": 3,
    "start_time": "2024-04-10T13:45:06.337Z"
   },
   {
    "duration": 4,
    "start_time": "2024-04-10T13:45:07.277Z"
   },
   {
    "duration": 266,
    "start_time": "2024-04-10T13:46:38.265Z"
   },
   {
    "duration": 5,
    "start_time": "2024-04-10T13:46:40.304Z"
   },
   {
    "duration": 4,
    "start_time": "2024-04-10T13:46:47.468Z"
   },
   {
    "duration": 103,
    "start_time": "2024-04-10T13:46:57.668Z"
   },
   {
    "duration": 250,
    "start_time": "2024-04-10T13:47:14.355Z"
   },
   {
    "duration": 3,
    "start_time": "2024-04-10T13:47:16.718Z"
   },
   {
    "duration": 4,
    "start_time": "2024-04-10T13:47:17.859Z"
   },
   {
    "duration": 4,
    "start_time": "2024-04-10T13:47:18.819Z"
   },
   {
    "duration": 3,
    "start_time": "2024-04-10T13:47:19.985Z"
   },
   {
    "duration": 4,
    "start_time": "2024-04-10T13:47:24.477Z"
   },
   {
    "duration": 230,
    "start_time": "2024-04-10T13:47:54.157Z"
   },
   {
    "duration": 5,
    "start_time": "2024-04-10T13:47:59.845Z"
   },
   {
    "duration": 235,
    "start_time": "2024-04-10T13:48:19.333Z"
   },
   {
    "duration": 3,
    "start_time": "2024-04-10T13:48:20.817Z"
   },
   {
    "duration": 5,
    "start_time": "2024-04-10T13:48:21.780Z"
   },
   {
    "duration": 3,
    "start_time": "2024-04-10T13:48:27.164Z"
   },
   {
    "duration": 3,
    "start_time": "2024-04-10T13:48:28.076Z"
   },
   {
    "duration": 4,
    "start_time": "2024-04-10T13:48:29.253Z"
   },
   {
    "duration": 233,
    "start_time": "2024-04-10T13:48:47.307Z"
   },
   {
    "duration": 4,
    "start_time": "2024-04-10T13:48:52.968Z"
   },
   {
    "duration": 5,
    "start_time": "2024-04-10T13:48:56.482Z"
   },
   {
    "duration": 10,
    "start_time": "2024-04-10T13:49:50.349Z"
   },
   {
    "duration": 10,
    "start_time": "2024-04-10T13:50:03.736Z"
   },
   {
    "duration": 9,
    "start_time": "2024-04-10T13:50:05.054Z"
   },
   {
    "duration": 9,
    "start_time": "2024-04-10T13:50:06.053Z"
   },
   {
    "duration": 259,
    "start_time": "2024-04-10T13:54:07.554Z"
   },
   {
    "duration": 3,
    "start_time": "2024-04-10T13:54:10.158Z"
   },
   {
    "duration": 4,
    "start_time": "2024-04-10T13:54:11.198Z"
   },
   {
    "duration": 4,
    "start_time": "2024-04-10T13:54:15.216Z"
   },
   {
    "duration": 3,
    "start_time": "2024-04-10T13:54:16.525Z"
   },
   {
    "duration": 4,
    "start_time": "2024-04-10T13:54:18.166Z"
   },
   {
    "duration": 218,
    "start_time": "2024-04-10T13:54:40.381Z"
   },
   {
    "duration": 2,
    "start_time": "2024-04-10T13:54:41.615Z"
   },
   {
    "duration": 4,
    "start_time": "2024-04-10T13:54:42.568Z"
   },
   {
    "duration": 5,
    "start_time": "2024-04-10T13:54:46.225Z"
   },
   {
    "duration": 3,
    "start_time": "2024-04-10T13:54:47.173Z"
   },
   {
    "duration": 3,
    "start_time": "2024-04-10T13:54:48.434Z"
   },
   {
    "duration": 4,
    "start_time": "2024-04-10T13:54:51.515Z"
   },
   {
    "duration": 253,
    "start_time": "2024-04-10T13:55:12.484Z"
   },
   {
    "duration": 3,
    "start_time": "2024-04-10T13:55:13.445Z"
   },
   {
    "duration": 4,
    "start_time": "2024-04-10T13:55:14.340Z"
   },
   {
    "duration": 3,
    "start_time": "2024-04-10T13:55:15.216Z"
   },
   {
    "duration": 3,
    "start_time": "2024-04-10T13:55:15.973Z"
   },
   {
    "duration": 4,
    "start_time": "2024-04-10T13:55:19.885Z"
   },
   {
    "duration": 1558,
    "start_time": "2024-04-11T13:02:24.980Z"
   },
   {
    "duration": 694,
    "start_time": "2024-04-11T13:02:27.169Z"
   },
   {
    "duration": 19,
    "start_time": "2024-04-11T13:02:36.162Z"
   },
   {
    "duration": 14,
    "start_time": "2024-04-11T13:02:37.563Z"
   },
   {
    "duration": 14,
    "start_time": "2024-04-11T13:02:38.921Z"
   },
   {
    "duration": 49,
    "start_time": "2024-04-11T13:02:48.121Z"
   },
   {
    "duration": 18,
    "start_time": "2024-04-11T13:02:49.194Z"
   },
   {
    "duration": 49,
    "start_time": "2024-04-11T13:02:56.368Z"
   },
   {
    "duration": 24,
    "start_time": "2024-04-11T13:02:57.492Z"
   },
   {
    "duration": 55,
    "start_time": "2024-04-11T13:03:05.521Z"
   },
   {
    "duration": 17,
    "start_time": "2024-04-11T13:03:06.776Z"
   },
   {
    "duration": 104,
    "start_time": "2024-04-11T13:03:12.128Z"
   },
   {
    "duration": 5,
    "start_time": "2024-04-11T13:03:16.941Z"
   },
   {
    "duration": 7,
    "start_time": "2024-04-11T13:03:18.291Z"
   },
   {
    "duration": 10,
    "start_time": "2024-04-11T13:03:23.741Z"
   },
   {
    "duration": 9,
    "start_time": "2024-04-11T13:03:28.722Z"
   },
   {
    "duration": 11,
    "start_time": "2024-04-11T13:03:30.232Z"
   },
   {
    "duration": 13,
    "start_time": "2024-04-11T13:03:35.292Z"
   },
   {
    "duration": 12,
    "start_time": "2024-04-11T13:04:41.452Z"
   },
   {
    "duration": 15,
    "start_time": "2024-04-11T13:04:49.156Z"
   },
   {
    "duration": 4,
    "start_time": "2024-04-11T13:04:51.437Z"
   },
   {
    "duration": 6,
    "start_time": "2024-04-11T13:04:52.895Z"
   },
   {
    "duration": 8,
    "start_time": "2024-04-11T13:04:57.956Z"
   },
   {
    "duration": 11,
    "start_time": "2024-04-11T13:04:59.646Z"
   },
   {
    "duration": 12,
    "start_time": "2024-04-11T13:05:04.423Z"
   },
   {
    "duration": 11,
    "start_time": "2024-04-11T13:05:07.506Z"
   },
   {
    "duration": 17,
    "start_time": "2024-04-11T13:05:14.615Z"
   },
   {
    "duration": 8,
    "start_time": "2024-04-11T13:05:15.860Z"
   },
   {
    "duration": 11,
    "start_time": "2024-04-11T13:05:17.228Z"
   },
   {
    "duration": 13,
    "start_time": "2024-04-11T13:05:22.583Z"
   },
   {
    "duration": 12,
    "start_time": "2024-04-11T13:05:24.926Z"
   },
   {
    "duration": 5,
    "start_time": "2024-04-11T13:05:30.264Z"
   },
   {
    "duration": 311,
    "start_time": "2024-04-11T13:05:31.289Z"
   },
   {
    "duration": 5,
    "start_time": "2024-04-11T13:05:35.608Z"
   },
   {
    "duration": 326,
    "start_time": "2024-04-11T13:05:39.647Z"
   },
   {
    "duration": 5,
    "start_time": "2024-04-11T13:05:45.679Z"
   },
   {
    "duration": 328,
    "start_time": "2024-04-11T13:05:46.633Z"
   },
   {
    "duration": 2,
    "start_time": "2024-04-11T13:06:01.647Z"
   },
   {
    "duration": 4,
    "start_time": "2024-04-11T13:06:20.047Z"
   },
   {
    "duration": 6,
    "start_time": "2024-04-11T13:06:35.446Z"
   },
   {
    "duration": 3,
    "start_time": "2024-04-11T13:06:49.582Z"
   },
   {
    "duration": 17,
    "start_time": "2024-04-11T13:17:19.160Z"
   },
   {
    "duration": 4,
    "start_time": "2024-04-11T13:19:21.808Z"
   },
   {
    "duration": 4,
    "start_time": "2024-04-11T13:19:32.688Z"
   },
   {
    "duration": 4,
    "start_time": "2024-04-11T13:19:37.658Z"
   },
   {
    "duration": 14,
    "start_time": "2024-04-11T13:19:47.861Z"
   },
   {
    "duration": 14,
    "start_time": "2024-04-11T13:19:57.337Z"
   },
   {
    "duration": 15,
    "start_time": "2024-04-11T13:21:35.800Z"
   },
   {
    "duration": 22,
    "start_time": "2024-04-11T13:21:48.237Z"
   },
   {
    "duration": 15,
    "start_time": "2024-04-11T13:22:02.587Z"
   },
   {
    "duration": 19,
    "start_time": "2024-04-11T13:22:24.360Z"
   },
   {
    "duration": 20,
    "start_time": "2024-04-11T13:24:36.608Z"
   },
   {
    "duration": 4,
    "start_time": "2024-04-11T13:26:40.368Z"
   },
   {
    "duration": 4,
    "start_time": "2024-04-11T13:33:45.361Z"
   },
   {
    "duration": 4,
    "start_time": "2024-04-11T13:35:07.722Z"
   },
   {
    "duration": 4,
    "start_time": "2024-04-11T13:35:09.795Z"
   },
   {
    "duration": 4,
    "start_time": "2024-04-11T13:35:42.381Z"
   },
   {
    "duration": 6,
    "start_time": "2024-04-11T13:35:49.631Z"
   },
   {
    "duration": 20,
    "start_time": "2024-04-11T13:39:23.167Z"
   },
   {
    "duration": 5,
    "start_time": "2024-04-11T13:41:29.437Z"
   },
   {
    "duration": 5,
    "start_time": "2024-04-11T13:41:33.629Z"
   },
   {
    "duration": 4,
    "start_time": "2024-04-11T13:42:00.888Z"
   },
   {
    "duration": 299,
    "start_time": "2024-04-11T13:53:39.080Z"
   },
   {
    "duration": 3,
    "start_time": "2024-04-11T13:53:41.506Z"
   },
   {
    "duration": 5,
    "start_time": "2024-04-11T13:53:42.792Z"
   },
   {
    "duration": 3,
    "start_time": "2024-04-11T13:53:49.493Z"
   },
   {
    "duration": 3,
    "start_time": "2024-04-11T13:53:50.987Z"
   },
   {
    "duration": 95,
    "start_time": "2024-04-11T13:53:53.699Z"
   },
   {
    "duration": 6,
    "start_time": "2024-04-11T13:55:16.186Z"
   },
   {
    "duration": 6,
    "start_time": "2024-04-11T13:55:35.839Z"
   },
   {
    "duration": 8,
    "start_time": "2024-04-11T13:55:49.539Z"
   },
   {
    "duration": 6,
    "start_time": "2024-04-11T13:55:51.344Z"
   },
   {
    "duration": 279,
    "start_time": "2024-04-11T13:59:13.658Z"
   },
   {
    "duration": 3,
    "start_time": "2024-04-11T13:59:15.501Z"
   },
   {
    "duration": 5,
    "start_time": "2024-04-11T13:59:16.461Z"
   },
   {
    "duration": 3,
    "start_time": "2024-04-11T13:59:17.420Z"
   },
   {
    "duration": 4,
    "start_time": "2024-04-11T13:59:21.854Z"
   },
   {
    "duration": 4,
    "start_time": "2024-04-11T13:59:22.761Z"
   },
   {
    "duration": 275,
    "start_time": "2024-04-11T13:59:33.394Z"
   },
   {
    "duration": 6,
    "start_time": "2024-04-11T13:59:34.954Z"
   },
   {
    "duration": 289,
    "start_time": "2024-04-11T14:02:23.626Z"
   },
   {
    "duration": 4,
    "start_time": "2024-04-11T14:02:24.780Z"
   },
   {
    "duration": 5,
    "start_time": "2024-04-11T14:02:25.662Z"
   },
   {
    "duration": 4,
    "start_time": "2024-04-11T14:02:26.836Z"
   },
   {
    "duration": 3,
    "start_time": "2024-04-11T14:02:27.686Z"
   },
   {
    "duration": 7,
    "start_time": "2024-04-11T14:02:32.532Z"
   },
   {
    "duration": 247,
    "start_time": "2024-04-11T14:02:52.386Z"
   },
   {
    "duration": 7,
    "start_time": "2024-04-11T14:02:53.749Z"
   },
   {
    "duration": 7,
    "start_time": "2024-04-11T14:02:54.856Z"
   },
   {
    "duration": 3,
    "start_time": "2024-04-11T14:02:55.879Z"
   },
   {
    "duration": 3,
    "start_time": "2024-04-11T14:02:56.751Z"
   },
   {
    "duration": 6,
    "start_time": "2024-04-11T14:02:57.924Z"
   },
   {
    "duration": 288,
    "start_time": "2024-04-11T14:03:05.693Z"
   },
   {
    "duration": 6,
    "start_time": "2024-04-11T14:03:07.065Z"
   },
   {
    "duration": 275,
    "start_time": "2024-04-11T14:03:47.774Z"
   },
   {
    "duration": 3,
    "start_time": "2024-04-11T14:03:51.854Z"
   },
   {
    "duration": 4,
    "start_time": "2024-04-11T14:03:52.965Z"
   },
   {
    "duration": 4,
    "start_time": "2024-04-11T14:03:54.149Z"
   },
   {
    "duration": 5,
    "start_time": "2024-04-11T14:03:55.154Z"
   },
   {
    "duration": 5,
    "start_time": "2024-04-11T14:03:56.835Z"
   },
   {
    "duration": 114,
    "start_time": "2024-04-11T14:04:48.971Z"
   },
   {
    "duration": 6,
    "start_time": "2024-04-11T14:05:07.562Z"
   },
   {
    "duration": 252,
    "start_time": "2024-04-11T14:05:24.078Z"
   },
   {
    "duration": 5,
    "start_time": "2024-04-11T14:05:25.326Z"
   },
   {
    "duration": 5,
    "start_time": "2024-04-11T14:05:34.713Z"
   },
   {
    "duration": 83,
    "start_time": "2024-04-11T14:13:55.842Z"
   },
   {
    "duration": 1769,
    "start_time": "2024-04-12T13:13:18.456Z"
   },
   {
    "duration": 1713,
    "start_time": "2024-04-12T13:13:37.057Z"
   },
   {
    "duration": 29,
    "start_time": "2024-04-12T13:13:45.664Z"
   },
   {
    "duration": 14,
    "start_time": "2024-04-12T13:13:46.733Z"
   },
   {
    "duration": 16,
    "start_time": "2024-04-12T13:13:47.829Z"
   },
   {
    "duration": 56,
    "start_time": "2024-04-12T13:13:56.380Z"
   },
   {
    "duration": 22,
    "start_time": "2024-04-12T13:13:57.412Z"
   },
   {
    "duration": 61,
    "start_time": "2024-04-12T13:14:02.718Z"
   },
   {
    "duration": 18,
    "start_time": "2024-04-12T13:14:03.778Z"
   },
   {
    "duration": 58,
    "start_time": "2024-04-12T13:14:08.269Z"
   },
   {
    "duration": 18,
    "start_time": "2024-04-12T13:14:09.260Z"
   },
   {
    "duration": 63,
    "start_time": "2024-04-12T13:14:17.818Z"
   },
   {
    "duration": 6,
    "start_time": "2024-04-12T13:14:18.899Z"
   },
   {
    "duration": 8,
    "start_time": "2024-04-12T13:14:20.025Z"
   },
   {
    "duration": 7,
    "start_time": "2024-04-12T13:14:25.685Z"
   },
   {
    "duration": 9,
    "start_time": "2024-04-12T13:14:29.971Z"
   },
   {
    "duration": 11,
    "start_time": "2024-04-12T13:14:31.409Z"
   },
   {
    "duration": 18,
    "start_time": "2024-04-12T13:14:35.710Z"
   },
   {
    "duration": 12,
    "start_time": "2024-04-12T13:14:37.503Z"
   },
   {
    "duration": 21,
    "start_time": "2024-04-12T13:14:55.309Z"
   },
   {
    "duration": 4,
    "start_time": "2024-04-12T13:14:56.506Z"
   },
   {
    "duration": 9,
    "start_time": "2024-04-12T13:14:57.717Z"
   },
   {
    "duration": 8,
    "start_time": "2024-04-12T13:15:02.777Z"
   },
   {
    "duration": 13,
    "start_time": "2024-04-12T13:15:04.086Z"
   },
   {
    "duration": 13,
    "start_time": "2024-04-12T13:15:08.379Z"
   },
   {
    "duration": 13,
    "start_time": "2024-04-12T13:15:09.795Z"
   },
   {
    "duration": 23,
    "start_time": "2024-04-12T13:15:14.166Z"
   },
   {
    "duration": 9,
    "start_time": "2024-04-12T13:15:15.163Z"
   },
   {
    "duration": 12,
    "start_time": "2024-04-12T13:15:16.417Z"
   },
   {
    "duration": 13,
    "start_time": "2024-04-12T13:15:20.239Z"
   },
   {
    "duration": 11,
    "start_time": "2024-04-12T13:15:21.940Z"
   },
   {
    "duration": 5,
    "start_time": "2024-04-12T13:15:29.591Z"
   },
   {
    "duration": 312,
    "start_time": "2024-04-12T13:15:31.045Z"
   },
   {
    "duration": 4,
    "start_time": "2024-04-12T13:15:35.529Z"
   },
   {
    "duration": 348,
    "start_time": "2024-04-12T13:15:37.159Z"
   },
   {
    "duration": 5,
    "start_time": "2024-04-12T13:15:41.514Z"
   },
   {
    "duration": 343,
    "start_time": "2024-04-12T13:15:42.497Z"
   },
   {
    "duration": 3,
    "start_time": "2024-04-12T13:15:51.680Z"
   },
   {
    "duration": 4,
    "start_time": "2024-04-12T13:15:56.833Z"
   },
   {
    "duration": 4,
    "start_time": "2024-04-12T13:15:57.921Z"
   },
   {
    "duration": 3,
    "start_time": "2024-04-12T13:36:35.445Z"
   },
   {
    "duration": 1605,
    "start_time": "2024-04-12T13:38:15.028Z"
   },
   {
    "duration": 3,
    "start_time": "2024-04-12T13:39:31.592Z"
   },
   {
    "duration": 14,
    "start_time": "2024-04-12T13:39:41.404Z"
   },
   {
    "duration": 10,
    "start_time": "2024-04-12T13:41:27.731Z"
   },
   {
    "duration": 10,
    "start_time": "2024-04-12T13:42:46.903Z"
   },
   {
    "duration": 22,
    "start_time": "2024-04-12T13:42:52.345Z"
   },
   {
    "duration": 6,
    "start_time": "2024-04-12T13:42:57.295Z"
   },
   {
    "duration": 23,
    "start_time": "2024-04-12T13:43:04.138Z"
   },
   {
    "duration": 14,
    "start_time": "2024-04-12T13:43:32.799Z"
   },
   {
    "duration": 12,
    "start_time": "2024-04-12T13:43:42.744Z"
   },
   {
    "duration": 6,
    "start_time": "2024-04-12T13:44:28.775Z"
   },
   {
    "duration": 22,
    "start_time": "2024-04-12T13:44:31.242Z"
   },
   {
    "duration": 21,
    "start_time": "2024-04-12T13:44:59.542Z"
   },
   {
    "duration": 16,
    "start_time": "2024-04-12T13:45:36.242Z"
   },
   {
    "duration": 30,
    "start_time": "2024-04-12T13:45:48.574Z"
   },
   {
    "duration": 121,
    "start_time": "2024-04-12T13:46:09.437Z"
   },
   {
    "duration": 13,
    "start_time": "2024-04-12T13:46:28.532Z"
   },
   {
    "duration": 14,
    "start_time": "2024-04-12T13:46:34.707Z"
   },
   {
    "duration": 13,
    "start_time": "2024-04-12T13:46:51.090Z"
   },
   {
    "duration": 5,
    "start_time": "2024-04-12T13:48:02.530Z"
   },
   {
    "duration": 6,
    "start_time": "2024-04-12T13:48:32.986Z"
   },
   {
    "duration": 921,
    "start_time": "2024-04-12T13:49:50.102Z"
   },
   {
    "duration": 4,
    "start_time": "2024-04-12T13:49:52.100Z"
   },
   {
    "duration": 6,
    "start_time": "2024-04-12T13:49:53.357Z"
   },
   {
    "duration": 3,
    "start_time": "2024-04-12T13:49:57.305Z"
   },
   {
    "duration": 4,
    "start_time": "2024-04-12T13:49:58.435Z"
   },
   {
    "duration": 5,
    "start_time": "2024-04-12T13:49:59.869Z"
   },
   {
    "duration": 291,
    "start_time": "2024-04-12T13:59:28.264Z"
   },
   {
    "duration": 6,
    "start_time": "2024-04-12T13:59:30.037Z"
   },
   {
    "duration": 6,
    "start_time": "2024-04-12T13:59:44.710Z"
   },
   {
    "duration": 928,
    "start_time": "2024-04-12T14:01:25.599Z"
   },
   {
    "duration": 3,
    "start_time": "2024-04-12T14:01:26.845Z"
   },
   {
    "duration": 6,
    "start_time": "2024-04-12T14:01:30.156Z"
   },
   {
    "duration": 4,
    "start_time": "2024-04-12T14:01:31.456Z"
   },
   {
    "duration": 5,
    "start_time": "2024-04-12T14:01:32.649Z"
   },
   {
    "duration": 4,
    "start_time": "2024-04-12T14:01:34.280Z"
   },
   {
    "duration": 281,
    "start_time": "2024-04-12T14:02:08.664Z"
   },
   {
    "duration": 5,
    "start_time": "2024-04-12T14:02:21.822Z"
   },
   {
    "duration": 5,
    "start_time": "2024-04-12T14:05:00.232Z"
   },
   {
    "duration": 7,
    "start_time": "2024-04-12T14:05:29.720Z"
   },
   {
    "duration": 12,
    "start_time": "2024-04-12T14:07:28.104Z"
   },
   {
    "duration": 4,
    "start_time": "2024-04-12T14:08:21.697Z"
   },
   {
    "duration": 5,
    "start_time": "2024-04-12T14:08:22.868Z"
   },
   {
    "duration": 923,
    "start_time": "2024-04-12T14:16:09.085Z"
   },
   {
    "duration": 3,
    "start_time": "2024-04-12T14:16:10.391Z"
   },
   {
    "duration": 6,
    "start_time": "2024-04-12T14:16:13.893Z"
   },
   {
    "duration": 3,
    "start_time": "2024-04-12T14:16:15.799Z"
   },
   {
    "duration": 3,
    "start_time": "2024-04-12T14:16:17.000Z"
   },
   {
    "duration": 4,
    "start_time": "2024-04-12T14:16:17.939Z"
   },
   {
    "duration": 103,
    "start_time": "2024-04-12T14:18:36.869Z"
   },
   {
    "duration": 13,
    "start_time": "2024-04-12T14:30:30.274Z"
   },
   {
    "duration": 4,
    "start_time": "2024-04-12T14:30:51.654Z"
   },
   {
    "duration": 12,
    "start_time": "2024-04-12T14:31:08.805Z"
   },
   {
    "duration": 4,
    "start_time": "2024-04-12T14:31:19.112Z"
   },
   {
    "duration": 1007,
    "start_time": "2024-04-12T14:31:37.344Z"
   },
   {
    "duration": 3,
    "start_time": "2024-04-12T14:31:38.444Z"
   },
   {
    "duration": 5,
    "start_time": "2024-04-12T14:31:39.242Z"
   },
   {
    "duration": 3,
    "start_time": "2024-04-12T14:31:44.296Z"
   },
   {
    "duration": 4,
    "start_time": "2024-04-12T14:31:45.390Z"
   },
   {
    "duration": 4,
    "start_time": "2024-04-12T14:31:46.294Z"
   },
   {
    "duration": 1513,
    "start_time": "2024-04-12T14:32:04.527Z"
   },
   {
    "duration": 467,
    "start_time": "2024-04-12T14:32:06.064Z"
   },
   {
    "duration": 20,
    "start_time": "2024-04-12T14:32:14.182Z"
   },
   {
    "duration": 13,
    "start_time": "2024-04-12T14:32:15.226Z"
   },
   {
    "duration": 16,
    "start_time": "2024-04-12T14:32:16.948Z"
   },
   {
    "duration": 63,
    "start_time": "2024-04-12T14:32:28.572Z"
   },
   {
    "duration": 17,
    "start_time": "2024-04-12T14:32:29.872Z"
   },
   {
    "duration": 47,
    "start_time": "2024-04-12T14:32:35.653Z"
   },
   {
    "duration": 18,
    "start_time": "2024-04-12T14:32:36.938Z"
   },
   {
    "duration": 44,
    "start_time": "2024-04-12T14:32:41.928Z"
   },
   {
    "duration": 17,
    "start_time": "2024-04-12T14:32:43.170Z"
   },
   {
    "duration": 24,
    "start_time": "2024-04-12T14:32:49.086Z"
   },
   {
    "duration": 5,
    "start_time": "2024-04-12T14:32:50.270Z"
   },
   {
    "duration": 8,
    "start_time": "2024-04-12T14:32:51.676Z"
   },
   {
    "duration": 7,
    "start_time": "2024-04-12T14:32:56.468Z"
   },
   {
    "duration": 9,
    "start_time": "2024-04-12T14:32:57.796Z"
   },
   {
    "duration": 12,
    "start_time": "2024-04-12T14:33:02.136Z"
   },
   {
    "duration": 14,
    "start_time": "2024-04-12T14:33:03.634Z"
   },
   {
    "duration": 14,
    "start_time": "2024-04-12T14:33:07.706Z"
   },
   {
    "duration": 14,
    "start_time": "2024-04-12T14:33:09.160Z"
   },
   {
    "duration": 4,
    "start_time": "2024-04-12T14:33:10.289Z"
   },
   {
    "duration": 7,
    "start_time": "2024-04-12T14:33:15.175Z"
   },
   {
    "duration": 8,
    "start_time": "2024-04-12T14:33:16.297Z"
   },
   {
    "duration": 12,
    "start_time": "2024-04-12T14:33:17.539Z"
   },
   {
    "duration": 14,
    "start_time": "2024-04-12T14:33:21.669Z"
   },
   {
    "duration": 14,
    "start_time": "2024-04-12T14:33:22.862Z"
   },
   {
    "duration": 13,
    "start_time": "2024-04-12T14:33:28.248Z"
   },
   {
    "duration": 8,
    "start_time": "2024-04-12T14:33:29.221Z"
   },
   {
    "duration": 12,
    "start_time": "2024-04-12T14:33:30.338Z"
   },
   {
    "duration": 13,
    "start_time": "2024-04-12T14:33:34.658Z"
   },
   {
    "duration": 11,
    "start_time": "2024-04-12T14:33:35.716Z"
   },
   {
    "duration": 5,
    "start_time": "2024-04-12T14:33:46.058Z"
   },
   {
    "duration": 323,
    "start_time": "2024-04-12T14:33:47.174Z"
   },
   {
    "duration": 5,
    "start_time": "2024-04-12T14:33:51.593Z"
   },
   {
    "duration": 341,
    "start_time": "2024-04-12T14:33:52.836Z"
   },
   {
    "duration": 5,
    "start_time": "2024-04-12T14:33:57.859Z"
   },
   {
    "duration": 352,
    "start_time": "2024-04-12T14:33:58.878Z"
   },
   {
    "duration": 3,
    "start_time": "2024-04-12T14:34:04.038Z"
   },
   {
    "duration": 4,
    "start_time": "2024-04-12T14:34:08.210Z"
   },
   {
    "duration": 4,
    "start_time": "2024-04-12T14:34:09.460Z"
   },
   {
    "duration": 4,
    "start_time": "2024-04-12T14:34:14.372Z"
   },
   {
    "duration": 12,
    "start_time": "2024-04-12T14:34:20.020Z"
   },
   {
    "duration": 115,
    "start_time": "2024-04-12T14:34:21.262Z"
   },
   {
    "duration": 11,
    "start_time": "2024-04-12T14:36:00.996Z"
   },
   {
    "duration": 5,
    "start_time": "2024-04-12T14:36:01.951Z"
   },
   {
    "duration": 12,
    "start_time": "2024-04-12T14:36:15.893Z"
   },
   {
    "duration": 10,
    "start_time": "2024-04-12T14:36:26.724Z"
   },
   {
    "duration": 5,
    "start_time": "2024-04-12T14:36:27.587Z"
   },
   {
    "duration": 13,
    "start_time": "2024-04-12T14:36:34.577Z"
   },
   {
    "duration": 10,
    "start_time": "2024-04-12T14:36:49.695Z"
   },
   {
    "duration": 5,
    "start_time": "2024-04-12T14:36:50.756Z"
   },
   {
    "duration": 995,
    "start_time": "2024-04-12T14:36:57.308Z"
   },
   {
    "duration": 3,
    "start_time": "2024-04-12T14:36:58.942Z"
   },
   {
    "duration": 5,
    "start_time": "2024-04-12T14:37:01.119Z"
   },
   {
    "duration": 3,
    "start_time": "2024-04-12T14:37:02.187Z"
   },
   {
    "duration": 4,
    "start_time": "2024-04-12T14:37:06.126Z"
   },
   {
    "duration": 4,
    "start_time": "2024-04-12T14:37:07.115Z"
   },
   {
    "duration": 910,
    "start_time": "2024-04-12T14:37:25.184Z"
   },
   {
    "duration": 3,
    "start_time": "2024-04-12T14:37:26.546Z"
   },
   {
    "duration": 5,
    "start_time": "2024-04-12T14:37:27.684Z"
   },
   {
    "duration": 3,
    "start_time": "2024-04-12T14:37:32.646Z"
   },
   {
    "duration": 3,
    "start_time": "2024-04-12T14:37:33.736Z"
   },
   {
    "duration": 4,
    "start_time": "2024-04-12T14:37:34.392Z"
   },
   {
    "duration": 4,
    "start_time": "2024-04-12T14:37:35.310Z"
   },
   {
    "duration": 13,
    "start_time": "2024-04-12T14:37:54.741Z"
   },
   {
    "duration": 887,
    "start_time": "2024-04-12T14:37:56.979Z"
   },
   {
    "duration": 4,
    "start_time": "2024-04-12T14:37:58.270Z"
   },
   {
    "duration": 5,
    "start_time": "2024-04-12T14:38:01.998Z"
   },
   {
    "duration": 3,
    "start_time": "2024-04-12T14:38:02.981Z"
   },
   {
    "duration": 4,
    "start_time": "2024-04-12T14:38:03.757Z"
   },
   {
    "duration": 4,
    "start_time": "2024-04-12T14:38:04.442Z"
   }
  ],
  "kernelspec": {
   "display_name": "Python 3 (ipykernel)",
   "language": "python",
   "name": "python3"
  },
  "language_info": {
   "codemirror_mode": {
    "name": "ipython",
    "version": 3
   },
   "file_extension": ".py",
   "mimetype": "text/x-python",
   "name": "python",
   "nbconvert_exporter": "python",
   "pygments_lexer": "ipython3",
   "version": "3.11.5"
  },
  "toc": {
   "base_numbering": 1,
   "nav_menu": {},
   "number_sections": true,
   "sideBar": true,
   "skip_h1_title": true,
   "title_cell": "Table of Contents",
   "title_sidebar": "Contents",
   "toc_cell": false,
   "toc_position": {},
   "toc_section_display": true,
   "toc_window_display": false
  }
 },
 "nbformat": 4,
 "nbformat_minor": 2
}
